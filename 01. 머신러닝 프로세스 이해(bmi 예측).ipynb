{
 "cells": [
  {
   "cell_type": "markdown",
   "id": "7cadd841",
   "metadata": {},
   "source": [
    "## 머신러닝\n",
    "\n",
    "### 머신러닝이란?\n",
    "\n",
    "- 데이터(과거)를 기반으로 학습을 시켜 예측, 판단(미래)을 수행하는 기법\n",
    "- 통계학, 데이터마이닝, 컴퓨터비전(간단히 말해 사진)이 어우러진 분야\n",
    "\n"
   ]
  },
  {
   "cell_type": "markdown",
   "id": "90b35228",
   "metadata": {},
   "source": [
    "- 문제데이터 : X, 특성, 독립변수...\n",
    "- 정답데이터 : y, 라벨, 타겟, 종속변수..."
   ]
  },
  {
   "cell_type": "markdown",
   "id": "4ac49ea8",
   "metadata": {},
   "source": [
    "### 머신러닝 종류\n",
    "\n",
    "1. 지도학습(Supervised Learning)\n",
    "- 데이터에 대한 Label(정답)이 주어진 상태에서 컴퓨터를 학습시키는 방법\n",
    "- 예측하려는 값이 어떤지에 따라 분류와 회귀로 나뉨\n",
    "    - 분류(Classification) : 예측하려는 값이 범주형 데이터인 경우. 다중분류와 이진분류로 나뉨.\n",
    "        - 스팸메일 분류, MBTI 유형 분류, 성별 분류 등\n",
    "    - 회귀(Regression) : 예측하려는 값이 연속형 데이터인 경우\n",
    "        - 주가 예측, 집 가격 예측 등\n",
    "\n",
    "2. 비지도학습(Unsupervised Learning)\n",
    "- 데이터에 대한 Label(정답)이 없는 상태에서 컴퓨터를 학습시키는 방법\n",
    "- 데이터의 숨겨진 특성, 구조, 패턴을 파악하는 데 활용\n",
    "- 클러스터링(Clustering/군집화), 차원축소(Dimensionality Reduction) 등\n",
    "\n",
    "3. 강화학습(Reinforcement Learning)\n",
    "- 지도학습과 유사하나, Label(답)을 제공하지는 않음.\n",
    "- 더 많은 보상을 얻을 수 있는 방향으로 행동을 학습\n",
    "- 게임이나 로봇을 학습시키는데 많이 사용"
   ]
  },
  {
   "cell_type": "markdown",
   "id": "2f119b94",
   "metadata": {},
   "source": [
    "### 머신러닝 프로세스\n",
    "\n",
    "1. 문제정의 -> 예측하려는 값을 정의(가능하면 구체적으로)\n",
    "    - 현재 필요한 솔루션의 구성 파악\n",
    "    - 지도, 비지도, 강화 선택\n",
    "        - 지도 - 분류, 회귀 선택\n",
    "2. 데이터 수집\n",
    "    - File, Database, Web Crawler, IoT센서, 설문조사, API 등등...\n",
    "3. EDA(Exploratory Data Analysis, 탐색적 데이터 분석)\n",
    "    - 분석적 접근, 기술통계를 통한 상관관계 파악, 그래프 확인\n",
    "    - 시각화\n",
    "4. 데이터 전처리\n",
    "    1. 결측치 제거 및 대체\n",
    "    2. 이상치 제거 및 대체\n",
    "    3. 변수 처리(불필요한 컬럼 제거, 필요시 파생변수 추가, 인코딩(범주형 -> 수치형) 등. 여기서의 변수는 각각의 Series를 의미.)\n",
    "    4. 데이터 분리(학습용 데이터와 평가용 데이터로 x값을 분리 - 모델링 시에만 진행)\n",
    "    \n",
    "cf) 3단계, 4단계는 순서 바뀌어도 상관없다.\n",
    "\n",
    "<모델링>\n",
    "\n",
    "5. Model 선택 및 Hyper Parameter(model의 성능을 개선하기 위해 사람이 직접 넣는 parameter)\n",
    "    - 최적의 모델 선택 및 최적의 Hyper Parameter 선택 단계\n",
    "    \n",
    "6. Model 학습(Training)\n",
    "    - fit() : 학습\n",
    "\n",
    "7. Model 평가(Evaluation)\n",
    "    - score() : 평가\n",
    "    - 분류와 회귀의 평가지표 서로 상이"
   ]
  },
  {
   "cell_type": "markdown",
   "id": "89ae80bf",
   "metadata": {},
   "source": [
    "#### 원하는 위치에 커서 올려두고 ctrl + shift + '-' : 셀 분할\n",
    "#### shift 누른 상태로 셀 다중선택하고 shift + m(merge) : 셀 병합"
   ]
  },
  {
   "cell_type": "markdown",
   "id": "5bc545b4",
   "metadata": {},
   "source": [
    "### 1. 문제정의\n",
    "- 500명의 키, 몸무게 데이터를 활용해서 비만도를 판별하는 모델 생성\n",
    "- 목적 : 머신러닝 프로세스 이해\n",
    "- Class : 정답의 고유값\n",
    "    - Extreme Obesity : 고도비만\n",
    "    - Obesity : 비만\n",
    "    - Overweight : 과체중\n",
    "    - Normal : 정상\n",
    "    - Weak : 저체중\n",
    "    - Extremely Weak: 심한 저체중\n",
    "    \n",
    "- 다중분류 진행\n",
    "    - 이진분류 : 2가지의 클래스를 분류\n",
    "    - 다중분류 : 3가지 이상의 클래스를 분류"
   ]
  },
  {
   "cell_type": "markdown",
   "id": "dcd89b9c",
   "metadata": {},
   "source": [
    "### 2. 데이터 수집"
   ]
  },
  {
   "cell_type": "code",
   "execution_count": null,
   "id": "4db3345f",
   "metadata": {},
   "outputs": [],
   "source": [
    "#!pip install sklearn\n",
    "    #사이킷런 설치 명령\n",
    "    #앞의 !는 파이썬 언어가 아니라는 뜻"
   ]
  },
  {
   "cell_type": "code",
   "execution_count": 40,
   "id": "4e3611d1",
   "metadata": {},
   "outputs": [],
   "source": [
    "# 필요한 라이브러리 불러오기\n",
    "import pandas as pd\n",
    "import matplotlib.pyplot as plt\n",
    "\n",
    "#머신러닝 패키지\n",
    "from sklearn.neighbors import KNeighborsClassifier #K-최근접이웃(KNN) 분류모델\n",
    "#from sklearn.neighbors import KNeighborsRegressor KNN 회귀모델\n",
    "\n",
    "from sklearn.metrics import accuracy_score # 정확도 측정도구"
   ]
  },
  {
   "cell_type": "code",
   "execution_count": 41,
   "id": "68990d19",
   "metadata": {
    "collapsed": true
   },
   "outputs": [
    {
     "data": {
      "text/plain": [
       "['__SKLEARN_SETUP__',\n",
       " '__all__',\n",
       " '__builtins__',\n",
       " '__cached__',\n",
       " '__check_build',\n",
       " '__doc__',\n",
       " '__file__',\n",
       " '__loader__',\n",
       " '__name__',\n",
       " '__package__',\n",
       " '__path__',\n",
       " '__spec__',\n",
       " '__version__',\n",
       " '_config',\n",
       " '_distributor_init',\n",
       " '_loss',\n",
       " 'base',\n",
       " 'clone',\n",
       " 'config_context',\n",
       " 'decomposition',\n",
       " 'exceptions',\n",
       " 'externals',\n",
       " 'get_config',\n",
       " 'linear_model',\n",
       " 'logger',\n",
       " 'logging',\n",
       " 'metrics',\n",
       " 'model_selection',\n",
       " 'neighbors',\n",
       " 'os',\n",
       " 'preprocessing',\n",
       " 'random',\n",
       " 'set_config',\n",
       " 'setup_module',\n",
       " 'show_versions',\n",
       " 'svm',\n",
       " 'sys',\n",
       " 'utils']"
      ]
     },
     "execution_count": 41,
     "metadata": {},
     "output_type": "execute_result"
    }
   ],
   "source": [
    "# 라이브러리의 내부 구성요소 알아보는 dir()함수\n",
    "import sklearn\n",
    "dir(sklearn)\n",
    "\n",
    "##cf) 빅분기에서는 Tab자동완성 지원 안 하므로 dir()함수 애용하자"
   ]
  },
  {
   "cell_type": "code",
   "execution_count": 7,
   "id": "0f147f1f",
   "metadata": {
    "collapsed": true
   },
   "outputs": [
    {
     "data": {
      "text/html": [
       "<div>\n",
       "<style scoped>\n",
       "    .dataframe tbody tr th:only-of-type {\n",
       "        vertical-align: middle;\n",
       "    }\n",
       "\n",
       "    .dataframe tbody tr th {\n",
       "        vertical-align: top;\n",
       "    }\n",
       "\n",
       "    .dataframe thead th {\n",
       "        text-align: right;\n",
       "    }\n",
       "</style>\n",
       "<table border=\"1\" class=\"dataframe\">\n",
       "  <thead>\n",
       "    <tr style=\"text-align: right;\">\n",
       "      <th></th>\n",
       "      <th>Gender</th>\n",
       "      <th>Height</th>\n",
       "      <th>Weight</th>\n",
       "    </tr>\n",
       "    <tr>\n",
       "      <th>Label</th>\n",
       "      <th></th>\n",
       "      <th></th>\n",
       "      <th></th>\n",
       "    </tr>\n",
       "  </thead>\n",
       "  <tbody>\n",
       "    <tr>\n",
       "      <th>Obesity</th>\n",
       "      <td>Male</td>\n",
       "      <td>174</td>\n",
       "      <td>96</td>\n",
       "    </tr>\n",
       "    <tr>\n",
       "      <th>Normal</th>\n",
       "      <td>Male</td>\n",
       "      <td>189</td>\n",
       "      <td>87</td>\n",
       "    </tr>\n",
       "    <tr>\n",
       "      <th>Obesity</th>\n",
       "      <td>Female</td>\n",
       "      <td>185</td>\n",
       "      <td>110</td>\n",
       "    </tr>\n",
       "    <tr>\n",
       "      <th>Overweight</th>\n",
       "      <td>Female</td>\n",
       "      <td>195</td>\n",
       "      <td>104</td>\n",
       "    </tr>\n",
       "    <tr>\n",
       "      <th>Overweight</th>\n",
       "      <td>Male</td>\n",
       "      <td>149</td>\n",
       "      <td>61</td>\n",
       "    </tr>\n",
       "    <tr>\n",
       "      <th>...</th>\n",
       "      <td>...</td>\n",
       "      <td>...</td>\n",
       "      <td>...</td>\n",
       "    </tr>\n",
       "    <tr>\n",
       "      <th>Extreme Obesity</th>\n",
       "      <td>Female</td>\n",
       "      <td>150</td>\n",
       "      <td>153</td>\n",
       "    </tr>\n",
       "    <tr>\n",
       "      <th>Obesity</th>\n",
       "      <td>Female</td>\n",
       "      <td>184</td>\n",
       "      <td>121</td>\n",
       "    </tr>\n",
       "    <tr>\n",
       "      <th>Extreme Obesity</th>\n",
       "      <td>Female</td>\n",
       "      <td>141</td>\n",
       "      <td>136</td>\n",
       "    </tr>\n",
       "    <tr>\n",
       "      <th>Extreme Obesity</th>\n",
       "      <td>Male</td>\n",
       "      <td>150</td>\n",
       "      <td>95</td>\n",
       "    </tr>\n",
       "    <tr>\n",
       "      <th>Extreme Obesity</th>\n",
       "      <td>Male</td>\n",
       "      <td>173</td>\n",
       "      <td>131</td>\n",
       "    </tr>\n",
       "  </tbody>\n",
       "</table>\n",
       "<p>500 rows × 3 columns</p>\n",
       "</div>"
      ],
      "text/plain": [
       "                 Gender  Height  Weight\n",
       "Label                                  \n",
       "Obesity            Male     174      96\n",
       "Normal             Male     189      87\n",
       "Obesity          Female     185     110\n",
       "Overweight       Female     195     104\n",
       "Overweight         Male     149      61\n",
       "...                 ...     ...     ...\n",
       "Extreme Obesity  Female     150     153\n",
       "Obesity          Female     184     121\n",
       "Extreme Obesity  Female     141     136\n",
       "Extreme Obesity    Male     150      95\n",
       "Extreme Obesity    Male     173     131\n",
       "\n",
       "[500 rows x 3 columns]"
      ]
     },
     "execution_count": 7,
     "metadata": {},
     "output_type": "execute_result"
    }
   ],
   "source": [
    "# 데이터 불러오기\n",
    "# index_col = '컬럼명' : 컬럼을 index로 설정\n",
    "data = pd.read_csv(\"./data/bmi_500.csv\", index_col=\"Label\")\n",
    "data"
   ]
  },
  {
   "cell_type": "markdown",
   "id": "2e3493fd",
   "metadata": {},
   "source": [
    "### 3. EDA(Exploratory Data Analysis)"
   ]
  },
  {
   "cell_type": "markdown",
   "id": "0ecbdd0b",
   "metadata": {},
   "source": [
    "### 4. 데이터 전처리"
   ]
  },
  {
   "cell_type": "code",
   "execution_count": 10,
   "id": "cd829ee4",
   "metadata": {
    "collapsed": true
   },
   "outputs": [
    {
     "name": "stdout",
     "output_type": "stream",
     "text": [
      "<class 'pandas.core.frame.DataFrame'>\n",
      "Index: 500 entries, Obesity to Extreme Obesity\n",
      "Data columns (total 3 columns):\n",
      " #   Column  Non-Null Count  Dtype \n",
      "---  ------  --------------  ----- \n",
      " 0   Gender  500 non-null    object\n",
      " 1   Height  500 non-null    int64 \n",
      " 2   Weight  500 non-null    int64 \n",
      "dtypes: int64(2), object(1)\n",
      "memory usage: 15.6+ KB\n"
     ]
    }
   ],
   "source": [
    "#.info()\n",
    "#데이터 정보를 빠르게 확인\n",
    "#전체 행의 개수, 열의 개수나 컬럼 정보 #\n",
    "#결측치 여부 등\n",
    "\n",
    "data.info()\n",
    "\n",
    "#현재 데이터는 결측치가 없다!"
   ]
  },
  {
   "cell_type": "code",
   "execution_count": null,
   "id": "dacaa0ac",
   "metadata": {},
   "outputs": [],
   "source": [
    "#4분위수 : 데이터의 분포를 가장 작은 수부터 큰 수로 나열하여 4등분한 결과값\n",
    "#25% = Q1, 제1사분위수\n",
    "#50% = Q2, 제2사분위수, 중앙값\n",
    "#75% = Q3, 제3사분위수\n",
    "#100% = Q4, 제4사분위수\n",
    "\n",
    "#기술통계에서 가장 자주 보는 것 : 평균, 중앙값, 최빈값\n",
    "#수치 데이터 : 평균, 중앙값\n",
    "    #평균은 극단치 때문에 왜곡될 가능성이 있으므로 중앙값도 보는 것.\n",
    "    #평균값과 중앙값 차이가 크면 이상치 있다는 판단 가능.\n",
    "# 문자 데이터 : 최빈값"
   ]
  },
  {
   "cell_type": "code",
   "execution_count": 12,
   "id": "5fd96cfa",
   "metadata": {
    "collapsed": true
   },
   "outputs": [
    {
     "data": {
      "text/html": [
       "<div>\n",
       "<style scoped>\n",
       "    .dataframe tbody tr th:only-of-type {\n",
       "        vertical-align: middle;\n",
       "    }\n",
       "\n",
       "    .dataframe tbody tr th {\n",
       "        vertical-align: top;\n",
       "    }\n",
       "\n",
       "    .dataframe thead th {\n",
       "        text-align: right;\n",
       "    }\n",
       "</style>\n",
       "<table border=\"1\" class=\"dataframe\">\n",
       "  <thead>\n",
       "    <tr style=\"text-align: right;\">\n",
       "      <th></th>\n",
       "      <th>count</th>\n",
       "      <th>mean</th>\n",
       "      <th>std</th>\n",
       "      <th>min</th>\n",
       "      <th>25%</th>\n",
       "      <th>50%</th>\n",
       "      <th>75%</th>\n",
       "      <th>max</th>\n",
       "    </tr>\n",
       "  </thead>\n",
       "  <tbody>\n",
       "    <tr>\n",
       "      <th>Height</th>\n",
       "      <td>500.0</td>\n",
       "      <td>169.944</td>\n",
       "      <td>16.375261</td>\n",
       "      <td>140.0</td>\n",
       "      <td>156.0</td>\n",
       "      <td>170.5</td>\n",
       "      <td>184.0</td>\n",
       "      <td>199.0</td>\n",
       "    </tr>\n",
       "    <tr>\n",
       "      <th>Weight</th>\n",
       "      <td>500.0</td>\n",
       "      <td>106.000</td>\n",
       "      <td>32.382607</td>\n",
       "      <td>50.0</td>\n",
       "      <td>80.0</td>\n",
       "      <td>106.0</td>\n",
       "      <td>136.0</td>\n",
       "      <td>160.0</td>\n",
       "    </tr>\n",
       "  </tbody>\n",
       "</table>\n",
       "</div>"
      ],
      "text/plain": [
       "        count     mean        std    min    25%    50%    75%    max\n",
       "Height  500.0  169.944  16.375261  140.0  156.0  170.5  184.0  199.0\n",
       "Weight  500.0  106.000  32.382607   50.0   80.0  106.0  136.0  160.0"
      ]
     },
     "execution_count": 12,
     "metadata": {},
     "output_type": "execute_result"
    }
   ],
   "source": [
    "#통계는 기술통계와 추론통계로 나뉨\n",
    "#.describe() : 기술통계량을 확인할 수 있는 함수\n",
    "#기술통계량 -> 수치데이터들의 요약본\n",
    "data.describe()\n",
    "data.describe().T #전치해서 보기\n",
    "\n",
    "#cnt : 개수\n",
    "#mean : 평균\n",
    "#std : 표준편차\n",
    "#min : 최소값\n",
    "#25~75% : 위 셀 참조\n",
    "#max : 최대값"
   ]
  },
  {
   "cell_type": "code",
   "execution_count": 13,
   "id": "0d1883f5",
   "metadata": {
    "collapsed": true
   },
   "outputs": [
    {
     "data": {
      "text/html": [
       "<div>\n",
       "<style scoped>\n",
       "    .dataframe tbody tr th:only-of-type {\n",
       "        vertical-align: middle;\n",
       "    }\n",
       "\n",
       "    .dataframe tbody tr th {\n",
       "        vertical-align: top;\n",
       "    }\n",
       "\n",
       "    .dataframe thead th {\n",
       "        text-align: right;\n",
       "    }\n",
       "</style>\n",
       "<table border=\"1\" class=\"dataframe\">\n",
       "  <thead>\n",
       "    <tr style=\"text-align: right;\">\n",
       "      <th></th>\n",
       "      <th>count</th>\n",
       "      <th>unique</th>\n",
       "      <th>top</th>\n",
       "      <th>freq</th>\n",
       "    </tr>\n",
       "  </thead>\n",
       "  <tbody>\n",
       "    <tr>\n",
       "      <th>Gender</th>\n",
       "      <td>500</td>\n",
       "      <td>2</td>\n",
       "      <td>Female</td>\n",
       "      <td>255</td>\n",
       "    </tr>\n",
       "  </tbody>\n",
       "</table>\n",
       "</div>"
      ],
      "text/plain": [
       "       count unique     top freq\n",
       "Gender   500      2  Female  255"
      ]
     },
     "execution_count": 13,
     "metadata": {},
     "output_type": "execute_result"
    }
   ],
   "source": [
    "data.describe(include='object').T\n",
    "#include 속성 설정을 통해 수치데이터만이 아닌 문자데이터 요약본 확인 가능\n",
    "#unique : 고유값(여기서는 남/녀)\n",
    "#top : 최빈데이터\n",
    "#freq : 최빈데이터의 빈도(개수) = 최빈값"
   ]
  },
  {
   "cell_type": "code",
   "execution_count": 22,
   "id": "6821ce01",
   "metadata": {},
   "outputs": [
    {
     "data": {
      "text/plain": [
       "pandas.core.indexes.base.Index"
      ]
     },
     "execution_count": 22,
     "metadata": {},
     "output_type": "execute_result"
    }
   ],
   "source": [
    "data.index.unique()"
   ]
  },
  {
   "cell_type": "code",
   "execution_count": 20,
   "id": "08f34876",
   "metadata": {
    "collapsed": true
   },
   "outputs": [
    {
     "data": {
      "image/png": "[encoded data removed]",
      "text/plain": [
       "<Figure size 640x480 with 1 Axes>"
      ]
     },
     "metadata": {},
     "output_type": "display_data"
    }
   ],
   "source": [
    "# 시각화(bmi 클래스별로 분포 현황 시각화)\n",
    "#산점도(scatter)\n",
    "#고도비만(Extreme Obesity)\n",
    "E0 = data.loc[\"Extreme Obesity\"] #인덱서의 행,열 순서에서 열은 생략 가능\n",
    "\n",
    "#scatter(x축, y축)\n",
    "plt.scatter(E0['Height'],E0['Weight'], color = \"purple\", label = 'Ext Ob')\n",
    "\n",
    "#범례 표시 - label을 시각적으로 표기\n",
    "plt.legend()\n",
    "\n",
    "plt.show()\n",
    "\n"
   ]
  },
  {
   "cell_type": "code",
   "execution_count": 2,
   "id": "92c5974c",
   "metadata": {},
   "outputs": [],
   "source": [
    "#함수 정의\n",
    "def graph_draw(label, c) :\n",
    "    E0 = data.loc[label] \n",
    "    plt.scatter(E0['Height'],E0['Weight'], color = c, label = label)"
   ]
  },
  {
   "cell_type": "markdown",
   "id": "835d80eb",
   "metadata": {},
   "source": [
    "    - Extreme Obesity : 고도비만\n",
    "    - Obesity : 비만\n",
    "    - Overweight : 과체중\n",
    "    - Normal : 정상\n",
    "    - Weak : 저체중\n",
    "    - Extremely Weak: 심한 저체중"
   ]
  },
  {
   "cell_type": "code",
   "execution_count": 19,
   "id": "c4ea8dcf",
   "metadata": {
    "collapsed": true
   },
   "outputs": [
    {
     "data": {
      "image/png": "[encoded data removed]",
      "text/plain": [
       "<Figure size 640x480 with 1 Axes>"
      ]
     },
     "metadata": {},
     "output_type": "display_data"
    }
   ],
   "source": [
    "#함수 호출하기\n",
    "\n",
    "#각 라벨에 따른 색상 지정\n",
    "label_color = [\"red\",'orange','yellow','green','blue','purple']\n",
    "\n",
    "#enumerate() : 인덱스 번호와 value를 함께 추출할 때 쓰는 함수\n",
    "\n",
    "# for i,label in enumerate(data.index.unique()): \n",
    "#     print(i)\n",
    "#     print(label)\n",
    "\n",
    "#위 셀 순서대로 정렬하려면? 직접 라벨 순서대로 작성\n",
    "\n",
    "label_list = ['Extreme Obesity','Obesity','Overweight','Normal',\n",
    "              'Weak','Extremely Weak']\n",
    "\n",
    "for i,label in enumerate(label_list): \n",
    "#     print(i)\n",
    "#     print(label)\n",
    "    graph_draw(label,label_color[i])\n",
    "plt.legend()\n",
    "plt.show()\n"
   ]
  },
  {
   "cell_type": "code",
   "execution_count": 20,
   "id": "73bf6e6b",
   "metadata": {
    "collapsed": true
   },
   "outputs": [
    {
     "data": {
      "text/html": [
       "<div>\n",
       "<style scoped>\n",
       "    .dataframe tbody tr th:only-of-type {\n",
       "        vertical-align: middle;\n",
       "    }\n",
       "\n",
       "    .dataframe tbody tr th {\n",
       "        vertical-align: top;\n",
       "    }\n",
       "\n",
       "    .dataframe thead th {\n",
       "        text-align: right;\n",
       "    }\n",
       "</style>\n",
       "<table border=\"1\" class=\"dataframe\">\n",
       "  <thead>\n",
       "    <tr style=\"text-align: right;\">\n",
       "      <th></th>\n",
       "      <th>Gender</th>\n",
       "      <th>Height</th>\n",
       "      <th>Weight</th>\n",
       "    </tr>\n",
       "    <tr>\n",
       "      <th>Label</th>\n",
       "      <th></th>\n",
       "      <th></th>\n",
       "      <th></th>\n",
       "    </tr>\n",
       "  </thead>\n",
       "  <tbody>\n",
       "    <tr>\n",
       "      <th>Obesity</th>\n",
       "      <td>Male</td>\n",
       "      <td>174</td>\n",
       "      <td>96</td>\n",
       "    </tr>\n",
       "    <tr>\n",
       "      <th>Normal</th>\n",
       "      <td>Male</td>\n",
       "      <td>189</td>\n",
       "      <td>87</td>\n",
       "    </tr>\n",
       "    <tr>\n",
       "      <th>Obesity</th>\n",
       "      <td>Female</td>\n",
       "      <td>185</td>\n",
       "      <td>110</td>\n",
       "    </tr>\n",
       "    <tr>\n",
       "      <th>Overweight</th>\n",
       "      <td>Female</td>\n",
       "      <td>195</td>\n",
       "      <td>104</td>\n",
       "    </tr>\n",
       "    <tr>\n",
       "      <th>Overweight</th>\n",
       "      <td>Male</td>\n",
       "      <td>149</td>\n",
       "      <td>61</td>\n",
       "    </tr>\n",
       "    <tr>\n",
       "      <th>...</th>\n",
       "      <td>...</td>\n",
       "      <td>...</td>\n",
       "      <td>...</td>\n",
       "    </tr>\n",
       "    <tr>\n",
       "      <th>Extreme Obesity</th>\n",
       "      <td>Female</td>\n",
       "      <td>150</td>\n",
       "      <td>153</td>\n",
       "    </tr>\n",
       "    <tr>\n",
       "      <th>Obesity</th>\n",
       "      <td>Female</td>\n",
       "      <td>184</td>\n",
       "      <td>121</td>\n",
       "    </tr>\n",
       "    <tr>\n",
       "      <th>Extreme Obesity</th>\n",
       "      <td>Female</td>\n",
       "      <td>141</td>\n",
       "      <td>136</td>\n",
       "    </tr>\n",
       "    <tr>\n",
       "      <th>Extreme Obesity</th>\n",
       "      <td>Male</td>\n",
       "      <td>150</td>\n",
       "      <td>95</td>\n",
       "    </tr>\n",
       "    <tr>\n",
       "      <th>Extreme Obesity</th>\n",
       "      <td>Male</td>\n",
       "      <td>173</td>\n",
       "      <td>131</td>\n",
       "    </tr>\n",
       "  </tbody>\n",
       "</table>\n",
       "<p>500 rows × 3 columns</p>\n",
       "</div>"
      ],
      "text/plain": [
       "                 Gender  Height  Weight\n",
       "Label                                  \n",
       "Obesity            Male     174      96\n",
       "Normal             Male     189      87\n",
       "Obesity          Female     185     110\n",
       "Overweight       Female     195     104\n",
       "Overweight         Male     149      61\n",
       "...                 ...     ...     ...\n",
       "Extreme Obesity  Female     150     153\n",
       "Obesity          Female     184     121\n",
       "Extreme Obesity  Female     141     136\n",
       "Extreme Obesity    Male     150      95\n",
       "Extreme Obesity    Male     173     131\n",
       "\n",
       "[500 rows x 3 columns]"
      ]
     },
     "execution_count": 20,
     "metadata": {},
     "output_type": "execute_result"
    }
   ],
   "source": [
    "data"
   ]
  },
  {
   "cell_type": "markdown",
   "id": "5e6408e5",
   "metadata": {},
   "source": [
    "- 데이터 분리\n",
    "   - 문제데이터(X) : Height, Weight\n",
    "   - 정답데이터(y) : Label\n",
    "   - X를 대문자로 쓰고 y를 소문자로 쓰는 이유?\n",
    "       - X는 2차원(복수 컬럼)이고 y는 1차원(컬럼 하나)이므로"
   ]
  },
  {
   "cell_type": "code",
   "execution_count": 22,
   "id": "3d60807d",
   "metadata": {},
   "outputs": [],
   "source": [
    "#X = 문제데이터. 2차원\n",
    "#다중인덱싱 활용해서 Height, Weight 인덱싱\n",
    "#다중인덱싱은 2차원이므로 대괄호로 한 번 더 묶어줘야\n",
    "X = data[['Height','Weight']]"
   ]
  },
  {
   "cell_type": "code",
   "execution_count": 21,
   "id": "7b0e3ed0",
   "metadata": {},
   "outputs": [],
   "source": [
    "#y = 정답데이터. 1차원.\n",
    "y = data.index"
   ]
  },
  {
   "cell_type": "code",
   "execution_count": 28,
   "id": "75adedf4",
   "metadata": {},
   "outputs": [],
   "source": [
    "#train, test 분리\n",
    "#한정적인 데이터 내에서 학습하고 평가까지 해야 하므로 train과 test로 분리\n",
    "\n",
    "#훈련용 데이터셋 : 500ea 70% = 350ea\n",
    "data.shape\n",
    "\n",
    "X_train = X.iloc[:350]\n",
    "y_train = y[:350] #y는 1차원이므로 인덱싱 필요없이 슬라이싱만 하면 됨\n",
    "\n",
    "#테스트용 데이터셋 : 30% = 150ea\n",
    "\n",
    "X_test = X.iloc[350:]\n",
    "y_test = y[350:]"
   ]
  },
  {
   "cell_type": "code",
   "execution_count": 29,
   "id": "52485377",
   "metadata": {},
   "outputs": [
    {
     "data": {
      "text/plain": [
       "((350, 2), (350,), (150, 2), (150,))"
      ]
     },
     "execution_count": 29,
     "metadata": {},
     "output_type": "execute_result"
    }
   ],
   "source": [
    "#문제(X)와 정답(y) 개수가 동일한지 확인해야 한다.\n",
    "X_train.shape, y_train.shape, X_test.shape, y_test.shape # 두 개의 행 개수가 같아야"
   ]
  },
  {
   "cell_type": "markdown",
   "id": "0520c9c9",
   "metadata": {},
   "source": [
    "### 5. 모델선택 및 하이퍼파라미터 조정"
   ]
  },
  {
   "cell_type": "markdown",
   "id": "b85c344a",
   "metadata": {},
   "source": [
    "### 6. 모델학습"
   ]
  },
  {
   "cell_type": "code",
   "execution_count": 31,
   "id": "81d9347e",
   "metadata": {},
   "outputs": [
    {
     "data": {
      "text/html": [
       "<style>#sk-container-id-2 {color: black;}#sk-container-id-2 pre{padding: 0;}#sk-container-id-2 div.sk-toggleable {background-color: white;}#sk-container-id-2 label.sk-toggleable__label {cursor: pointer;display: block;width: 100%;margin-bottom: 0;padding: 0.3em;box-sizing: border-box;text-align: center;}#sk-container-id-2 label.sk-toggleable__label-arrow:before {content: \"▸\";float: left;margin-right: 0.25em;color: #696969;}#sk-container-id-2 label.sk-toggleable__label-arrow:hover:before {color: black;}#sk-container-id-2 div.sk-estimator:hover label.sk-toggleable__label-arrow:before {color: black;}#sk-container-id-2 div.sk-toggleable__content {max-height: 0;max-width: 0;overflow: hidden;text-align: left;background-color: #f0f8ff;}#sk-container-id-2 div.sk-toggleable__content pre {margin: 0.2em;color: black;border-radius: 0.25em;background-color: #f0f8ff;}#sk-container-id-2 input.sk-toggleable__control:checked~div.sk-toggleable__content {max-height: 200px;max-width: 100%;overflow: auto;}#sk-container-id-2 input.sk-toggleable__control:checked~label.sk-toggleable__label-arrow:before {content: \"▾\";}#sk-container-id-2 div.sk-estimator input.sk-toggleable__control:checked~label.sk-toggleable__label {background-color: #d4ebff;}#sk-container-id-2 div.sk-label input.sk-toggleable__control:checked~label.sk-toggleable__label {background-color: #d4ebff;}#sk-container-id-2 input.sk-hidden--visually {border: 0;clip: rect(1px 1px 1px 1px);clip: rect(1px, 1px, 1px, 1px);height: 1px;margin: -1px;overflow: hidden;padding: 0;position: absolute;width: 1px;}#sk-container-id-2 div.sk-estimator {font-family: monospace;background-color: #f0f8ff;border: 1px dotted black;border-radius: 0.25em;box-sizing: border-box;margin-bottom: 0.5em;}#sk-container-id-2 div.sk-estimator:hover {background-color: #d4ebff;}#sk-container-id-2 div.sk-parallel-item::after {content: \"\";width: 100%;border-bottom: 1px solid gray;flex-grow: 1;}#sk-container-id-2 div.sk-label:hover label.sk-toggleable__label {background-color: #d4ebff;}#sk-container-id-2 div.sk-serial::before {content: \"\";position: absolute;border-left: 1px solid gray;box-sizing: border-box;top: 0;bottom: 0;left: 50%;z-index: 0;}#sk-container-id-2 div.sk-serial {display: flex;flex-direction: column;align-items: center;background-color: white;padding-right: 0.2em;padding-left: 0.2em;position: relative;}#sk-container-id-2 div.sk-item {position: relative;z-index: 1;}#sk-container-id-2 div.sk-parallel {display: flex;align-items: stretch;justify-content: center;background-color: white;position: relative;}#sk-container-id-2 div.sk-item::before, #sk-container-id-2 div.sk-parallel-item::before {content: \"\";position: absolute;border-left: 1px solid gray;box-sizing: border-box;top: 0;bottom: 0;left: 50%;z-index: -1;}#sk-container-id-2 div.sk-parallel-item {display: flex;flex-direction: column;z-index: 1;position: relative;background-color: white;}#sk-container-id-2 div.sk-parallel-item:first-child::after {align-self: flex-end;width: 50%;}#sk-container-id-2 div.sk-parallel-item:last-child::after {align-self: flex-start;width: 50%;}#sk-container-id-2 div.sk-parallel-item:only-child::after {width: 0;}#sk-container-id-2 div.sk-dashed-wrapped {border: 1px dashed gray;margin: 0 0.4em 0.5em 0.4em;box-sizing: border-box;padding-bottom: 0.4em;background-color: white;}#sk-container-id-2 div.sk-label label {font-family: monospace;font-weight: bold;display: inline-block;line-height: 1.2em;}#sk-container-id-2 div.sk-label-container {text-align: center;}#sk-container-id-2 div.sk-container {/* jupyter's `normalize.less` sets `[hidden] { display: none; }` but bootstrap.min.css set `[hidden] { display: none !important; }` so we also need the `!important` here to be able to override the default hidden behavior on the sphinx rendered scikit-learn.org. See: https://github.com/scikit-learn/scikit-learn/issues/21755 */display: inline-block !important;position: relative;}#sk-container-id-2 div.sk-text-repr-fallback {display: none;}</style><div id=\"sk-container-id-2\" class=\"sk-top-container\"><div class=\"sk-text-repr-fallback\"><pre>KNeighborsClassifier()</pre><b>In a Jupyter environment, please rerun this cell to show the HTML representation or trust the notebook. <br />On GitHub, the HTML representation is unable to render, please try loading this page with nbviewer.org.</b></div><div class=\"sk-container\" hidden><div class=\"sk-item\"><div class=\"sk-estimator sk-toggleable\"><input class=\"sk-toggleable__control sk-hidden--visually\" id=\"sk-estimator-id-2\" type=\"checkbox\" checked><label for=\"sk-estimator-id-2\" class=\"sk-toggleable__label sk-toggleable__label-arrow\">KNeighborsClassifier</label><div class=\"sk-toggleable__content\"><pre>KNeighborsClassifier()</pre></div></div></div></div></div>"
      ],
      "text/plain": [
       "KNeighborsClassifier()"
      ]
     },
     "execution_count": 31,
     "metadata": {},
     "output_type": "execute_result"
    }
   ],
   "source": [
    "#모델 생성(초기화)\n",
    "knn_model = KNeighborsClassifier()\n",
    "knn_model"
   ]
  },
  {
   "cell_type": "code",
   "execution_count": 33,
   "id": "1c065fe7",
   "metadata": {},
   "outputs": [
    {
     "data": {
      "text/html": [
       "<style>#sk-container-id-4 {color: black;}#sk-container-id-4 pre{padding: 0;}#sk-container-id-4 div.sk-toggleable {background-color: white;}#sk-container-id-4 label.sk-toggleable__label {cursor: pointer;display: block;width: 100%;margin-bottom: 0;padding: 0.3em;box-sizing: border-box;text-align: center;}#sk-container-id-4 label.sk-toggleable__label-arrow:before {content: \"▸\";float: left;margin-right: 0.25em;color: #696969;}#sk-container-id-4 label.sk-toggleable__label-arrow:hover:before {color: black;}#sk-container-id-4 div.sk-estimator:hover label.sk-toggleable__label-arrow:before {color: black;}#sk-container-id-4 div.sk-toggleable__content {max-height: 0;max-width: 0;overflow: hidden;text-align: left;background-color: #f0f8ff;}#sk-container-id-4 div.sk-toggleable__content pre {margin: 0.2em;color: black;border-radius: 0.25em;background-color: #f0f8ff;}#sk-container-id-4 input.sk-toggleable__control:checked~div.sk-toggleable__content {max-height: 200px;max-width: 100%;overflow: auto;}#sk-container-id-4 input.sk-toggleable__control:checked~label.sk-toggleable__label-arrow:before {content: \"▾\";}#sk-container-id-4 div.sk-estimator input.sk-toggleable__control:checked~label.sk-toggleable__label {background-color: #d4ebff;}#sk-container-id-4 div.sk-label input.sk-toggleable__control:checked~label.sk-toggleable__label {background-color: #d4ebff;}#sk-container-id-4 input.sk-hidden--visually {border: 0;clip: rect(1px 1px 1px 1px);clip: rect(1px, 1px, 1px, 1px);height: 1px;margin: -1px;overflow: hidden;padding: 0;position: absolute;width: 1px;}#sk-container-id-4 div.sk-estimator {font-family: monospace;background-color: #f0f8ff;border: 1px dotted black;border-radius: 0.25em;box-sizing: border-box;margin-bottom: 0.5em;}#sk-container-id-4 div.sk-estimator:hover {background-color: #d4ebff;}#sk-container-id-4 div.sk-parallel-item::after {content: \"\";width: 100%;border-bottom: 1px solid gray;flex-grow: 1;}#sk-container-id-4 div.sk-label:hover label.sk-toggleable__label {background-color: #d4ebff;}#sk-container-id-4 div.sk-serial::before {content: \"\";position: absolute;border-left: 1px solid gray;box-sizing: border-box;top: 0;bottom: 0;left: 50%;z-index: 0;}#sk-container-id-4 div.sk-serial {display: flex;flex-direction: column;align-items: center;background-color: white;padding-right: 0.2em;padding-left: 0.2em;position: relative;}#sk-container-id-4 div.sk-item {position: relative;z-index: 1;}#sk-container-id-4 div.sk-parallel {display: flex;align-items: stretch;justify-content: center;background-color: white;position: relative;}#sk-container-id-4 div.sk-item::before, #sk-container-id-4 div.sk-parallel-item::before {content: \"\";position: absolute;border-left: 1px solid gray;box-sizing: border-box;top: 0;bottom: 0;left: 50%;z-index: -1;}#sk-container-id-4 div.sk-parallel-item {display: flex;flex-direction: column;z-index: 1;position: relative;background-color: white;}#sk-container-id-4 div.sk-parallel-item:first-child::after {align-self: flex-end;width: 50%;}#sk-container-id-4 div.sk-parallel-item:last-child::after {align-self: flex-start;width: 50%;}#sk-container-id-4 div.sk-parallel-item:only-child::after {width: 0;}#sk-container-id-4 div.sk-dashed-wrapped {border: 1px dashed gray;margin: 0 0.4em 0.5em 0.4em;box-sizing: border-box;padding-bottom: 0.4em;background-color: white;}#sk-container-id-4 div.sk-label label {font-family: monospace;font-weight: bold;display: inline-block;line-height: 1.2em;}#sk-container-id-4 div.sk-label-container {text-align: center;}#sk-container-id-4 div.sk-container {/* jupyter's `normalize.less` sets `[hidden] { display: none; }` but bootstrap.min.css set `[hidden] { display: none !important; }` so we also need the `!important` here to be able to override the default hidden behavior on the sphinx rendered scikit-learn.org. See: https://github.com/scikit-learn/scikit-learn/issues/21755 */display: inline-block !important;position: relative;}#sk-container-id-4 div.sk-text-repr-fallback {display: none;}</style><div id=\"sk-container-id-4\" class=\"sk-top-container\"><div class=\"sk-text-repr-fallback\"><pre>KNeighborsClassifier()</pre><b>In a Jupyter environment, please rerun this cell to show the HTML representation or trust the notebook. <br />On GitHub, the HTML representation is unable to render, please try loading this page with nbviewer.org.</b></div><div class=\"sk-container\" hidden><div class=\"sk-item\"><div class=\"sk-estimator sk-toggleable\"><input class=\"sk-toggleable__control sk-hidden--visually\" id=\"sk-estimator-id-4\" type=\"checkbox\" checked><label for=\"sk-estimator-id-4\" class=\"sk-toggleable__label sk-toggleable__label-arrow\">KNeighborsClassifier</label><div class=\"sk-toggleable__content\"><pre>KNeighborsClassifier()</pre></div></div></div></div></div>"
      ],
      "text/plain": [
       "KNeighborsClassifier()"
      ]
     },
     "execution_count": 33,
     "metadata": {},
     "output_type": "execute_result"
    }
   ],
   "source": [
    "#모델학습\n",
    "#모델이름.fit(학습용 문제, 학습용 답) -> 지도학습의 경우\n",
    "knn_model.fit(X_train,y_train)"
   ]
  },
  {
   "cell_type": "code",
   "execution_count": 43,
   "id": "5b790538",
   "metadata": {},
   "outputs": [],
   "source": [
    "#모델 예측\n",
    "#모델이름.predict(테스트용 문제)\n",
    "pred = knn_model.predict(X_test) #모델이 테스트용 문제에 대해 내놓은 예측값"
   ]
  },
  {
   "cell_type": "markdown",
   "id": "4249d303",
   "metadata": {},
   "source": [
    "### 7. 모델평가"
   ]
  },
  {
   "cell_type": "code",
   "execution_count": 38,
   "id": "a28e52f2",
   "metadata": {},
   "outputs": [
    {
     "data": {
      "text/plain": [
       "0.9066666666666666"
      ]
     },
     "execution_count": 38,
     "metadata": {},
     "output_type": "execute_result"
    }
   ],
   "source": [
    "#평가방법\n",
    "#1. 모델 자체에서 제공하는 평가 함수 활용 -> pred값 필요없음. test set만 넣어주면 됨\n",
    "knn_model.score(X_test,y_test)\n",
    "#결과값 : 정확도를 의미. 여기서는 약 90.67%"
   ]
  },
  {
   "cell_type": "code",
   "execution_count": 44,
   "id": "6c7219ae",
   "metadata": {
    "collapsed": true
   },
   "outputs": [
    {
     "data": {
      "text/plain": [
       "0.9066666666666666"
      ]
     },
     "execution_count": 44,
     "metadata": {},
     "output_type": "execute_result"
    }
   ],
   "source": [
    "#2. metrict 활용 -> pred 필요. \n",
    "accuracy_score(y_test,pred)\n",
    "\n",
    "#평가 방법이 나뉘는 이유\n",
    "#score()는 정확도 하나만 나옴\n",
    "#평가 지표는 정확도 외에도 정밀도,재현율 등 다양한 것이 있으며 \n",
    "#accuracy_score는 이를 제공한다."
   ]
  }
 ],
 "metadata": {
  "kernelspec": {
   "display_name": "Python 3 (ipykernel)",
   "language": "python",
   "name": "python3"
  },
  "language_info": {
   "codemirror_mode": {
    "name": "ipython",
    "version": 3
   },
   "file_extension": ".py",
   "mimetype": "text/x-python",
   "name": "python",
   "nbconvert_exporter": "python",
   "pygments_lexer": "ipython3",
   "version": "3.11.5"
  }
 },
 "nbformat": 4,
 "nbformat_minor": 5
}
