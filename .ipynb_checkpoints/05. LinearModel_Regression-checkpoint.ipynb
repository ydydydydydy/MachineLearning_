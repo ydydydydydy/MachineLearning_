{
 "cells": [
  {
   "cell_type": "markdown",
   "id": "be67b8e4",
   "metadata": {},
   "source": [
    "### 선형회귀 모델 "
   ]
  },
  {
   "cell_type": "code",
   "execution_count": 2,
   "id": "125241f1",
   "metadata": {},
   "outputs": [
    {
     "data": {
      "text/html": [
       "<div>\n",
       "<style scoped>\n",
       "    .dataframe tbody tr th:only-of-type {\n",
       "        vertical-align: middle;\n",
       "    }\n",
       "\n",
       "    .dataframe tbody tr th {\n",
       "        vertical-align: top;\n",
       "    }\n",
       "\n",
       "    .dataframe thead th {\n",
       "        text-align: right;\n",
       "    }\n",
       "</style>\n",
       "<table border=\"1\" class=\"dataframe\">\n",
       "  <thead>\n",
       "    <tr style=\"text-align: right;\">\n",
       "      <th></th>\n",
       "      <th>시간</th>\n",
       "      <th>성적</th>\n",
       "    </tr>\n",
       "  </thead>\n",
       "  <tbody>\n",
       "    <tr>\n",
       "      <th>교인</th>\n",
       "      <td>2</td>\n",
       "      <td>20</td>\n",
       "    </tr>\n",
       "    <tr>\n",
       "      <th>홍철</th>\n",
       "      <td>4</td>\n",
       "      <td>40</td>\n",
       "    </tr>\n",
       "    <tr>\n",
       "      <th>상석</th>\n",
       "      <td>8</td>\n",
       "      <td>80</td>\n",
       "    </tr>\n",
       "    <tr>\n",
       "      <th>승철</th>\n",
       "      <td>9</td>\n",
       "      <td>90</td>\n",
       "    </tr>\n",
       "  </tbody>\n",
       "</table>\n",
       "</div>"
      ],
      "text/plain": [
       "    시간  성적\n",
       "교인   2  20\n",
       "홍철   4  40\n",
       "상석   8  80\n",
       "승철   9  90"
      ]
     },
     "execution_count": 2,
     "metadata": {},
     "output_type": "execute_result"
    }
   ],
   "source": [
    "import numpy as np\n",
    "import pandas as pd\n",
    "import matplotlib.pyplot as plt\n",
    "# 데이터 생성\n",
    "data = pd.DataFrame({'시간': [2,4,8,9], '성적':[20,40,80,90]},\n",
    "                    index = ['교인','홍철','상석','승철'])\n",
    "data"
   ]
  },
  {
   "cell_type": "markdown",
   "id": "e0930ee6",
   "metadata": {},
   "source": [
    "## 선형모델을 활용\n",
    "   - 7시간 공부했을 때의 성적 예측"
   ]
  },
  {
   "cell_type": "code",
   "execution_count": null,
   "id": "23402748",
   "metadata": {},
   "outputs": [],
   "source": [
    "# 수학공식을 활요한 해석적 방법\n"
   ]
  }
 ],
 "metadata": {
  "kernelspec": {
   "display_name": "Python 3 (ipykernel)",
   "language": "python",
   "name": "python3"
  },
  "language_info": {
   "codemirror_mode": {
    "name": "ipython",
    "version": 3
   },
   "file_extension": ".py",
   "mimetype": "text/x-python",
   "name": "python",
   "nbconvert_exporter": "python",
   "pygments_lexer": "ipython3",
   "version": "3.11.5"
  }
 },
 "nbformat": 4,
 "nbformat_minor": 5
}
