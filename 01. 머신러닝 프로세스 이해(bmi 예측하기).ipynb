{
 "cells": [
  {
   "cell_type": "markdown",
   "id": "d2958fd0",
   "metadata": {},
   "source": [
    "## 머신러닝\n",
    "##### 머신러닝이란?\n",
    "- 데이터(과거)를 기반으로 학습을 시켜 예측을 수행하는 기법\n",
    "- 통계학, 데이터마이닝, 컴퓨터비전이 어우러진 분야"
   ]
  },
  {
   "cell_type": "markdown",
   "id": "3b0fdbda",
   "metadata": {},
   "source": [
    "### 머신러닝 종류\n",
    "1. 지도학습(Supervised Learning)\n",
    "- 데이터에 대한 Label(정답)이 주어진 상태에서 컴퓨터를 학습시키는 방법\n",
    "- 예측하려는 값이 어떤지에 따라 분류와 회귀로 나뉨\n",
    "    - 분류(Classification) : 예측하려는 값이 범주형 데이터인 경우\n",
    "        - 스팸메일분류, 성별 분류 등\n",
    "    - 회귀(Regression) : 예측하려는 값이 연속형 데이터인 경우\n",
    "        - 주식 예측, 집가격 예측 등\n",
    "2. 비지도학습(Unsupervised Larning)\n",
    "- 데이터에 대한 Label(정답)이 없는 상태에서 컴퓨터를 학습시키는 방법\n",
    "- 데이터의 숨겨진 특성, 구조, 패턴을 파악하는데 활용\n",
    "\n",
    "3. 강화학습(Reinforcement Learning)\n",
    "- 지도학습과 유사하나, 완전한 답(Label)을 제공하지 않음\n",
    "- 더 많은 보상을 얻을 수 있는 방향으로 행동을 학습\n",
    "- 게임이나 로봇을 학습시키는데 많이 사용"
   ]
  },
  {
   "cell_type": "markdown",
   "id": "949f692f",
   "metadata": {},
   "source": [
    "### 머신러닝 프로세스\n",
    "1. 문제정의 -> 예측하려는 값을 정의(가능하면 구체적으로)\n",
    "    - 현재 필요한 솔루션의 구성 파악\n",
    "    - 지도, 비지도, 강화 선택\n",
    "    - 지도 - 분류, 회귀 선택\n",
    "2. 데이터 수집\n",
    "    - File, Database, Web Crawler, IoT센서, 설문조사, API 등...\n",
    "3. EDA(탐색적 데이터 분석)\n",
    "    - 분석적 접근, 기술통계를 통한 상관관계, 그래프 확인\n",
    "    - 시각화\n",
    "4. 데이터 전처리\n",
    "    1. 결측치 제거 및 대체\n",
    "    2. 이상치 제거 및 대체\n",
    "    3. 변수처리(불필요시 컬럼 제거, 필요시 파생변수 추가, 인코딩(범주형 -> 수치령) 등)\n",
    "    4. 데이터 분리(모델링 시에만 진행)\n",
    "\n",
    "5. Model 선택 및 Hyper Parameter(셋팅값)\n",
    "    - 최적의 모델 선택 및 최적의 Hyper Parameter 선택\n",
    "6. Model 학습(Training)\n",
    "    - fit()\n",
    "7. Model 평가(Evaluation)\n",
    "    - score(): 평가\n",
    "    - 분류와 회귀의 평가지표는 서로 상이!"
   ]
  },
  {
   "cell_type": "code",
   "execution_count": 1,
   "id": "ed6b16e0",
   "metadata": {},
   "outputs": [],
   "source": [
    "# 원하는 위치에 커서 올려두고 Ctrl + Shift + '-'\n",
    "# 셀 합치고자 하는 경우 Shift + m"
   ]
  },
  {
   "cell_type": "markdown",
   "id": "fb9e22d5",
   "metadata": {},
   "source": [
    "#### 1. 문제정의"
   ]
  },
  {
   "cell_type": "markdown",
   "id": "233f9698",
   "metadata": {},
   "source": [
    "- 500명의 키, 몸무게 데이터를 활용해서 비만도를 판별하는 모델 생성\n",
    "- 머신러닝 프로세스 이해\n",
    "- Class: 정답의 고유값\n",
    "    - Extreme Obesity : 고도 비만\n",
    "    - Obesity : 비만\n",
    "    - Overweight : 과체중\n",
    "    - Normal : 정상\n",
    "    - Weak : 저체중\n",
    "    - Extremely Weak : 심한 저체중\n",
    "- 다중분류 진행\n",
    "    - 이진분류 : 2가지의 클래스를 분류\n",
    "    - "
   ]
  },
  {
   "cell_type": "markdown",
   "id": "479e2249",
   "metadata": {},
   "source": [
    "#### 2. 데이터 수집"
   ]
  },
  {
   "cell_type": "code",
   "execution_count": 1,
   "id": "8aef692e",
   "metadata": {},
   "outputs": [],
   "source": [
    " import pandas as pd\n",
    " import matplotlib.pyplot as plt\n",
    "\n",
    "# 머신러닝 패키지\n",
    "from sklearn.neighbors import KNeighborsClassifier # KNN 분류모델\n",
    "from sklearn.metrics import accuracy_score # 정확도 측정 도구"
   ]
  },
  {
   "cell_type": "code",
   "execution_count": 2,
   "id": "82f2d5cd",
   "metadata": {},
   "outputs": [
    {
     "data": {
      "text/html": [
       "<div>\n",
       "<style scoped>\n",
       "    .dataframe tbody tr th:only-of-type {\n",
       "        vertical-align: middle;\n",
       "    }\n",
       "\n",
       "    .dataframe tbody tr th {\n",
       "        vertical-align: top;\n",
       "    }\n",
       "\n",
       "    .dataframe thead th {\n",
       "        text-align: right;\n",
       "    }\n",
       "</style>\n",
       "<table border=\"1\" class=\"dataframe\">\n",
       "  <thead>\n",
       "    <tr style=\"text-align: right;\">\n",
       "      <th></th>\n",
       "      <th>Gender</th>\n",
       "      <th>Height</th>\n",
       "      <th>Weight</th>\n",
       "    </tr>\n",
       "    <tr>\n",
       "      <th>Label</th>\n",
       "      <th></th>\n",
       "      <th></th>\n",
       "      <th></th>\n",
       "    </tr>\n",
       "  </thead>\n",
       "  <tbody>\n",
       "    <tr>\n",
       "      <th>Obesity</th>\n",
       "      <td>Male</td>\n",
       "      <td>174</td>\n",
       "      <td>96</td>\n",
       "    </tr>\n",
       "    <tr>\n",
       "      <th>Normal</th>\n",
       "      <td>Male</td>\n",
       "      <td>189</td>\n",
       "      <td>87</td>\n",
       "    </tr>\n",
       "    <tr>\n",
       "      <th>Obesity</th>\n",
       "      <td>Female</td>\n",
       "      <td>185</td>\n",
       "      <td>110</td>\n",
       "    </tr>\n",
       "    <tr>\n",
       "      <th>Overweight</th>\n",
       "      <td>Female</td>\n",
       "      <td>195</td>\n",
       "      <td>104</td>\n",
       "    </tr>\n",
       "    <tr>\n",
       "      <th>Overweight</th>\n",
       "      <td>Male</td>\n",
       "      <td>149</td>\n",
       "      <td>61</td>\n",
       "    </tr>\n",
       "    <tr>\n",
       "      <th>...</th>\n",
       "      <td>...</td>\n",
       "      <td>...</td>\n",
       "      <td>...</td>\n",
       "    </tr>\n",
       "    <tr>\n",
       "      <th>Extreme Obesity</th>\n",
       "      <td>Female</td>\n",
       "      <td>150</td>\n",
       "      <td>153</td>\n",
       "    </tr>\n",
       "    <tr>\n",
       "      <th>Obesity</th>\n",
       "      <td>Female</td>\n",
       "      <td>184</td>\n",
       "      <td>121</td>\n",
       "    </tr>\n",
       "    <tr>\n",
       "      <th>Extreme Obesity</th>\n",
       "      <td>Female</td>\n",
       "      <td>141</td>\n",
       "      <td>136</td>\n",
       "    </tr>\n",
       "    <tr>\n",
       "      <th>Extreme Obesity</th>\n",
       "      <td>Male</td>\n",
       "      <td>150</td>\n",
       "      <td>95</td>\n",
       "    </tr>\n",
       "    <tr>\n",
       "      <th>Extreme Obesity</th>\n",
       "      <td>Male</td>\n",
       "      <td>173</td>\n",
       "      <td>131</td>\n",
       "    </tr>\n",
       "  </tbody>\n",
       "</table>\n",
       "<p>500 rows × 3 columns</p>\n",
       "</div>"
      ],
      "text/plain": [
       "                 Gender  Height  Weight\n",
       "Label                                  \n",
       "Obesity            Male     174      96\n",
       "Normal             Male     189      87\n",
       "Obesity          Female     185     110\n",
       "Overweight       Female     195     104\n",
       "Overweight         Male     149      61\n",
       "...                 ...     ...     ...\n",
       "Extreme Obesity  Female     150     153\n",
       "Obesity          Female     184     121\n",
       "Extreme Obesity  Female     141     136\n",
       "Extreme Obesity    Male     150      95\n",
       "Extreme Obesity    Male     173     131\n",
       "\n",
       "[500 rows x 3 columns]"
      ]
     },
     "execution_count": 2,
     "metadata": {},
     "output_type": "execute_result"
    }
   ],
   "source": [
    "# 데이터 불러오기\n",
    "# index_col = '컬럼명' : 컬럼을 index로 설정\n",
    "data = pd.read_csv(\"./data/bmi_500.csv\", index_col=\"Label\")\n",
    "data"
   ]
  },
  {
   "cell_type": "markdown",
   "id": "5feaa60e",
   "metadata": {},
   "source": [
    "#### 3. EDA\n",
    "\n",
    "#### 4. 데이터전처리"
   ]
  },
  {
   "cell_type": "code",
   "execution_count": 3,
   "id": "3f3db43d",
   "metadata": {
    "scrolled": true
   },
   "outputs": [
    {
     "name": "stdout",
     "output_type": "stream",
     "text": [
      "<class 'pandas.core.frame.DataFrame'>\n",
      "Index: 500 entries, Obesity to Extreme Obesity\n",
      "Data columns (total 3 columns):\n",
      " #   Column  Non-Null Count  Dtype \n",
      "---  ------  --------------  ----- \n",
      " 0   Gender  500 non-null    object\n",
      " 1   Height  500 non-null    int64 \n",
      " 2   Weight  500 non-null    int64 \n",
      "dtypes: int64(2), object(1)\n",
      "memory usage: 15.6+ KB\n"
     ]
    }
   ],
   "source": [
    "data.info()\n",
    "# DataFrame의 정보 확인\n",
    "# 전체 행의 개수, 열의 개수나 컬럼 정보\n",
    "# 결측치 여부 등\n",
    "# 현재 데이터는 결측치 없음!"
   ]
  },
  {
   "cell_type": "code",
   "execution_count": 19,
   "id": "ba3680a5",
   "metadata": {},
   "outputs": [],
   "source": [
    "# 4분위수 : 데이터의 분포를 작은 수부터 큰 수로 나열하여 4듣분 한 결과\n",
    "# 25% = Q1, 제 1사분위수\n",
    "# 50% = 중앙값, Q2, 제 2사분위수\n",
    "#75% = Q3, 제 3사분위수\n",
    "# 100% = Q4, 제 4사분위수\n",
    "# 평균, 중앙값, 최빈값\n",
    "# 수치 데이터 : 평균, 중앙값\n",
    "# 문자 데이터 : 최빈값"
   ]
  },
  {
   "cell_type": "code",
   "execution_count": 4,
   "id": "0de57200",
   "metadata": {},
   "outputs": [
    {
     "data": {
      "text/html": [
       "<div>\n",
       "<style scoped>\n",
       "    .dataframe tbody tr th:only-of-type {\n",
       "        vertical-align: middle;\n",
       "    }\n",
       "\n",
       "    .dataframe tbody tr th {\n",
       "        vertical-align: top;\n",
       "    }\n",
       "\n",
       "    .dataframe thead th {\n",
       "        text-align: right;\n",
       "    }\n",
       "</style>\n",
       "<table border=\"1\" class=\"dataframe\">\n",
       "  <thead>\n",
       "    <tr style=\"text-align: right;\">\n",
       "      <th></th>\n",
       "      <th>count</th>\n",
       "      <th>mean</th>\n",
       "      <th>std</th>\n",
       "      <th>min</th>\n",
       "      <th>25%</th>\n",
       "      <th>50%</th>\n",
       "      <th>75%</th>\n",
       "      <th>max</th>\n",
       "    </tr>\n",
       "  </thead>\n",
       "  <tbody>\n",
       "    <tr>\n",
       "      <th>Height</th>\n",
       "      <td>500.0</td>\n",
       "      <td>169.944</td>\n",
       "      <td>16.375261</td>\n",
       "      <td>140.0</td>\n",
       "      <td>156.0</td>\n",
       "      <td>170.5</td>\n",
       "      <td>184.0</td>\n",
       "      <td>199.0</td>\n",
       "    </tr>\n",
       "    <tr>\n",
       "      <th>Weight</th>\n",
       "      <td>500.0</td>\n",
       "      <td>106.000</td>\n",
       "      <td>32.382607</td>\n",
       "      <td>50.0</td>\n",
       "      <td>80.0</td>\n",
       "      <td>106.0</td>\n",
       "      <td>136.0</td>\n",
       "      <td>160.0</td>\n",
       "    </tr>\n",
       "  </tbody>\n",
       "</table>\n",
       "</div>"
      ],
      "text/plain": [
       "        count     mean        std    min    25%    50%    75%    max\n",
       "Height  500.0  169.944  16.375261  140.0  156.0  170.5  184.0  199.0\n",
       "Weight  500.0  106.000  32.382607   50.0   80.0  106.0  136.0  160.0"
      ]
     },
     "execution_count": 4,
     "metadata": {},
     "output_type": "execute_result"
    }
   ],
   "source": [
    "data.describe().T\n",
    "# include 속성 설정을 통해 문자 데이터에 대한 요약본 확인 가능"
   ]
  },
  {
   "cell_type": "code",
   "execution_count": 5,
   "id": "1abe6780",
   "metadata": {},
   "outputs": [
    {
     "data": {
      "text/plain": [
       "Index(['Obesity', 'Normal', 'Overweight', 'Extreme Obesity', 'Weak',\n",
       "       'Extremely Weak'],\n",
       "      dtype='object', name='Label')"
      ]
     },
     "execution_count": 5,
     "metadata": {},
     "output_type": "execute_result"
    }
   ],
   "source": [
    "data.index.unique()"
   ]
  },
  {
   "cell_type": "code",
   "execution_count": 6,
   "id": "dcabdd03",
   "metadata": {},
   "outputs": [
    {
     "data": {
      "image/png": "[encoded data removed]",
      "text/plain": [
       "<Figure size 640x480 with 1 Axes>"
      ]
     },
     "metadata": {},
     "output_type": "display_data"
    }
   ],
   "source": [
    "# 시각화 ( bmi클래스별로 분표 현황 시각화)\n",
    "# 산점도(scatter)\n",
    "# 고도비만(Extreme Obasity)\n",
    "EO = data.loc[\"Extreme Obesity\"]\n",
    "\n",
    "# scatter(x축, y축)\n",
    "plt.scatter(EO['Height'], EO['Weight'], color = \"purple\", label=\"ext ob\")\n",
    "\n",
    "# 범례 표시\n",
    "plt.legend()\n",
    "\n",
    "plt.show()"
   ]
  },
  {
   "cell_type": "code",
   "execution_count": 7,
   "id": "dd41fa3b",
   "metadata": {},
   "outputs": [
    {
     "ename": "NameError",
     "evalue": "name 'graph_draw' is not defined",
     "output_type": "error",
     "traceback": [
      "\u001b[1;31m---------------------------------------------------------------------------\u001b[0m",
      "\u001b[1;31mNameError\u001b[0m                                 Traceback (most recent call last)",
      "Cell \u001b[1;32mIn[7], line 11\u001b[0m\n\u001b[0;32m      9\u001b[0m \u001b[38;5;66;03m# enumerate() : 인덱스 번호와 value를 함께 추출\u001b[39;00m\n\u001b[0;32m     10\u001b[0m \u001b[38;5;28;01mfor\u001b[39;00m i, label \u001b[38;5;129;01min\u001b[39;00m \u001b[38;5;28menumerate\u001b[39m(label_list) :\n\u001b[1;32m---> 11\u001b[0m     graph_draw(label, c_list[i])\n\u001b[0;32m     13\u001b[0m plt\u001b[38;5;241m.\u001b[39mshow()\n",
      "\u001b[1;31mNameError\u001b[0m: name 'graph_draw' is not defined"
     ]
    }
   ],
   "source": [
    "# 함수 호출하기\n",
    "# 각 라벨에 따른 색상 지정\n",
    "c_list = [\"red\",'orange','yellow','green','blue','purple']\n",
    "\n",
    "# index.unique()값이 정렬이 안 되어있어서, 직접 라벨 순서대로 작성\n",
    "label_list = [\"Extreme Obesity\", \"Obesity\", \"Overweight\",\n",
    "              'Normal', 'Weak', 'Extremely Weak']\n",
    "\n",
    "# enumerate() : 인덱스 번호와 value를 함께 추출\n",
    "for i, label in enumerate(label_list) :\n",
    "    graph_draw(label, c_list[i])\n",
    "\n",
    "plt.show()"
   ]
  },
  {
   "cell_type": "markdown",
   "id": "d93dfde6",
   "metadata": {},
   "source": [
    "#### 5. 모델선택 및 하이퍼파라미터 조정"
   ]
  },
  {
   "cell_type": "code",
   "execution_count": 8,
   "id": "c43c1ad9",
   "metadata": {},
   "outputs": [
    {
     "data": {
      "text/html": [
       "<style>#sk-container-id-1 {color: black;}#sk-container-id-1 pre{padding: 0;}#sk-container-id-1 div.sk-toggleable {background-color: white;}#sk-container-id-1 label.sk-toggleable__label {cursor: pointer;display: block;width: 100%;margin-bottom: 0;padding: 0.3em;box-sizing: border-box;text-align: center;}#sk-container-id-1 label.sk-toggleable__label-arrow:before {content: \"▸\";float: left;margin-right: 0.25em;color: #696969;}#sk-container-id-1 label.sk-toggleable__label-arrow:hover:before {color: black;}#sk-container-id-1 div.sk-estimator:hover label.sk-toggleable__label-arrow:before {color: black;}#sk-container-id-1 div.sk-toggleable__content {max-height: 0;max-width: 0;overflow: hidden;text-align: left;background-color: #f0f8ff;}#sk-container-id-1 div.sk-toggleable__content pre {margin: 0.2em;color: black;border-radius: 0.25em;background-color: #f0f8ff;}#sk-container-id-1 input.sk-toggleable__control:checked~div.sk-toggleable__content {max-height: 200px;max-width: 100%;overflow: auto;}#sk-container-id-1 input.sk-toggleable__control:checked~label.sk-toggleable__label-arrow:before {content: \"▾\";}#sk-container-id-1 div.sk-estimator input.sk-toggleable__control:checked~label.sk-toggleable__label {background-color: #d4ebff;}#sk-container-id-1 div.sk-label input.sk-toggleable__control:checked~label.sk-toggleable__label {background-color: #d4ebff;}#sk-container-id-1 input.sk-hidden--visually {border: 0;clip: rect(1px 1px 1px 1px);clip: rect(1px, 1px, 1px, 1px);height: 1px;margin: -1px;overflow: hidden;padding: 0;position: absolute;width: 1px;}#sk-container-id-1 div.sk-estimator {font-family: monospace;background-color: #f0f8ff;border: 1px dotted black;border-radius: 0.25em;box-sizing: border-box;margin-bottom: 0.5em;}#sk-container-id-1 div.sk-estimator:hover {background-color: #d4ebff;}#sk-container-id-1 div.sk-parallel-item::after {content: \"\";width: 100%;border-bottom: 1px solid gray;flex-grow: 1;}#sk-container-id-1 div.sk-label:hover label.sk-toggleable__label {background-color: #d4ebff;}#sk-container-id-1 div.sk-serial::before {content: \"\";position: absolute;border-left: 1px solid gray;box-sizing: border-box;top: 0;bottom: 0;left: 50%;z-index: 0;}#sk-container-id-1 div.sk-serial {display: flex;flex-direction: column;align-items: center;background-color: white;padding-right: 0.2em;padding-left: 0.2em;position: relative;}#sk-container-id-1 div.sk-item {position: relative;z-index: 1;}#sk-container-id-1 div.sk-parallel {display: flex;align-items: stretch;justify-content: center;background-color: white;position: relative;}#sk-container-id-1 div.sk-item::before, #sk-container-id-1 div.sk-parallel-item::before {content: \"\";position: absolute;border-left: 1px solid gray;box-sizing: border-box;top: 0;bottom: 0;left: 50%;z-index: -1;}#sk-container-id-1 div.sk-parallel-item {display: flex;flex-direction: column;z-index: 1;position: relative;background-color: white;}#sk-container-id-1 div.sk-parallel-item:first-child::after {align-self: flex-end;width: 50%;}#sk-container-id-1 div.sk-parallel-item:last-child::after {align-self: flex-start;width: 50%;}#sk-container-id-1 div.sk-parallel-item:only-child::after {width: 0;}#sk-container-id-1 div.sk-dashed-wrapped {border: 1px dashed gray;margin: 0 0.4em 0.5em 0.4em;box-sizing: border-box;padding-bottom: 0.4em;background-color: white;}#sk-container-id-1 div.sk-label label {font-family: monospace;font-weight: bold;display: inline-block;line-height: 1.2em;}#sk-container-id-1 div.sk-label-container {text-align: center;}#sk-container-id-1 div.sk-container {/* jupyter's `normalize.less` sets `[hidden] { display: none; }` but bootstrap.min.css set `[hidden] { display: none !important; }` so we also need the `!important` here to be able to override the default hidden behavior on the sphinx rendered scikit-learn.org. See: https://github.com/scikit-learn/scikit-learn/issues/21755 */display: inline-block !important;position: relative;}#sk-container-id-1 div.sk-text-repr-fallback {display: none;}</style><div id=\"sk-container-id-1\" class=\"sk-top-container\"><div class=\"sk-text-repr-fallback\"><pre>KNeighborsClassifier()</pre><b>In a Jupyter environment, please rerun this cell to show the HTML representation or trust the notebook. <br />On GitHub, the HTML representation is unable to render, please try loading this page with nbviewer.org.</b></div><div class=\"sk-container\" hidden><div class=\"sk-item\"><div class=\"sk-estimator sk-toggleable\"><input class=\"sk-toggleable__control sk-hidden--visually\" id=\"sk-estimator-id-1\" type=\"checkbox\" checked><label for=\"sk-estimator-id-1\" class=\"sk-toggleable__label sk-toggleable__label-arrow\">KNeighborsClassifier</label><div class=\"sk-toggleable__content\"><pre>KNeighborsClassifier()</pre></div></div></div></div></div>"
      ],
      "text/plain": [
       "KNeighborsClassifier()"
      ]
     },
     "execution_count": 8,
     "metadata": {},
     "output_type": "execute_result"
    }
   ],
   "source": [
    "# 모델 생성(초기화)\n",
    "knn_model = KNeighborsClassifier()\n",
    "knn_model"
   ]
  },
  {
   "cell_type": "code",
   "execution_count": 9,
   "id": "ac0e40ab",
   "metadata": {
    "collapsed": true
   },
   "outputs": [
    {
     "ename": "NameError",
     "evalue": "name 'X_train' is not defined",
     "output_type": "error",
     "traceback": [
      "\u001b[1;31m---------------------------------------------------------------------------\u001b[0m",
      "\u001b[1;31mNameError\u001b[0m                                 Traceback (most recent call last)",
      "Cell \u001b[1;32mIn[9], line 3\u001b[0m\n\u001b[0;32m      1\u001b[0m \u001b[38;5;66;03m# 모델학습\u001b[39;00m\n\u001b[0;32m      2\u001b[0m \u001b[38;5;66;03m# 모델이름.fit(학습용 문제, 학습용 답)\u001b[39;00m\n\u001b[1;32m----> 3\u001b[0m knn_model\u001b[38;5;241m.\u001b[39mfit(X_train, y_train)\n",
      "\u001b[1;31mNameError\u001b[0m: name 'X_train' is not defined"
     ]
    }
   ],
   "source": [
    "# 모델학습\n",
    "# 모델이름.fit(학습용 문제, 학습용 답)\n",
    "knn_model.fit(X_train, y_train)"
   ]
  },
  {
   "cell_type": "code",
   "execution_count": null,
   "id": "a807c4c2",
   "metadata": {},
   "outputs": [],
   "source": []
  },
  {
   "cell_type": "code",
   "execution_count": null,
   "id": "269b1031",
   "metadata": {},
   "outputs": [],
   "source": []
  },
  {
   "cell_type": "code",
   "execution_count": null,
   "id": "3dbaad7d",
   "metadata": {},
   "outputs": [],
   "source": []
  },
  {
   "cell_type": "code",
   "execution_count": null,
   "id": "d39c7141",
   "metadata": {},
   "outputs": [],
   "source": []
  }
 ],
 "metadata": {
  "kernelspec": {
   "display_name": "Python 3 (ipykernel)",
   "language": "python",
   "name": "python3"
  },
  "language_info": {
   "codemirror_mode": {
    "name": "ipython",
    "version": 3
   },
   "file_extension": ".py",
   "mimetype": "text/x-python",
   "name": "python",
   "nbconvert_exporter": "python",
   "pygments_lexer": "ipython3",
   "version": "3.11.5"
  }
 },
 "nbformat": 4,
 "nbformat_minor": 5
}
