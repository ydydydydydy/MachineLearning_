{
 "cells": [
  {
   "cell_type": "markdown",
   "id": "127b5e1d",
   "metadata": {},
   "source": [
    "### 목표\n",
    "- 타이타닉 데이터를 학습해서 생존/사망자 예측해 보자!\n",
    "- 머신러닝의 전체 과정을 이해하며 진행하자!\n",
    "- kaggle 경진대회에서 높은 순위를 차지해 보자!"
   ]
  },
  {
   "cell_type": "markdown",
   "id": "fac8e1d9",
   "metadata": {},
   "source": [
    "## 머신러닝 7과정"
   ]
  },
  {
   "cell_type": "markdown",
   "id": "cc824845",
   "metadata": {},
   "source": [
    "### 1. 문제정의(목표설정 / 생존자 예측)\n",
    " - 타이타닉 데이터를 학습해서 생존자와 사망자 예측"
   ]
  },
  {
   "cell_type": "markdown",
   "id": "1c8e51c6",
   "metadata": {},
   "source": [
    "### 2. 데이터 수집 (kaggle에서 다운)\n",
    "- kaggle 데이터 활용\n",
    "- train,test 불러오기"
   ]
  },
  {
   "cell_type": "code",
   "execution_count": 1,
   "id": "2fe25f5d",
   "metadata": {},
   "outputs": [],
   "source": [
    "#도구 불러오기\n",
    "import numpy as np\n",
    "import pandas as pd\n",
    "import matplotlib.pyplot as plt\n",
    "import seaborn as sns # 시각화 라이브러리(plt보다 시각적으로 좀 더 다채로움)\n"
   ]
  },
  {
   "cell_type": "code",
   "execution_count": 2,
   "id": "016bb066",
   "metadata": {},
   "outputs": [],
   "source": [
    "#titanic 트레인, 테스트 데이터 불러오기\n",
    "#변수명 train, test\n",
    "#인덱스를 'PassengerId'로 설정\n",
    "\n",
    "train = pd.read_csv('data/titanic_train.csv', index_col='PassengerId')\n",
    "test = pd.read_csv('data/titanic_test.csv', index_col='PassengerId')"
   ]
  },
  {
   "cell_type": "code",
   "execution_count": 3,
   "id": "32330296",
   "metadata": {},
   "outputs": [
    {
     "data": {
      "text/html": [
       "<div>\n",
       "<style scoped>\n",
       "    .dataframe tbody tr th:only-of-type {\n",
       "        vertical-align: middle;\n",
       "    }\n",
       "\n",
       "    .dataframe tbody tr th {\n",
       "        vertical-align: top;\n",
       "    }\n",
       "\n",
       "    .dataframe thead th {\n",
       "        text-align: right;\n",
       "    }\n",
       "</style>\n",
       "<table border=\"1\" class=\"dataframe\">\n",
       "  <thead>\n",
       "    <tr style=\"text-align: right;\">\n",
       "      <th></th>\n",
       "      <th>Survived</th>\n",
       "      <th>Pclass</th>\n",
       "      <th>Name</th>\n",
       "      <th>Sex</th>\n",
       "      <th>Age</th>\n",
       "      <th>SibSp</th>\n",
       "      <th>Parch</th>\n",
       "      <th>Ticket</th>\n",
       "      <th>Fare</th>\n",
       "      <th>Cabin</th>\n",
       "      <th>Embarked</th>\n",
       "    </tr>\n",
       "    <tr>\n",
       "      <th>PassengerId</th>\n",
       "      <th></th>\n",
       "      <th></th>\n",
       "      <th></th>\n",
       "      <th></th>\n",
       "      <th></th>\n",
       "      <th></th>\n",
       "      <th></th>\n",
       "      <th></th>\n",
       "      <th></th>\n",
       "      <th></th>\n",
       "      <th></th>\n",
       "    </tr>\n",
       "  </thead>\n",
       "  <tbody>\n",
       "    <tr>\n",
       "      <th>1</th>\n",
       "      <td>0</td>\n",
       "      <td>3</td>\n",
       "      <td>Braund, Mr. Owen Harris</td>\n",
       "      <td>male</td>\n",
       "      <td>22.0</td>\n",
       "      <td>1</td>\n",
       "      <td>0</td>\n",
       "      <td>A/5 21171</td>\n",
       "      <td>7.2500</td>\n",
       "      <td>NaN</td>\n",
       "      <td>S</td>\n",
       "    </tr>\n",
       "    <tr>\n",
       "      <th>2</th>\n",
       "      <td>1</td>\n",
       "      <td>1</td>\n",
       "      <td>Cumings, Mrs. John Bradley (Florence Briggs Th...</td>\n",
       "      <td>female</td>\n",
       "      <td>38.0</td>\n",
       "      <td>1</td>\n",
       "      <td>0</td>\n",
       "      <td>PC 17599</td>\n",
       "      <td>71.2833</td>\n",
       "      <td>C85</td>\n",
       "      <td>C</td>\n",
       "    </tr>\n",
       "    <tr>\n",
       "      <th>3</th>\n",
       "      <td>1</td>\n",
       "      <td>3</td>\n",
       "      <td>Heikkinen, Miss. Laina</td>\n",
       "      <td>female</td>\n",
       "      <td>26.0</td>\n",
       "      <td>0</td>\n",
       "      <td>0</td>\n",
       "      <td>STON/O2. 3101282</td>\n",
       "      <td>7.9250</td>\n",
       "      <td>NaN</td>\n",
       "      <td>S</td>\n",
       "    </tr>\n",
       "    <tr>\n",
       "      <th>4</th>\n",
       "      <td>1</td>\n",
       "      <td>1</td>\n",
       "      <td>Futrelle, Mrs. Jacques Heath (Lily May Peel)</td>\n",
       "      <td>female</td>\n",
       "      <td>35.0</td>\n",
       "      <td>1</td>\n",
       "      <td>0</td>\n",
       "      <td>113803</td>\n",
       "      <td>53.1000</td>\n",
       "      <td>C123</td>\n",
       "      <td>S</td>\n",
       "    </tr>\n",
       "    <tr>\n",
       "      <th>5</th>\n",
       "      <td>0</td>\n",
       "      <td>3</td>\n",
       "      <td>Allen, Mr. William Henry</td>\n",
       "      <td>male</td>\n",
       "      <td>35.0</td>\n",
       "      <td>0</td>\n",
       "      <td>0</td>\n",
       "      <td>373450</td>\n",
       "      <td>8.0500</td>\n",
       "      <td>NaN</td>\n",
       "      <td>S</td>\n",
       "    </tr>\n",
       "  </tbody>\n",
       "</table>\n",
       "</div>"
      ],
      "text/plain": [
       "             Survived  Pclass  \\\n",
       "PassengerId                     \n",
       "1                   0       3   \n",
       "2                   1       1   \n",
       "3                   1       3   \n",
       "4                   1       1   \n",
       "5                   0       3   \n",
       "\n",
       "                                                          Name     Sex   Age  \\\n",
       "PassengerId                                                                    \n",
       "1                                      Braund, Mr. Owen Harris    male  22.0   \n",
       "2            Cumings, Mrs. John Bradley (Florence Briggs Th...  female  38.0   \n",
       "3                                       Heikkinen, Miss. Laina  female  26.0   \n",
       "4                 Futrelle, Mrs. Jacques Heath (Lily May Peel)  female  35.0   \n",
       "5                                     Allen, Mr. William Henry    male  35.0   \n",
       "\n",
       "             SibSp  Parch            Ticket     Fare Cabin Embarked  \n",
       "PassengerId                                                          \n",
       "1                1      0         A/5 21171   7.2500   NaN        S  \n",
       "2                1      0          PC 17599  71.2833   C85        C  \n",
       "3                0      0  STON/O2. 3101282   7.9250   NaN        S  \n",
       "4                1      0            113803  53.1000  C123        S  \n",
       "5                0      0            373450   8.0500   NaN        S  "
      ]
     },
     "metadata": {},
     "output_type": "display_data"
    },
    {
     "data": {
      "text/html": [
       "<div>\n",
       "<style scoped>\n",
       "    .dataframe tbody tr th:only-of-type {\n",
       "        vertical-align: middle;\n",
       "    }\n",
       "\n",
       "    .dataframe tbody tr th {\n",
       "        vertical-align: top;\n",
       "    }\n",
       "\n",
       "    .dataframe thead th {\n",
       "        text-align: right;\n",
       "    }\n",
       "</style>\n",
       "<table border=\"1\" class=\"dataframe\">\n",
       "  <thead>\n",
       "    <tr style=\"text-align: right;\">\n",
       "      <th></th>\n",
       "      <th>Pclass</th>\n",
       "      <th>Name</th>\n",
       "      <th>Sex</th>\n",
       "      <th>Age</th>\n",
       "      <th>SibSp</th>\n",
       "      <th>Parch</th>\n",
       "      <th>Ticket</th>\n",
       "      <th>Fare</th>\n",
       "      <th>Cabin</th>\n",
       "      <th>Embarked</th>\n",
       "    </tr>\n",
       "    <tr>\n",
       "      <th>PassengerId</th>\n",
       "      <th></th>\n",
       "      <th></th>\n",
       "      <th></th>\n",
       "      <th></th>\n",
       "      <th></th>\n",
       "      <th></th>\n",
       "      <th></th>\n",
       "      <th></th>\n",
       "      <th></th>\n",
       "      <th></th>\n",
       "    </tr>\n",
       "  </thead>\n",
       "  <tbody>\n",
       "    <tr>\n",
       "      <th>892</th>\n",
       "      <td>3</td>\n",
       "      <td>Kelly, Mr. James</td>\n",
       "      <td>male</td>\n",
       "      <td>34.5</td>\n",
       "      <td>0</td>\n",
       "      <td>0</td>\n",
       "      <td>330911</td>\n",
       "      <td>7.8292</td>\n",
       "      <td>NaN</td>\n",
       "      <td>Q</td>\n",
       "    </tr>\n",
       "    <tr>\n",
       "      <th>893</th>\n",
       "      <td>3</td>\n",
       "      <td>Wilkes, Mrs. James (Ellen Needs)</td>\n",
       "      <td>female</td>\n",
       "      <td>47.0</td>\n",
       "      <td>1</td>\n",
       "      <td>0</td>\n",
       "      <td>363272</td>\n",
       "      <td>7.0000</td>\n",
       "      <td>NaN</td>\n",
       "      <td>S</td>\n",
       "    </tr>\n",
       "    <tr>\n",
       "      <th>894</th>\n",
       "      <td>2</td>\n",
       "      <td>Myles, Mr. Thomas Francis</td>\n",
       "      <td>male</td>\n",
       "      <td>62.0</td>\n",
       "      <td>0</td>\n",
       "      <td>0</td>\n",
       "      <td>240276</td>\n",
       "      <td>9.6875</td>\n",
       "      <td>NaN</td>\n",
       "      <td>Q</td>\n",
       "    </tr>\n",
       "    <tr>\n",
       "      <th>895</th>\n",
       "      <td>3</td>\n",
       "      <td>Wirz, Mr. Albert</td>\n",
       "      <td>male</td>\n",
       "      <td>27.0</td>\n",
       "      <td>0</td>\n",
       "      <td>0</td>\n",
       "      <td>315154</td>\n",
       "      <td>8.6625</td>\n",
       "      <td>NaN</td>\n",
       "      <td>S</td>\n",
       "    </tr>\n",
       "    <tr>\n",
       "      <th>896</th>\n",
       "      <td>3</td>\n",
       "      <td>Hirvonen, Mrs. Alexander (Helga E Lindqvist)</td>\n",
       "      <td>female</td>\n",
       "      <td>22.0</td>\n",
       "      <td>1</td>\n",
       "      <td>1</td>\n",
       "      <td>3101298</td>\n",
       "      <td>12.2875</td>\n",
       "      <td>NaN</td>\n",
       "      <td>S</td>\n",
       "    </tr>\n",
       "  </tbody>\n",
       "</table>\n",
       "</div>"
      ],
      "text/plain": [
       "             Pclass                                          Name     Sex  \\\n",
       "PassengerId                                                                 \n",
       "892               3                              Kelly, Mr. James    male   \n",
       "893               3              Wilkes, Mrs. James (Ellen Needs)  female   \n",
       "894               2                     Myles, Mr. Thomas Francis    male   \n",
       "895               3                              Wirz, Mr. Albert    male   \n",
       "896               3  Hirvonen, Mrs. Alexander (Helga E Lindqvist)  female   \n",
       "\n",
       "              Age  SibSp  Parch   Ticket     Fare Cabin Embarked  \n",
       "PassengerId                                                       \n",
       "892          34.5      0      0   330911   7.8292   NaN        Q  \n",
       "893          47.0      1      0   363272   7.0000   NaN        S  \n",
       "894          62.0      0      0   240276   9.6875   NaN        Q  \n",
       "895          27.0      0      0   315154   8.6625   NaN        S  \n",
       "896          22.0      1      1  3101298  12.2875   NaN        S  "
      ]
     },
     "execution_count": 3,
     "metadata": {},
     "output_type": "execute_result"
    }
   ],
   "source": [
    "display(train.head())\n",
    "test.head()"
   ]
  },
  {
   "attachments": {
    "image.png": {
     "image/png": "[encoded data removed]"
    }
   },
   "cell_type": "markdown",
   "id": "f570e6f8",
   "metadata": {},
   "source": [
    "![image.png](attachment:image.png)"
   ]
  },
  {
   "cell_type": "code",
   "execution_count": 4,
   "id": "53c19ca5",
   "metadata": {},
   "outputs": [
    {
     "name": "stdout",
     "output_type": "stream",
     "text": [
      "훈련용 데이터 :  (891, 11)\n",
      "테스트용 데이터 :  (418, 10)\n"
     ]
    }
   ],
   "source": [
    "#데이터 크기확인\n",
    "print(\"훈련용 데이터 : \",train.shape)\n",
    "print(\"테스트용 데이터 : \",test.shape)\n",
    "\n",
    "#컬럼 수가 다른 이유? 테스트용에 답(y)이 없으므로. kaggle 대회 제출용이기 때문.\n",
    "#test_y는 캐글이 가지고 있는 것. 바로 아래 같은 모양!"
   ]
  },
  {
   "attachments": {
    "image.png": {
     "image/png": "[encoded data removed]"
    }
   },
   "cell_type": "markdown",
   "id": "f33e3591",
   "metadata": {},
   "source": [
    "![image.png](attachment:image.png)"
   ]
  },
  {
   "cell_type": "markdown",
   "id": "cc1efd03",
   "metadata": {},
   "source": [
    "### 3. 데이터 전처리\n",
    "- 결측치, 이상치 제거"
   ]
  },
  {
   "cell_type": "code",
   "execution_count": 5,
   "id": "7dc84787",
   "metadata": {},
   "outputs": [
    {
     "name": "stdout",
     "output_type": "stream",
     "text": [
      "<class 'pandas.core.frame.DataFrame'>\n",
      "Index: 891 entries, 1 to 891\n",
      "Data columns (total 11 columns):\n",
      " #   Column    Non-Null Count  Dtype  \n",
      "---  ------    --------------  -----  \n",
      " 0   Survived  891 non-null    int64  \n",
      " 1   Pclass    891 non-null    int64  \n",
      " 2   Name      891 non-null    object \n",
      " 3   Sex       891 non-null    object \n",
      " 4   Age       714 non-null    float64\n",
      " 5   SibSp     891 non-null    int64  \n",
      " 6   Parch     891 non-null    int64  \n",
      " 7   Ticket    891 non-null    object \n",
      " 8   Fare      891 non-null    float64\n",
      " 9   Cabin     204 non-null    object \n",
      " 10  Embarked  889 non-null    object \n",
      "dtypes: float64(2), int64(4), object(5)\n",
      "memory usage: 83.5+ KB\n",
      "<class 'pandas.core.frame.DataFrame'>\n",
      "Index: 418 entries, 892 to 1309\n",
      "Data columns (total 10 columns):\n",
      " #   Column    Non-Null Count  Dtype  \n",
      "---  ------    --------------  -----  \n",
      " 0   Pclass    418 non-null    int64  \n",
      " 1   Name      418 non-null    object \n",
      " 2   Sex       418 non-null    object \n",
      " 3   Age       332 non-null    float64\n",
      " 4   SibSp     418 non-null    int64  \n",
      " 5   Parch     418 non-null    int64  \n",
      " 6   Ticket    418 non-null    object \n",
      " 7   Fare      417 non-null    float64\n",
      " 8   Cabin     91 non-null     object \n",
      " 9   Embarked  418 non-null    object \n",
      "dtypes: float64(2), int64(3), object(5)\n",
      "memory usage: 35.9+ KB\n"
     ]
    }
   ],
   "source": [
    "#결측치, 이상치 확인\n",
    "train.info()\n",
    "\n",
    "test.info()\n",
    "\n",
    "#결측치가 있으면 머신러닝 학습 불가능. 채워주든가 뺴든가 해야 한다.\n",
    "#train : Age, Cabin, Embarked\n",
    "#test : Age, Cabin, Fare\n",
    "\n",
    "#데이터 타입 확인 > 머신러닝 학습을 위해 숫자형태로 변환(인코딩)"
   ]
  },
  {
   "cell_type": "markdown",
   "id": "bc53d1ac",
   "metadata": {},
   "source": [
    "- 결측치를 단순 기술통계량으로 채우지 않고 컬럼간의 특성과 상관관계를 이용해서 결측치를 채워주자!\n"
   ]
  },
  {
   "cell_type": "code",
   "execution_count": 6,
   "id": "1642f2f4",
   "metadata": {},
   "outputs": [
    {
     "data": {
      "text/plain": [
       "count    714.000000\n",
       "mean      29.699118\n",
       "std       14.526497\n",
       "min        0.420000\n",
       "25%       20.125000\n",
       "50%       28.000000\n",
       "75%       38.000000\n",
       "max       80.000000\n",
       "Name: Age, dtype: float64"
      ]
     },
     "execution_count": 6,
     "metadata": {},
     "output_type": "execute_result"
    }
   ],
   "source": [
    "#기술통계량 확인\n",
    "train['Age'].describe()\n",
    "#총 714개 데이터\n",
    "#평균 약 29 최대 80\n",
    "#앞쪽에 치우쳐져 있는 데이터 형태\n",
    "#제2사분위수(=중간치)와 평균 비슷 : 이상치는 없어 보인다."
   ]
  },
  {
   "cell_type": "code",
   "execution_count": 7,
   "id": "f2a4c22e",
   "metadata": {},
   "outputs": [
    {
     "data": {
      "text/plain": [
       "count         204\n",
       "unique        147\n",
       "top       B96 B98\n",
       "freq            4\n",
       "Name: Cabin, dtype: object"
      ]
     },
     "execution_count": 7,
     "metadata": {},
     "output_type": "execute_result"
    }
   ],
   "source": [
    "#문자열 데이터 기술통계량 확인\n",
    "train['Cabin'].describe()"
   ]
  },
  {
   "cell_type": "code",
   "execution_count": 8,
   "id": "fd308dbe",
   "metadata": {},
   "outputs": [
    {
     "data": {
      "text/html": [
       "<div>\n",
       "<style scoped>\n",
       "    .dataframe tbody tr th:only-of-type {\n",
       "        vertical-align: middle;\n",
       "    }\n",
       "\n",
       "    .dataframe tbody tr th {\n",
       "        vertical-align: top;\n",
       "    }\n",
       "\n",
       "    .dataframe thead th {\n",
       "        text-align: right;\n",
       "    }\n",
       "</style>\n",
       "<table border=\"1\" class=\"dataframe\">\n",
       "  <thead>\n",
       "    <tr style=\"text-align: right;\">\n",
       "      <th></th>\n",
       "      <th>Survived</th>\n",
       "      <th>Pclass</th>\n",
       "      <th>Name</th>\n",
       "      <th>Sex</th>\n",
       "      <th>Age</th>\n",
       "      <th>SibSp</th>\n",
       "      <th>Parch</th>\n",
       "      <th>Ticket</th>\n",
       "      <th>Fare</th>\n",
       "      <th>Cabin</th>\n",
       "      <th>Embarked</th>\n",
       "    </tr>\n",
       "    <tr>\n",
       "      <th>PassengerId</th>\n",
       "      <th></th>\n",
       "      <th></th>\n",
       "      <th></th>\n",
       "      <th></th>\n",
       "      <th></th>\n",
       "      <th></th>\n",
       "      <th></th>\n",
       "      <th></th>\n",
       "      <th></th>\n",
       "      <th></th>\n",
       "      <th></th>\n",
       "    </tr>\n",
       "  </thead>\n",
       "  <tbody>\n",
       "    <tr>\n",
       "      <th>391</th>\n",
       "      <td>1</td>\n",
       "      <td>1</td>\n",
       "      <td>Carter, Mr. William Ernest</td>\n",
       "      <td>male</td>\n",
       "      <td>36.0</td>\n",
       "      <td>1</td>\n",
       "      <td>2</td>\n",
       "      <td>113760</td>\n",
       "      <td>120.0</td>\n",
       "      <td>B96 B98</td>\n",
       "      <td>S</td>\n",
       "    </tr>\n",
       "    <tr>\n",
       "      <th>436</th>\n",
       "      <td>1</td>\n",
       "      <td>1</td>\n",
       "      <td>Carter, Miss. Lucile Polk</td>\n",
       "      <td>female</td>\n",
       "      <td>14.0</td>\n",
       "      <td>1</td>\n",
       "      <td>2</td>\n",
       "      <td>113760</td>\n",
       "      <td>120.0</td>\n",
       "      <td>B96 B98</td>\n",
       "      <td>S</td>\n",
       "    </tr>\n",
       "    <tr>\n",
       "      <th>764</th>\n",
       "      <td>1</td>\n",
       "      <td>1</td>\n",
       "      <td>Carter, Mrs. William Ernest (Lucile Polk)</td>\n",
       "      <td>female</td>\n",
       "      <td>36.0</td>\n",
       "      <td>1</td>\n",
       "      <td>2</td>\n",
       "      <td>113760</td>\n",
       "      <td>120.0</td>\n",
       "      <td>B96 B98</td>\n",
       "      <td>S</td>\n",
       "    </tr>\n",
       "    <tr>\n",
       "      <th>803</th>\n",
       "      <td>1</td>\n",
       "      <td>1</td>\n",
       "      <td>Carter, Master. William Thornton II</td>\n",
       "      <td>male</td>\n",
       "      <td>11.0</td>\n",
       "      <td>1</td>\n",
       "      <td>2</td>\n",
       "      <td>113760</td>\n",
       "      <td>120.0</td>\n",
       "      <td>B96 B98</td>\n",
       "      <td>S</td>\n",
       "    </tr>\n",
       "  </tbody>\n",
       "</table>\n",
       "</div>"
      ],
      "text/plain": [
       "             Survived  Pclass                                       Name  \\\n",
       "PassengerId                                                                \n",
       "391                 1       1                 Carter, Mr. William Ernest   \n",
       "436                 1       1                  Carter, Miss. Lucile Polk   \n",
       "764                 1       1  Carter, Mrs. William Ernest (Lucile Polk)   \n",
       "803                 1       1        Carter, Master. William Thornton II   \n",
       "\n",
       "                Sex   Age  SibSp  Parch  Ticket   Fare    Cabin Embarked  \n",
       "PassengerId                                                               \n",
       "391            male  36.0      1      2  113760  120.0  B96 B98        S  \n",
       "436          female  14.0      1      2  113760  120.0  B96 B98        S  \n",
       "764          female  36.0      1      2  113760  120.0  B96 B98        S  \n",
       "803            male  11.0      1      2  113760  120.0  B96 B98        S  "
      ]
     },
     "execution_count": 8,
     "metadata": {},
     "output_type": "execute_result"
    }
   ],
   "source": [
    "#조건을 줘서 위 B96 B98 Cabin에 묵었던 인원 확인해 보자\n",
    "#데이터 추출>인덱싱, 슬라이싱(인덱스): 인덱스를 알아야 한다. \n",
    "#인덱스 번호 현재 모름!\n",
    "#조건을 통해서 참인 값들만 추출: 불리언 인덱싱\n",
    "\n",
    "#데이터[조건]\n",
    "\n",
    "train[train['Cabin']==\"B96 B98\"]"
   ]
  },
  {
   "cell_type": "code",
   "execution_count": 9,
   "id": "08351abd",
   "metadata": {},
   "outputs": [
    {
     "data": {
      "text/plain": [
       "count     889\n",
       "unique      3\n",
       "top         S\n",
       "freq      644\n",
       "Name: Embarked, dtype: object"
      ]
     },
     "execution_count": 9,
     "metadata": {},
     "output_type": "execute_result"
    }
   ],
   "source": [
    "#탑승구 확인\n",
    "train['Embarked'].describe()\n",
    "#결측치 2개\n",
    "#가장 많이 탑승한 항구는 S"
   ]
  },
  {
   "cell_type": "code",
   "execution_count": 10,
   "id": "46d87943",
   "metadata": {},
   "outputs": [
    {
     "data": {
      "text/html": [
       "<div>\n",
       "<style scoped>\n",
       "    .dataframe tbody tr th:only-of-type {\n",
       "        vertical-align: middle;\n",
       "    }\n",
       "\n",
       "    .dataframe tbody tr th {\n",
       "        vertical-align: top;\n",
       "    }\n",
       "\n",
       "    .dataframe thead th {\n",
       "        text-align: right;\n",
       "    }\n",
       "</style>\n",
       "<table border=\"1\" class=\"dataframe\">\n",
       "  <thead>\n",
       "    <tr style=\"text-align: right;\">\n",
       "      <th></th>\n",
       "      <th>Survived</th>\n",
       "      <th>Pclass</th>\n",
       "      <th>Name</th>\n",
       "      <th>Sex</th>\n",
       "      <th>Age</th>\n",
       "      <th>SibSp</th>\n",
       "      <th>Parch</th>\n",
       "      <th>Ticket</th>\n",
       "      <th>Fare</th>\n",
       "      <th>Cabin</th>\n",
       "      <th>Embarked</th>\n",
       "    </tr>\n",
       "    <tr>\n",
       "      <th>PassengerId</th>\n",
       "      <th></th>\n",
       "      <th></th>\n",
       "      <th></th>\n",
       "      <th></th>\n",
       "      <th></th>\n",
       "      <th></th>\n",
       "      <th></th>\n",
       "      <th></th>\n",
       "      <th></th>\n",
       "      <th></th>\n",
       "      <th></th>\n",
       "    </tr>\n",
       "  </thead>\n",
       "  <tbody>\n",
       "    <tr>\n",
       "      <th>1</th>\n",
       "      <td>0</td>\n",
       "      <td>3</td>\n",
       "      <td>Braund, Mr. Owen Harris</td>\n",
       "      <td>male</td>\n",
       "      <td>22.0</td>\n",
       "      <td>1</td>\n",
       "      <td>0</td>\n",
       "      <td>A/5 21171</td>\n",
       "      <td>7.2500</td>\n",
       "      <td>NaN</td>\n",
       "      <td>S</td>\n",
       "    </tr>\n",
       "    <tr>\n",
       "      <th>3</th>\n",
       "      <td>1</td>\n",
       "      <td>3</td>\n",
       "      <td>Heikkinen, Miss. Laina</td>\n",
       "      <td>female</td>\n",
       "      <td>26.0</td>\n",
       "      <td>0</td>\n",
       "      <td>0</td>\n",
       "      <td>STON/O2. 3101282</td>\n",
       "      <td>7.9250</td>\n",
       "      <td>NaN</td>\n",
       "      <td>S</td>\n",
       "    </tr>\n",
       "    <tr>\n",
       "      <th>4</th>\n",
       "      <td>1</td>\n",
       "      <td>1</td>\n",
       "      <td>Futrelle, Mrs. Jacques Heath (Lily May Peel)</td>\n",
       "      <td>female</td>\n",
       "      <td>35.0</td>\n",
       "      <td>1</td>\n",
       "      <td>0</td>\n",
       "      <td>113803</td>\n",
       "      <td>53.1000</td>\n",
       "      <td>C123</td>\n",
       "      <td>S</td>\n",
       "    </tr>\n",
       "    <tr>\n",
       "      <th>5</th>\n",
       "      <td>0</td>\n",
       "      <td>3</td>\n",
       "      <td>Allen, Mr. William Henry</td>\n",
       "      <td>male</td>\n",
       "      <td>35.0</td>\n",
       "      <td>0</td>\n",
       "      <td>0</td>\n",
       "      <td>373450</td>\n",
       "      <td>8.0500</td>\n",
       "      <td>NaN</td>\n",
       "      <td>S</td>\n",
       "    </tr>\n",
       "    <tr>\n",
       "      <th>7</th>\n",
       "      <td>0</td>\n",
       "      <td>1</td>\n",
       "      <td>McCarthy, Mr. Timothy J</td>\n",
       "      <td>male</td>\n",
       "      <td>54.0</td>\n",
       "      <td>0</td>\n",
       "      <td>0</td>\n",
       "      <td>17463</td>\n",
       "      <td>51.8625</td>\n",
       "      <td>E46</td>\n",
       "      <td>S</td>\n",
       "    </tr>\n",
       "  </tbody>\n",
       "</table>\n",
       "</div>"
      ],
      "text/plain": [
       "             Survived  Pclass                                          Name  \\\n",
       "PassengerId                                                                   \n",
       "1                   0       3                       Braund, Mr. Owen Harris   \n",
       "3                   1       3                        Heikkinen, Miss. Laina   \n",
       "4                   1       1  Futrelle, Mrs. Jacques Heath (Lily May Peel)   \n",
       "5                   0       3                      Allen, Mr. William Henry   \n",
       "7                   0       1                       McCarthy, Mr. Timothy J   \n",
       "\n",
       "                Sex   Age  SibSp  Parch            Ticket     Fare Cabin  \\\n",
       "PassengerId                                                                \n",
       "1              male  22.0      1      0         A/5 21171   7.2500   NaN   \n",
       "3            female  26.0      0      0  STON/O2. 3101282   7.9250   NaN   \n",
       "4            female  35.0      1      0            113803  53.1000  C123   \n",
       "5              male  35.0      0      0            373450   8.0500   NaN   \n",
       "7              male  54.0      0      0             17463  51.8625   E46   \n",
       "\n",
       "            Embarked  \n",
       "PassengerId           \n",
       "1                  S  \n",
       "3                  S  \n",
       "4                  S  \n",
       "5                  S  \n",
       "7                  S  "
      ]
     },
     "execution_count": 10,
     "metadata": {},
     "output_type": "execute_result"
    }
   ],
   "source": [
    "#train 데이터에서 S항구에서 탑승한 인원 추출\n",
    "train[train['Embarked']=='S'].head()"
   ]
  },
  {
   "cell_type": "code",
   "execution_count": 11,
   "id": "003a879e",
   "metadata": {},
   "outputs": [
    {
     "data": {
      "text/plain": [
       "count    332.000000\n",
       "mean      30.272590\n",
       "std       14.181209\n",
       "min        0.170000\n",
       "25%       21.000000\n",
       "50%       27.000000\n",
       "75%       39.000000\n",
       "max       76.000000\n",
       "Name: Age, dtype: float64"
      ]
     },
     "metadata": {},
     "output_type": "display_data"
    },
    {
     "data": {
      "text/plain": [
       "count    417.000000\n",
       "mean      35.627188\n",
       "std       55.907576\n",
       "min        0.000000\n",
       "25%        7.895800\n",
       "50%       14.454200\n",
       "75%       31.500000\n",
       "max      512.329200\n",
       "Name: Fare, dtype: float64"
      ]
     },
     "metadata": {},
     "output_type": "display_data"
    },
    {
     "data": {
      "text/plain": [
       "count                  91\n",
       "unique                 76\n",
       "top       B57 B59 B63 B66\n",
       "freq                    3\n",
       "Name: Cabin, dtype: object"
      ]
     },
     "metadata": {},
     "output_type": "display_data"
    }
   ],
   "source": [
    "#test 데이터의 기술통계량(Age, Fare, Cabin)\n",
    "\n",
    "display(test['Age'].describe())\n",
    "#평균값과 중위수 차이가 적음. 앞쪽에 많이 분포된 데이터.train의 Age와 유사. 데이터 분리 잘 되어 있다!\n",
    "\n",
    "display(test['Fare'].describe())\n",
    "#평균값과 중위수 차이 큼. 다수가 낮은 요금 지불.max 값이 너무 크다. 이상치 아닐까? 의심.\n",
    "\n",
    "display(test['Cabin'].describe())\n",
    "#중복되지 않은 유일한 값들이 고루 분포. \n",
    "\n",
    "#의미가 없어보이니 컬럼을 제거할까?\n",
    "#삭제는 최후의 방법으로 사용"
   ]
  },
  {
   "cell_type": "markdown",
   "id": "5f4de732",
   "metadata": {},
   "source": [
    "#### 결측치 채우기\n",
    "    - Age 컬럼의 결측치를 채워보자!\n",
    "    - 분포 치우쳐져 있는 것을 확인 > 평균으로 채우게 되면 신뢰성 하락\n",
    "    - 다른 컬럼들과 상관관계를 이용해서 결측치를 상세하게 채워보자!"
   ]
  },
  {
   "cell_type": "code",
   "execution_count": 12,
   "id": "4c5599d2",
   "metadata": {},
   "outputs": [
    {
     "data": {
      "text/html": [
       "<div>\n",
       "<style scoped>\n",
       "    .dataframe tbody tr th:only-of-type {\n",
       "        vertical-align: middle;\n",
       "    }\n",
       "\n",
       "    .dataframe tbody tr th {\n",
       "        vertical-align: top;\n",
       "    }\n",
       "\n",
       "    .dataframe thead th {\n",
       "        text-align: right;\n",
       "    }\n",
       "</style>\n",
       "<table border=\"1\" class=\"dataframe\">\n",
       "  <thead>\n",
       "    <tr style=\"text-align: right;\">\n",
       "      <th></th>\n",
       "      <th>Survived</th>\n",
       "      <th>Pclass</th>\n",
       "      <th>Age</th>\n",
       "      <th>SibSp</th>\n",
       "      <th>Parch</th>\n",
       "      <th>Fare</th>\n",
       "    </tr>\n",
       "  </thead>\n",
       "  <tbody>\n",
       "    <tr>\n",
       "      <th>Survived</th>\n",
       "      <td>1.000000</td>\n",
       "      <td>-0.338481</td>\n",
       "      <td>-0.077221</td>\n",
       "      <td>-0.035322</td>\n",
       "      <td>0.081629</td>\n",
       "      <td>0.257307</td>\n",
       "    </tr>\n",
       "    <tr>\n",
       "      <th>Pclass</th>\n",
       "      <td>-0.338481</td>\n",
       "      <td>1.000000</td>\n",
       "      <td>-0.369226</td>\n",
       "      <td>0.083081</td>\n",
       "      <td>0.018443</td>\n",
       "      <td>-0.549500</td>\n",
       "    </tr>\n",
       "    <tr>\n",
       "      <th>Age</th>\n",
       "      <td>-0.077221</td>\n",
       "      <td>-0.369226</td>\n",
       "      <td>1.000000</td>\n",
       "      <td>-0.308247</td>\n",
       "      <td>-0.189119</td>\n",
       "      <td>0.096067</td>\n",
       "    </tr>\n",
       "    <tr>\n",
       "      <th>SibSp</th>\n",
       "      <td>-0.035322</td>\n",
       "      <td>0.083081</td>\n",
       "      <td>-0.308247</td>\n",
       "      <td>1.000000</td>\n",
       "      <td>0.414838</td>\n",
       "      <td>0.159651</td>\n",
       "    </tr>\n",
       "    <tr>\n",
       "      <th>Parch</th>\n",
       "      <td>0.081629</td>\n",
       "      <td>0.018443</td>\n",
       "      <td>-0.189119</td>\n",
       "      <td>0.414838</td>\n",
       "      <td>1.000000</td>\n",
       "      <td>0.216225</td>\n",
       "    </tr>\n",
       "    <tr>\n",
       "      <th>Fare</th>\n",
       "      <td>0.257307</td>\n",
       "      <td>-0.549500</td>\n",
       "      <td>0.096067</td>\n",
       "      <td>0.159651</td>\n",
       "      <td>0.216225</td>\n",
       "      <td>1.000000</td>\n",
       "    </tr>\n",
       "  </tbody>\n",
       "</table>\n",
       "</div>"
      ],
      "text/plain": [
       "          Survived    Pclass       Age     SibSp     Parch      Fare\n",
       "Survived  1.000000 -0.338481 -0.077221 -0.035322  0.081629  0.257307\n",
       "Pclass   -0.338481  1.000000 -0.369226  0.083081  0.018443 -0.549500\n",
       "Age      -0.077221 -0.369226  1.000000 -0.308247 -0.189119  0.096067\n",
       "SibSp    -0.035322  0.083081 -0.308247  1.000000  0.414838  0.159651\n",
       "Parch     0.081629  0.018443 -0.189119  0.414838  1.000000  0.216225\n",
       "Fare      0.257307 -0.549500  0.096067  0.159651  0.216225  1.000000"
      ]
     },
     "execution_count": 12,
     "metadata": {},
     "output_type": "execute_result"
    }
   ],
   "source": [
    "# 상관관계 확인\n",
    "train.corr(numeric_only=True)\n",
    "\n",
    "#-는 음의 상관관계. 양수는 양의 상관관계.\n",
    "#-1이나 1에 가까울수록 관계가 높은 것이며 0에 가까울수록 관계가 없다.\n",
    "\n",
    "#Age 데이터와 생존여부에 높은 상관관계를 가지는 Pclass 컬럼을 활용해 보자\n",
    "#관련있는 성별 데이터도 함께 활용해서 Age 데이터 결측치를 채워보자!\n",
    "#기본지식, 상관관계, 기술통계량 등을 활용해서 결측치를 채우는 것을 추천"
   ]
  },
  {
   "attachments": {
    "image.png": {
     "image/png": "[encoded data removed]"
    }
   },
   "cell_type": "markdown",
   "id": "a1114427",
   "metadata": {},
   "source": [
    "### 상관관계\n",
    "- -1 ~ 1 사이의 숫자 출력\n",
    "- -1에 가까울 수록 음의 상관관계, 1에 가까울수록 양의 상관관계\n",
    "- 0에 가까울 수록 관계가 없음.\n",
    "- 숫자가 절대값 1에 가까울 수록 관련이 높은 컬럼\n",
    "![image.png](attachment:image.png)"
   ]
  },
  {
   "cell_type": "code",
   "execution_count": 13,
   "id": "958a4e10",
   "metadata": {},
   "outputs": [
    {
     "data": {
      "text/html": [
       "<div>\n",
       "<style scoped>\n",
       "    .dataframe tbody tr th:only-of-type {\n",
       "        vertical-align: middle;\n",
       "    }\n",
       "\n",
       "    .dataframe tbody tr th {\n",
       "        vertical-align: top;\n",
       "    }\n",
       "\n",
       "    .dataframe thead th {\n",
       "        text-align: right;\n",
       "    }\n",
       "</style>\n",
       "<table border=\"1\" class=\"dataframe\">\n",
       "  <thead>\n",
       "    <tr style=\"text-align: right;\">\n",
       "      <th></th>\n",
       "      <th></th>\n",
       "      <th>Age</th>\n",
       "    </tr>\n",
       "    <tr>\n",
       "      <th>Pclass</th>\n",
       "      <th>Sex</th>\n",
       "      <th></th>\n",
       "    </tr>\n",
       "  </thead>\n",
       "  <tbody>\n",
       "    <tr>\n",
       "      <th rowspan=\"2\" valign=\"top\">1</th>\n",
       "      <th>female</th>\n",
       "      <td>34.611765</td>\n",
       "    </tr>\n",
       "    <tr>\n",
       "      <th>male</th>\n",
       "      <td>41.281386</td>\n",
       "    </tr>\n",
       "    <tr>\n",
       "      <th rowspan=\"2\" valign=\"top\">2</th>\n",
       "      <th>female</th>\n",
       "      <td>28.722973</td>\n",
       "    </tr>\n",
       "    <tr>\n",
       "      <th>male</th>\n",
       "      <td>30.740707</td>\n",
       "    </tr>\n",
       "    <tr>\n",
       "      <th rowspan=\"2\" valign=\"top\">3</th>\n",
       "      <th>female</th>\n",
       "      <td>21.750000</td>\n",
       "    </tr>\n",
       "    <tr>\n",
       "      <th>male</th>\n",
       "      <td>26.507589</td>\n",
       "    </tr>\n",
       "  </tbody>\n",
       "</table>\n",
       "</div>"
      ],
      "text/plain": [
       "                     Age\n",
       "Pclass Sex              \n",
       "1      female  34.611765\n",
       "       male    41.281386\n",
       "2      female  28.722973\n",
       "       male    30.740707\n",
       "3      female  21.750000\n",
       "       male    26.507589"
      ]
     },
     "execution_count": 13,
     "metadata": {},
     "output_type": "execute_result"
    }
   ],
   "source": [
    "# 피봇테이블 : 컬럼들의 요약된 정보를 출력할 수 있게 해 주는 표\n",
    "train_pivot = train.pivot_table(values='Age', #데이터로 사용할 컬럼\n",
    "                 index = ['Pclass','Sex'],#데이터 요약시 사용할 컬럼\n",
    "                  aggfunc='mean') #평균 출력\n",
    "\n",
    "train_pivot\n",
    "\n",
    "#각 객실등급별, 성별로 나이 평균을 출력\n",
    "#결측치를 채울 때 단순평균으로 채우는 것보다는 관련있는 값으로 세분화해서 채워주기"
   ]
  },
  {
   "cell_type": "code",
   "execution_count": 14,
   "id": "65a12405",
   "metadata": {},
   "outputs": [
    {
     "data": {
      "text/plain": [
       "28.722972972972972"
      ]
     },
     "execution_count": 14,
     "metadata": {},
     "output_type": "execute_result"
    }
   ],
   "source": [
    "# 다중인덱싱/멀티인덱싱 - > 두 개 이상의 인덱스가 존재할 때 인덱싱 하는 방법\n",
    "# df.loc[(앞 인덱스, 뒤 인덱스),컬럼]\n",
    "\n",
    "# 1등급 여성 데이터 출력\n",
    "train_pivot.loc[(1,'female'),\"Age\"]\n",
    "\n",
    "# 3등급 남성 데이터 출력\n",
    "train_pivot.loc[(3,'male'),'Age']\n",
    "\n",
    "# 2등급 여성 데이터 출력\n",
    "train_pivot.loc[(2,'female'),'Age']"
   ]
  },
  {
   "cell_type": "code",
   "execution_count": 15,
   "id": "45e9bca4",
   "metadata": {},
   "outputs": [],
   "source": [
    "# Age 결측치를 처리하는 함수 정의\n",
    "def fill_age(data):\n",
    "    #만약 Age 컬럼에 결측치가 있다면 피봇 테이블에서 값을 찾아서 출력해줘\n",
    "    if pd.isna(data['Age']):\n",
    "        return train_pivot.loc[(data['Pclass'],data['Sex']),\"Age\"]\n",
    "    # 그렇지 않으면 원래 값을 출력해줘\n",
    "    else:\n",
    "        return data['Age']"
   ]
  },
  {
   "cell_type": "code",
   "execution_count": 16,
   "id": "6295b80a",
   "metadata": {},
   "outputs": [
    {
     "data": {
      "text/plain": [
       "PassengerId\n",
       "1      22\n",
       "2      38\n",
       "3      26\n",
       "4      35\n",
       "5      35\n",
       "       ..\n",
       "887    27\n",
       "888    19\n",
       "889    21\n",
       "890    26\n",
       "891    32\n",
       "Name: Age, Length: 891, dtype: int64"
      ]
     },
     "execution_count": 16,
     "metadata": {},
     "output_type": "execute_result"
    }
   ],
   "source": [
    "# 위 함수를 우리의 train에 적용\n",
    "# apply() : DataFrame에서 행 또는 열에 함수를 적용할 때 사용한다.\n",
    "#DataFrame명.apply(함수이름, 축설정)\n",
    "\n",
    "train['Age'] = train.apply(fill_age, axis = 1).astype('int64') #컬럼에 적용할 것이므로 axis = 1, 너무 숫자가 기니까 정수하\n",
    "\n",
    "train['Age']"
   ]
  },
  {
   "cell_type": "code",
   "execution_count": 17,
   "id": "bdd7289e",
   "metadata": {},
   "outputs": [],
   "source": [
    "pt_test_age = test.pivot_table(values = 'Age',\n",
    "                              index= ['Pclass','Sex'],\n",
    "                              aggfunc = 'mean')"
   ]
  },
  {
   "cell_type": "code",
   "execution_count": 18,
   "id": "9c6a0edc",
   "metadata": {},
   "outputs": [],
   "source": [
    "def fill_test_age(data):\n",
    "    if pd.isna(data['Age']):\n",
    "        return pt_test_age.loc[(data['Pclass'],data['Sex']),'Age']\n",
    "    else:\n",
    "        return data['Age']"
   ]
  },
  {
   "cell_type": "code",
   "execution_count": 19,
   "id": "83bcb5de",
   "metadata": {},
   "outputs": [
    {
     "data": {
      "text/plain": [
       "PassengerId\n",
       "892     34\n",
       "893     47\n",
       "894     62\n",
       "895     27\n",
       "896     22\n",
       "        ..\n",
       "1305    24\n",
       "1306    39\n",
       "1307    38\n",
       "1308    24\n",
       "1309    24\n",
       "Name: Age, Length: 418, dtype: int64"
      ]
     },
     "execution_count": 19,
     "metadata": {},
     "output_type": "execute_result"
    }
   ],
   "source": [
    "test['Age'] = test.apply(fill_test_age, axis = 1).astype('int64')\n",
    "test['Age']"
   ]
  },
  {
   "cell_type": "markdown",
   "id": "38041e25",
   "metadata": {},
   "source": [
    "- train의 Embarked 채우기\n",
    "    - 결측치 2개"
   ]
  },
  {
   "cell_type": "code",
   "execution_count": 20,
   "id": "bfa9194d",
   "metadata": {},
   "outputs": [
    {
     "data": {
      "text/plain": [
       "count     889\n",
       "unique      3\n",
       "top         S\n",
       "freq      644\n",
       "Name: Embarked, dtype: object"
      ]
     },
     "execution_count": 20,
     "metadata": {},
     "output_type": "execute_result"
    }
   ],
   "source": [
    "#데이터 확인해봤더니 가장 많이 승선한 항이 's'항구\n",
    "train['Embarked'].describe()\n",
    "#결측치 양(2개)에 비해 뚜렷한 데이터가 존재하므로\n",
    "#'S'데이터로 채워주기!\n",
    "#데이터가 많으면 많을수록 한두 개의 데이터는 별 영향 없다."
   ]
  },
  {
   "cell_type": "code",
   "execution_count": 21,
   "id": "745de6fc",
   "metadata": {},
   "outputs": [
    {
     "data": {
      "text/plain": [
       "Embarked\n",
       "S    644\n",
       "C    168\n",
       "Q     77\n",
       "Name: count, dtype: int64"
      ]
     },
     "execution_count": 21,
     "metadata": {},
     "output_type": "execute_result"
    }
   ],
   "source": [
    "#다른 항구의 개수도 확인\n",
    "train['Embarked'].value_counts()"
   ]
  },
  {
   "cell_type": "code",
   "execution_count": 22,
   "id": "3a75eef1",
   "metadata": {},
   "outputs": [],
   "source": [
    "#결측치를 'S'로 채워주기\n",
    "#fillna(지정값) : 지정값으로 결측치를 채워주는 함수\n",
    "train['Embarked']= train['Embarked'].fillna('S')"
   ]
  },
  {
   "cell_type": "markdown",
   "id": "7205a471",
   "metadata": {},
   "source": [
    "- test의 Fare 컬럼 결측치 채우기\n",
    "    - 1개의 결측치"
   ]
  },
  {
   "cell_type": "code",
   "execution_count": 23,
   "id": "9e312680",
   "metadata": {},
   "outputs": [
    {
     "data": {
      "text/plain": [
       "count    417.000000\n",
       "mean      35.627188\n",
       "std       55.907576\n",
       "min        0.000000\n",
       "25%        7.895800\n",
       "50%       14.454200\n",
       "75%       31.500000\n",
       "max      512.329200\n",
       "Name: Fare, dtype: float64"
      ]
     },
     "execution_count": 23,
     "metadata": {},
     "output_type": "execute_result"
    }
   ],
   "source": [
    "test['Fare'].describe()\n",
    "#평균 : 35, 최대값 : 512 앞쪽에 데이터가 몰려 있는 형태\n",
    "#전체 평균으로 채우기엔 신뢰성이 떨어진다.\n",
    "#상관관계 확인"
   ]
  },
  {
   "cell_type": "code",
   "execution_count": 24,
   "id": "16b4d638",
   "metadata": {},
   "outputs": [
    {
     "data": {
      "text/html": [
       "<div>\n",
       "<style scoped>\n",
       "    .dataframe tbody tr th:only-of-type {\n",
       "        vertical-align: middle;\n",
       "    }\n",
       "\n",
       "    .dataframe tbody tr th {\n",
       "        vertical-align: top;\n",
       "    }\n",
       "\n",
       "    .dataframe thead th {\n",
       "        text-align: right;\n",
       "    }\n",
       "</style>\n",
       "<table border=\"1\" class=\"dataframe\">\n",
       "  <thead>\n",
       "    <tr style=\"text-align: right;\">\n",
       "      <th></th>\n",
       "      <th>Pclass</th>\n",
       "      <th>Age</th>\n",
       "      <th>SibSp</th>\n",
       "      <th>Parch</th>\n",
       "      <th>Fare</th>\n",
       "    </tr>\n",
       "  </thead>\n",
       "  <tbody>\n",
       "    <tr>\n",
       "      <th>Pclass</th>\n",
       "      <td>1.000000</td>\n",
       "      <td>-0.530062</td>\n",
       "      <td>0.001087</td>\n",
       "      <td>0.018721</td>\n",
       "      <td>-0.577147</td>\n",
       "    </tr>\n",
       "    <tr>\n",
       "      <th>Age</th>\n",
       "      <td>-0.530062</td>\n",
       "      <td>1.000000</td>\n",
       "      <td>-0.079450</td>\n",
       "      <td>-0.056587</td>\n",
       "      <td>0.353202</td>\n",
       "    </tr>\n",
       "    <tr>\n",
       "      <th>SibSp</th>\n",
       "      <td>0.001087</td>\n",
       "      <td>-0.079450</td>\n",
       "      <td>1.000000</td>\n",
       "      <td>0.306895</td>\n",
       "      <td>0.171539</td>\n",
       "    </tr>\n",
       "    <tr>\n",
       "      <th>Parch</th>\n",
       "      <td>0.018721</td>\n",
       "      <td>-0.056587</td>\n",
       "      <td>0.306895</td>\n",
       "      <td>1.000000</td>\n",
       "      <td>0.230046</td>\n",
       "    </tr>\n",
       "    <tr>\n",
       "      <th>Fare</th>\n",
       "      <td>-0.577147</td>\n",
       "      <td>0.353202</td>\n",
       "      <td>0.171539</td>\n",
       "      <td>0.230046</td>\n",
       "      <td>1.000000</td>\n",
       "    </tr>\n",
       "  </tbody>\n",
       "</table>\n",
       "</div>"
      ],
      "text/plain": [
       "          Pclass       Age     SibSp     Parch      Fare\n",
       "Pclass  1.000000 -0.530062  0.001087  0.018721 -0.577147\n",
       "Age    -0.530062  1.000000 -0.079450 -0.056587  0.353202\n",
       "SibSp   0.001087 -0.079450  1.000000  0.306895  0.171539\n",
       "Parch   0.018721 -0.056587  0.306895  1.000000  0.230046\n",
       "Fare   -0.577147  0.353202  0.171539  0.230046  1.000000"
      ]
     },
     "execution_count": 24,
     "metadata": {},
     "output_type": "execute_result"
    }
   ],
   "source": [
    "#Fare 상관관계 확인\n",
    "test.corr(numeric_only=True)"
   ]
  },
  {
   "cell_type": "code",
   "execution_count": 25,
   "id": "b2571dd7",
   "metadata": {},
   "outputs": [
    {
     "data": {
      "text/html": [
       "<div>\n",
       "<style scoped>\n",
       "    .dataframe tbody tr th:only-of-type {\n",
       "        vertical-align: middle;\n",
       "    }\n",
       "\n",
       "    .dataframe tbody tr th {\n",
       "        vertical-align: top;\n",
       "    }\n",
       "\n",
       "    .dataframe thead th {\n",
       "        text-align: right;\n",
       "    }\n",
       "</style>\n",
       "<table border=\"1\" class=\"dataframe\">\n",
       "  <thead>\n",
       "    <tr style=\"text-align: right;\">\n",
       "      <th></th>\n",
       "      <th></th>\n",
       "      <th>Fare</th>\n",
       "    </tr>\n",
       "    <tr>\n",
       "      <th>Pclass</th>\n",
       "      <th>Sex</th>\n",
       "      <th></th>\n",
       "    </tr>\n",
       "  </thead>\n",
       "  <tbody>\n",
       "    <tr>\n",
       "      <th rowspan=\"2\" valign=\"top\">1</th>\n",
       "      <th>female</th>\n",
       "      <td>115.591168</td>\n",
       "    </tr>\n",
       "    <tr>\n",
       "      <th>male</th>\n",
       "      <td>75.586551</td>\n",
       "    </tr>\n",
       "    <tr>\n",
       "      <th rowspan=\"2\" valign=\"top\">2</th>\n",
       "      <th>female</th>\n",
       "      <td>26.438750</td>\n",
       "    </tr>\n",
       "    <tr>\n",
       "      <th>male</th>\n",
       "      <td>20.184654</td>\n",
       "    </tr>\n",
       "    <tr>\n",
       "      <th rowspan=\"2\" valign=\"top\">3</th>\n",
       "      <th>female</th>\n",
       "      <td>13.735129</td>\n",
       "    </tr>\n",
       "    <tr>\n",
       "      <th>male</th>\n",
       "      <td>11.826350</td>\n",
       "    </tr>\n",
       "  </tbody>\n",
       "</table>\n",
       "</div>"
      ],
      "text/plain": [
       "                     Fare\n",
       "Pclass Sex               \n",
       "1      female  115.591168\n",
       "       male     75.586551\n",
       "2      female   26.438750\n",
       "       male     20.184654\n",
       "3      female   13.735129\n",
       "       male     11.826350"
      ]
     },
     "execution_count": 25,
     "metadata": {},
     "output_type": "execute_result"
    }
   ],
   "source": [
    "#피봇 테이블로 상관관계 확인\n",
    "#Pclass, Sex 데이터를 통해 Fare 평균값을 확인\n",
    "\n",
    "pv_test_fare = test.pivot_table(values = 'Fare',\n",
    "                             index = ['Pclass','Sex'],\n",
    "                             aggfunc = 'mean')\n",
    "pv_test_fare"
   ]
  },
  {
   "cell_type": "code",
   "execution_count": 26,
   "id": "f8261331",
   "metadata": {},
   "outputs": [
    {
     "data": {
      "text/html": [
       "<div>\n",
       "<style scoped>\n",
       "    .dataframe tbody tr th:only-of-type {\n",
       "        vertical-align: middle;\n",
       "    }\n",
       "\n",
       "    .dataframe tbody tr th {\n",
       "        vertical-align: top;\n",
       "    }\n",
       "\n",
       "    .dataframe thead th {\n",
       "        text-align: right;\n",
       "    }\n",
       "</style>\n",
       "<table border=\"1\" class=\"dataframe\">\n",
       "  <thead>\n",
       "    <tr style=\"text-align: right;\">\n",
       "      <th></th>\n",
       "      <th>Pclass</th>\n",
       "      <th>Name</th>\n",
       "      <th>Sex</th>\n",
       "      <th>Age</th>\n",
       "      <th>SibSp</th>\n",
       "      <th>Parch</th>\n",
       "      <th>Ticket</th>\n",
       "      <th>Fare</th>\n",
       "      <th>Cabin</th>\n",
       "      <th>Embarked</th>\n",
       "    </tr>\n",
       "    <tr>\n",
       "      <th>PassengerId</th>\n",
       "      <th></th>\n",
       "      <th></th>\n",
       "      <th></th>\n",
       "      <th></th>\n",
       "      <th></th>\n",
       "      <th></th>\n",
       "      <th></th>\n",
       "      <th></th>\n",
       "      <th></th>\n",
       "      <th></th>\n",
       "    </tr>\n",
       "  </thead>\n",
       "  <tbody>\n",
       "    <tr>\n",
       "      <th>1044</th>\n",
       "      <td>3</td>\n",
       "      <td>Storey, Mr. Thomas</td>\n",
       "      <td>male</td>\n",
       "      <td>60</td>\n",
       "      <td>0</td>\n",
       "      <td>0</td>\n",
       "      <td>3701</td>\n",
       "      <td>NaN</td>\n",
       "      <td>NaN</td>\n",
       "      <td>S</td>\n",
       "    </tr>\n",
       "  </tbody>\n",
       "</table>\n",
       "</div>"
      ],
      "text/plain": [
       "             Pclass                Name   Sex  Age  SibSp  Parch Ticket  Fare  \\\n",
       "PassengerId                                                                     \n",
       "1044              3  Storey, Mr. Thomas  male   60      0      0   3701   NaN   \n",
       "\n",
       "            Cabin Embarked  \n",
       "PassengerId                 \n",
       "1044          NaN        S  "
      ]
     },
     "execution_count": 26,
     "metadata": {},
     "output_type": "execute_result"
    }
   ],
   "source": [
    "#비어있는 값이 1개이므로 함수 작성하지 않고 test에서 비어있는 값만 출력 채워주기\n",
    "#isnull() 또는 isna 사용하기\n",
    "\n",
    "test[test['Fare'].isnull()]\n",
    "test[pd.isna(test['Fare'])==True]\n",
    "\n"
   ]
  },
  {
   "cell_type": "code",
   "execution_count": 27,
   "id": "1724702e",
   "metadata": {},
   "outputs": [],
   "source": [
    "#3등급 남성의 요금 평균을 가져와서 채워주기!\n",
    "test['Fare']= test['Fare'].fillna(11.826350)"
   ]
  },
  {
   "cell_type": "code",
   "execution_count": 28,
   "id": "778ccb0c",
   "metadata": {},
   "outputs": [
    {
     "name": "stdout",
     "output_type": "stream",
     "text": [
      "<class 'pandas.core.frame.DataFrame'>\n",
      "Index: 418 entries, 892 to 1309\n",
      "Data columns (total 10 columns):\n",
      " #   Column    Non-Null Count  Dtype  \n",
      "---  ------    --------------  -----  \n",
      " 0   Pclass    418 non-null    int64  \n",
      " 1   Name      418 non-null    object \n",
      " 2   Sex       418 non-null    object \n",
      " 3   Age       418 non-null    int64  \n",
      " 4   SibSp     418 non-null    int64  \n",
      " 5   Parch     418 non-null    int64  \n",
      " 6   Ticket    418 non-null    object \n",
      " 7   Fare      418 non-null    float64\n",
      " 8   Cabin     91 non-null     object \n",
      " 9   Embarked  418 non-null    object \n",
      "dtypes: float64(1), int64(4), object(5)\n",
      "memory usage: 35.9+ KB\n"
     ]
    }
   ],
   "source": [
    "#확인\n",
    "test.info()"
   ]
  },
  {
   "cell_type": "markdown",
   "id": "ab35305e",
   "metadata": {},
   "source": [
    "### Cabin 결측치 처리 (train, test 둘 다 처리)\n",
    "- Cabin 문자열\n",
    "- Cabin 컬럼은 실제 데이터보다 결측치가 더 많음.(컬럼 자체를 삭제하는 것도 한 방법)\n",
    "- 시각화를 통해서 삭제여부를 결정\n"
   ]
  },
  {
   "cell_type": "code",
   "execution_count": 29,
   "id": "95f99c1d",
   "metadata": {},
   "outputs": [
    {
     "data": {
      "text/plain": [
       "array([nan, 'C85', 'C123', 'E46', 'G6', 'C103', 'D56', 'A6',\n",
       "       'C23 C25 C27', 'B78', 'D33', 'B30', 'C52', 'B28', 'C83', 'F33',\n",
       "       'F G73', 'E31', 'A5', 'D10 D12', 'D26', 'C110', 'B58 B60', 'E101',\n",
       "       'F E69', 'D47', 'B86', 'F2', 'C2', 'E33', 'B19', 'A7', 'C49', 'F4',\n",
       "       'A32', 'B4', 'B80', 'A31', 'D36', 'D15', 'C93', 'C78', 'D35',\n",
       "       'C87', 'B77', 'E67', 'B94', 'C125', 'C99', 'C118', 'D7', 'A19',\n",
       "       'B49', 'D', 'C22 C26', 'C106', 'C65', 'E36', 'C54',\n",
       "       'B57 B59 B63 B66', 'C7', 'E34', 'C32', 'B18', 'C124', 'C91', 'E40',\n",
       "       'T', 'C128', 'D37', 'B35', 'E50', 'C82', 'B96 B98', 'E10', 'E44',\n",
       "       'A34', 'C104', 'C111', 'C92', 'E38', 'D21', 'E12', 'E63', 'A14',\n",
       "       'B37', 'C30', 'D20', 'B79', 'E25', 'D46', 'B73', 'C95', 'B38',\n",
       "       'B39', 'B22', 'C86', 'C70', 'A16', 'C101', 'C68', 'A10', 'E68',\n",
       "       'B41', 'A20', 'D19', 'D50', 'D9', 'A23', 'B50', 'A26', 'D48',\n",
       "       'E58', 'C126', 'B71', 'B51 B53 B55', 'D49', 'B5', 'B20', 'F G63',\n",
       "       'C62 C64', 'E24', 'C90', 'C45', 'E8', 'B101', 'D45', 'C46', 'D30',\n",
       "       'E121', 'D11', 'E77', 'F38', 'B3', 'D6', 'B82 B84', 'D17', 'A36',\n",
       "       'B102', 'B69', 'E49', 'C47', 'D28', 'E17', 'A24', 'C50', 'B42',\n",
       "       'C148'], dtype=object)"
      ]
     },
     "execution_count": 29,
     "metadata": {},
     "output_type": "execute_result"
    }
   ],
   "source": [
    "#중복없이 값 출력\n",
    "train['Cabin'].unique()\n",
    "#전체적으로 데이터 중복이 없는 편\n",
    "#모든 값들이 알파벳을 가지고 있는 것을 확인 : 알파벳 규칙 \n",
    "#알파벳(층 의미)만 추출"
   ]
  },
  {
   "cell_type": "code",
   "execution_count": 30,
   "id": "ec00466e",
   "metadata": {},
   "outputs": [
    {
     "data": {
      "text/plain": [
       "PassengerId\n",
       "892        M\n",
       "893        M\n",
       "894        M\n",
       "895        M\n",
       "896        M\n",
       "        ... \n",
       "1305       M\n",
       "1306    C105\n",
       "1307       M\n",
       "1308       M\n",
       "1309       M\n",
       "Name: Deck, Length: 418, dtype: object"
      ]
     },
     "execution_count": 30,
     "metadata": {},
     "output_type": "execute_result"
    }
   ],
   "source": [
    "#train, test 데이터 모두에 결측치에는 임의의 알파벳 'M'(mistery) 채우기\n",
    "#'Deck' 새로운 컬럼을 생성해 주기 - 기존 Cabin 컬럼 손상 막기 위해\n",
    "train['Deck'] = train['Cabin'].fillna('M')\n",
    "test['Deck'] = test['Cabin'].fillna('M')\n",
    "\n",
    "train['Deck']\n",
    "test['Deck']"
   ]
  },
  {
   "cell_type": "code",
   "execution_count": 31,
   "id": "ed39aefc",
   "metadata": {},
   "outputs": [
    {
     "data": {
      "text/plain": [
       "PassengerId\n",
       "892     M\n",
       "893     M\n",
       "894     M\n",
       "895     M\n",
       "896     M\n",
       "       ..\n",
       "1305    M\n",
       "1306    C\n",
       "1307    M\n",
       "1308    M\n",
       "1309    M\n",
       "Name: Deck, Length: 418, dtype: object"
      ]
     },
     "execution_count": 31,
     "metadata": {},
     "output_type": "execute_result"
    }
   ],
   "source": [
    "#'Deck' 컬럼에서 알파벳만 출력\n",
    "train['Deck'] = train['Deck'].str[0]\n",
    "test['Deck'] = test['Deck'].str[0]\n",
    "\n",
    "train['Deck']\n",
    "test['Deck']"
   ]
  },
  {
   "cell_type": "code",
   "execution_count": 32,
   "id": "5bf91bde",
   "metadata": {},
   "outputs": [
    {
     "name": "stdout",
     "output_type": "stream",
     "text": [
      "<class 'pandas.core.frame.DataFrame'>\n",
      "Index: 891 entries, 1 to 891\n",
      "Data columns (total 12 columns):\n",
      " #   Column    Non-Null Count  Dtype  \n",
      "---  ------    --------------  -----  \n",
      " 0   Survived  891 non-null    int64  \n",
      " 1   Pclass    891 non-null    int64  \n",
      " 2   Name      891 non-null    object \n",
      " 3   Sex       891 non-null    object \n",
      " 4   Age       891 non-null    int64  \n",
      " 5   SibSp     891 non-null    int64  \n",
      " 6   Parch     891 non-null    int64  \n",
      " 7   Ticket    891 non-null    object \n",
      " 8   Fare      891 non-null    float64\n",
      " 9   Cabin     204 non-null    object \n",
      " 10  Embarked  891 non-null    object \n",
      " 11  Deck      891 non-null    object \n",
      "dtypes: float64(1), int64(5), object(6)\n",
      "memory usage: 90.5+ KB\n",
      "<class 'pandas.core.frame.DataFrame'>\n",
      "Index: 418 entries, 892 to 1309\n",
      "Data columns (total 11 columns):\n",
      " #   Column    Non-Null Count  Dtype  \n",
      "---  ------    --------------  -----  \n",
      " 0   Pclass    418 non-null    int64  \n",
      " 1   Name      418 non-null    object \n",
      " 2   Sex       418 non-null    object \n",
      " 3   Age       418 non-null    int64  \n",
      " 4   SibSp     418 non-null    int64  \n",
      " 5   Parch     418 non-null    int64  \n",
      " 6   Ticket    418 non-null    object \n",
      " 7   Fare      418 non-null    float64\n",
      " 8   Cabin     91 non-null     object \n",
      " 9   Embarked  418 non-null    object \n",
      " 10  Deck      418 non-null    object \n",
      "dtypes: float64(1), int64(4), object(6)\n",
      "memory usage: 39.2+ KB\n"
     ]
    }
   ],
   "source": [
    "train.info()\n",
    "test.info()"
   ]
  },
  {
   "cell_type": "code",
   "execution_count": 33,
   "id": "d2b2a6c1",
   "metadata": {},
   "outputs": [],
   "source": [
    "#Cabin 컬럼 삭제\n",
    "train = train.drop('Cabin', axis = 1) #이렇게 다시 대입을 해주거나\n",
    "test.drop('Cabin',axis = 1, inplace = True) #자동으로 대입을 해 주는 inplace 속성을 주면 된다.\n",
    "\n",
    "#이미 삭제되었으니까 이 명령 다시 실행하면 오류남! 나중에 착오하지 말자.\n",
    "#처음부터 전체 실행하는 거면 상관없음"
   ]
  },
  {
   "cell_type": "markdown",
   "id": "8d17474e",
   "metadata": {},
   "source": [
    "### 4. EDA (탐색적 데이터 분석) - 기술통계 확인, 변수간 상관관계 파악, 시각화 등\n",
    "- train, test 존재\n",
    "- train 데이터를 이용하여 탐색을 해야 한다\n",
    "- test로 탐색을 하는 건 일반화에 도움이 되지 않음\n",
    "\n",
    "- Deck 시각화"
   ]
  },
  {
   "cell_type": "code",
   "execution_count": 34,
   "id": "cee0968b",
   "metadata": {},
   "outputs": [],
   "source": [
    "#Deck 데이터는 결측치가 많은 컬럼\n",
    "# ㄴ M이라고 하는 임의의 값으로 채워줌\n",
    "#  ㄴ 컬럼 삭제 여부 결정 위해 시각화\n",
    "\n",
    "#피벗 테이블 생성\n",
    "\n",
    "pt_deck_check = train.pivot_table(values = 'Name',  #이건 Deck와 Survived로 확인하기 위한 거니까 아무 컬럼이든 노상관.\n",
    "                  index = ['Deck','Survived'],\n",
    "                 aggfunc = 'count')\n",
    "\n"
   ]
  },
  {
   "cell_type": "code",
   "execution_count": 35,
   "id": "1ef34469",
   "metadata": {},
   "outputs": [
    {
     "data": {
      "text/plain": [
       "<Axes: xlabel='Deck', ylabel='count'>"
      ]
     },
     "execution_count": 35,
     "metadata": {},
     "output_type": "execute_result"
    },
    {
     "data": {
      "image/png": "[encoded data removed]",
      "text/plain": [
       "<Figure size 300x300 with 1 Axes>"
      ]
     },
     "metadata": {},
     "output_type": "display_data"
    }
   ],
   "source": [
    "# M 데이터 사망자 수가 월등히 많다\n",
    "# 시각화를 통해서 눈으로 확인\n",
    "\n",
    "plt.figure(figsize=(3,3)) #사이즈 줄여서 보기\n",
    "\n",
    "#생존/사망자 수로 Deck 데이터 분류\n",
    "sns.countplot(data=train,    \n",
    "             x = 'Deck',\n",
    "             hue = 'Survived')\n",
    "\n",
    "# M에 죽은 사람의 비율이 높음\n",
    "# 생존여부에 활용을 해보도록 하겠다!"
   ]
  },
  {
   "cell_type": "code",
   "execution_count": 36,
   "id": "711594d0",
   "metadata": {},
   "outputs": [
    {
     "data": {
      "text/plain": [
       "<Axes: xlabel='Pclass', ylabel='count'>"
      ]
     },
     "execution_count": 36,
     "metadata": {},
     "output_type": "execute_result"
    },
    {
     "data": {
      "image/png": "[encoded data removed]",
      "text/plain": [
       "<Figure size 500x300 with 1 Axes>"
      ]
     },
     "metadata": {},
     "output_type": "display_data"
    }
   ],
   "source": [
    "#Pclass 데이터 생존여부와의 관계\n",
    "#counplot 그리고 해석해 보기\n",
    "plt.figure(figsize=(5,3))\n",
    "sns.countplot(data= train, \n",
    "             x = 'Pclass',\n",
    "             hue = 'Survived')\n",
    "\n",
    "\n",
    "#생존자 수 자체는 등급과 무관하게 비슷.\n",
    "#1등급 - 생존률이 높음\n",
    "#2등급 - 비교적 사망률이 높음\n",
    "#3등급 - 월등히 사망률이 높음\n",
    "#3등급 사망률이 높은 것 확인 : 가장 하층부에 위치하기 때문에 탈출 힘들었음"
   ]
  },
  {
   "cell_type": "code",
   "execution_count": 37,
   "id": "e8e0c81e",
   "metadata": {},
   "outputs": [
    {
     "data": {
      "text/plain": [
       "<Axes: xlabel='Deck', ylabel='count'>"
      ]
     },
     "execution_count": 37,
     "metadata": {},
     "output_type": "execute_result"
    },
    {
     "data": {
      "image/png": "[encoded data removed]",
      "text/plain": [
       "<Figure size 640x480 with 1 Axes>"
      ]
     },
     "metadata": {},
     "output_type": "display_data"
    }
   ],
   "source": [
    "#Pclass와 Deck의 상관관계 시각적으로 확인\n",
    "sns.countplot(data=train, x='Deck', hue = 'Pclass' )\n",
    "\n",
    "#Deck가 M인 사람이 3등급이 많고 사망자 비율도 높다"
   ]
  },
  {
   "cell_type": "code",
   "execution_count": 38,
   "id": "11694d3e",
   "metadata": {},
   "outputs": [
    {
     "data": {
      "text/html": [
       "<div>\n",
       "<style scoped>\n",
       "    .dataframe tbody tr th:only-of-type {\n",
       "        vertical-align: middle;\n",
       "    }\n",
       "\n",
       "    .dataframe tbody tr th {\n",
       "        vertical-align: top;\n",
       "    }\n",
       "\n",
       "    .dataframe thead th {\n",
       "        text-align: right;\n",
       "    }\n",
       "</style>\n",
       "<table border=\"1\" class=\"dataframe\">\n",
       "  <thead>\n",
       "    <tr style=\"text-align: right;\">\n",
       "      <th></th>\n",
       "      <th>Survived</th>\n",
       "      <th>Pclass</th>\n",
       "      <th>Name</th>\n",
       "      <th>Sex</th>\n",
       "      <th>Age</th>\n",
       "      <th>SibSp</th>\n",
       "      <th>Parch</th>\n",
       "      <th>Ticket</th>\n",
       "      <th>Fare</th>\n",
       "      <th>Embarked</th>\n",
       "      <th>Deck</th>\n",
       "    </tr>\n",
       "    <tr>\n",
       "      <th>PassengerId</th>\n",
       "      <th></th>\n",
       "      <th></th>\n",
       "      <th></th>\n",
       "      <th></th>\n",
       "      <th></th>\n",
       "      <th></th>\n",
       "      <th></th>\n",
       "      <th></th>\n",
       "      <th></th>\n",
       "      <th></th>\n",
       "      <th></th>\n",
       "    </tr>\n",
       "  </thead>\n",
       "  <tbody>\n",
       "    <tr>\n",
       "      <th>1</th>\n",
       "      <td>0</td>\n",
       "      <td>3</td>\n",
       "      <td>Braund, Mr. Owen Harris</td>\n",
       "      <td>male</td>\n",
       "      <td>22</td>\n",
       "      <td>1</td>\n",
       "      <td>0</td>\n",
       "      <td>A/5 21171</td>\n",
       "      <td>7.2500</td>\n",
       "      <td>S</td>\n",
       "      <td>M</td>\n",
       "    </tr>\n",
       "    <tr>\n",
       "      <th>2</th>\n",
       "      <td>1</td>\n",
       "      <td>1</td>\n",
       "      <td>Cumings, Mrs. John Bradley (Florence Briggs Th...</td>\n",
       "      <td>female</td>\n",
       "      <td>38</td>\n",
       "      <td>1</td>\n",
       "      <td>0</td>\n",
       "      <td>PC 17599</td>\n",
       "      <td>71.2833</td>\n",
       "      <td>C</td>\n",
       "      <td>C</td>\n",
       "    </tr>\n",
       "    <tr>\n",
       "      <th>3</th>\n",
       "      <td>1</td>\n",
       "      <td>3</td>\n",
       "      <td>Heikkinen, Miss. Laina</td>\n",
       "      <td>female</td>\n",
       "      <td>26</td>\n",
       "      <td>0</td>\n",
       "      <td>0</td>\n",
       "      <td>STON/O2. 3101282</td>\n",
       "      <td>7.9250</td>\n",
       "      <td>S</td>\n",
       "      <td>M</td>\n",
       "    </tr>\n",
       "    <tr>\n",
       "      <th>4</th>\n",
       "      <td>1</td>\n",
       "      <td>1</td>\n",
       "      <td>Futrelle, Mrs. Jacques Heath (Lily May Peel)</td>\n",
       "      <td>female</td>\n",
       "      <td>35</td>\n",
       "      <td>1</td>\n",
       "      <td>0</td>\n",
       "      <td>113803</td>\n",
       "      <td>53.1000</td>\n",
       "      <td>S</td>\n",
       "      <td>C</td>\n",
       "    </tr>\n",
       "    <tr>\n",
       "      <th>5</th>\n",
       "      <td>0</td>\n",
       "      <td>3</td>\n",
       "      <td>Allen, Mr. William Henry</td>\n",
       "      <td>male</td>\n",
       "      <td>35</td>\n",
       "      <td>0</td>\n",
       "      <td>0</td>\n",
       "      <td>373450</td>\n",
       "      <td>8.0500</td>\n",
       "      <td>S</td>\n",
       "      <td>M</td>\n",
       "    </tr>\n",
       "  </tbody>\n",
       "</table>\n",
       "</div>"
      ],
      "text/plain": [
       "             Survived  Pclass  \\\n",
       "PassengerId                     \n",
       "1                   0       3   \n",
       "2                   1       1   \n",
       "3                   1       3   \n",
       "4                   1       1   \n",
       "5                   0       3   \n",
       "\n",
       "                                                          Name     Sex  Age  \\\n",
       "PassengerId                                                                   \n",
       "1                                      Braund, Mr. Owen Harris    male   22   \n",
       "2            Cumings, Mrs. John Bradley (Florence Briggs Th...  female   38   \n",
       "3                                       Heikkinen, Miss. Laina  female   26   \n",
       "4                 Futrelle, Mrs. Jacques Heath (Lily May Peel)  female   35   \n",
       "5                                     Allen, Mr. William Henry    male   35   \n",
       "\n",
       "             SibSp  Parch            Ticket     Fare Embarked Deck  \n",
       "PassengerId                                                         \n",
       "1                1      0         A/5 21171   7.2500        S    M  \n",
       "2                1      0          PC 17599  71.2833        C    C  \n",
       "3                0      0  STON/O2. 3101282   7.9250        S    M  \n",
       "4                1      0            113803  53.1000        S    C  \n",
       "5                0      0            373450   8.0500        S    M  "
      ]
     },
     "execution_count": 38,
     "metadata": {},
     "output_type": "execute_result"
    }
   ],
   "source": [
    "train.head()"
   ]
  },
  {
   "cell_type": "code",
   "execution_count": 39,
   "id": "f02e93ff",
   "metadata": {},
   "outputs": [
    {
     "data": {
      "text/plain": [
       "<Axes: xlabel='Sex', ylabel='count'>"
      ]
     },
     "execution_count": 39,
     "metadata": {},
     "output_type": "execute_result"
    },
    {
     "data": {
      "image/png": "[encoded data removed]",
      "text/plain": [
       "<Figure size 640x480 with 1 Axes>"
      ]
     },
     "metadata": {},
     "output_type": "display_data"
    }
   ],
   "source": [
    "# 확인해보고 싶은 컬럼 countplot 그려보기!\n",
    "#Sex, Survived 관계\n",
    "#plt.figure(figsize=(3,3))\n",
    "sns.countplot(data= train, x= 'Sex', hue='Survived')\n",
    "#여자의 생존율이 높다"
   ]
  },
  {
   "cell_type": "code",
   "execution_count": 40,
   "id": "7a6a3e88",
   "metadata": {},
   "outputs": [
    {
     "data": {
      "text/plain": [
       "<Axes: xlabel='Age', ylabel='count'>"
      ]
     },
     "execution_count": 40,
     "metadata": {},
     "output_type": "execute_result"
    },
    {
     "data": {
      "image/png": "[encoded data removed]",
      "text/plain": [
       "<Figure size 640x480 with 1 Axes>"
      ]
     },
     "metadata": {},
     "output_type": "display_data"
    }
   ],
   "source": [
    "#Age 데이터 확인\n",
    "sns.countplot(data = train, x = 'Age', hue = 'Survived')\n",
    "\n",
    "#너무 나이가 다양함. 그래프를 그리는 의미가 없다."
   ]
  },
  {
   "cell_type": "code",
   "execution_count": 41,
   "id": "812d992b",
   "metadata": {},
   "outputs": [
    {
     "data": {
      "image/png": "[encoded data removed]",
      "text/plain": [
       "<Figure size 640x480 with 1 Axes>"
      ]
     },
     "metadata": {},
     "output_type": "display_data"
    }
   ],
   "source": [
    "#수치데이터의 분포를 파악할 때 사용\n",
    "#바이올린 플롯\n",
    "#바이올린 형태로 데이터의 분포와 밀도를 곡선으로 표현해 주는 그래프\n",
    "#데이터가 많이 분포하는 부분은 두껍게 출력, 적게 분포하는 부분은 얇게 표현된다.\n",
    "\n",
    "#sns.violinplot(data=train, x='Sex',y='Age',hue='Survived')\n",
    "\n",
    "#그래프가 4개나 되어 헷갈린다면?\n",
    "\n",
    "sns.violinplot(data=train, x='Sex',y='Age',hue='Survived', split=True) #나눠서 합쳐주기\n",
    "plt.yticks(range(0,100,10)) #y축 눈금\n",
    "plt.grid()\n",
    "\n",
    "\n",
    "#20대부터 40대까지의 분포가 넓음 -> 탑승자가 많다.\n",
    "#나이가 어린 사람들 중에서는 남자아이가 여자아이에 비해 생존률이 높음"
   ]
  },
  {
   "cell_type": "code",
   "execution_count": 42,
   "id": "ddc08cdb",
   "metadata": {},
   "outputs": [
    {
     "data": {
      "image/png": "[encoded data removed]",
      "text/plain": [
       "<Figure size 640x480 with 1 Axes>"
      ]
     },
     "metadata": {},
     "output_type": "display_data"
    }
   ],
   "source": [
    "#X축 Sex, y축 Fare에 따른 바이올린 플롯 그려보기\n",
    "sns.violinplot(data= train, x='Sex', y='Fare', hue='Survived', split=True)\n",
    "plt.ylim(0,150) #시각화 범위 제한\n",
    "plt.grid()\n",
    "\n",
    "#상대적으로 요금이 낮은 사람들이 많이 사망함"
   ]
  },
  {
   "cell_type": "markdown",
   "id": "51bf458b",
   "metadata": {},
   "source": [
    "###### 특성공학 : 새로운 컬럼 추출\n",
    "- Parch : 함께 탑승한 부모자식의 수\n",
    "- SibSp : 함께 탑승한 형제, 자매, 배우자의 수를 의미\n",
    "- 위 두 개의 데이터를 확인했을 때 결국 비슷한 성격의 데이터(동승자 수 데이터)\n",
    "- 부모자식, 형제자매, 배우자에 대한 컬럼 합쳐서 가족 수라는 새로운 컬럼 생성\n",
    "- 주의점 : 반드시 train과 test 둘 다 적용을 해 주어야"
   ]
  },
  {
   "cell_type": "code",
   "execution_count": 43,
   "id": "f64c01fd",
   "metadata": {},
   "outputs": [],
   "source": [
    "#두 개의 컬럼을 더해서 가족의 수 'Family_Size'컬럼 생성\n",
    "train['Family_Size'] = train['Parch'] + train['SibSp'] +1 #+1은 1인가구(나 자신을 더해주기!)\n",
    "test['Family_Size'] = test['Parch'] + test['SibSp'] +1"
   ]
  },
  {
   "cell_type": "code",
   "execution_count": 44,
   "id": "003756d7",
   "metadata": {},
   "outputs": [
    {
     "data": {
      "text/plain": [
       "<Axes: xlabel='Family_Size', ylabel='count'>"
      ]
     },
     "execution_count": 44,
     "metadata": {},
     "output_type": "execute_result"
    },
    {
     "data": {
      "image/png": "[encoded data removed]",
      "text/plain": [
       "<Figure size 640x480 with 1 Axes>"
      ]
     },
     "metadata": {},
     "output_type": "display_data"
    }
   ],
   "source": [
    "#Family_Size 데이터 시각화\n",
    "\n",
    "sns.countplot(data = train, x='Family_Size', hue = 'Survived')\n",
    "\n",
    "#1명일 때 사망비율 높다\n",
    "#2~4명일 때 생존비율 높다\n",
    "#5명 이상일 때 사망비율 높다\n",
    "\n",
    "#같은 패턴을 가진 데이터들은 각자 학습시키지 않고 묶어서 학습시키는 것이 효율적.\n",
    "#범주를 조절해 주면 사소한 관찰의 오류를 줄여준다!"
   ]
  },
  {
   "cell_type": "code",
   "execution_count": 45,
   "id": "a620a25b",
   "metadata": {},
   "outputs": [],
   "source": [
    "#카테고리화 함수 cut 활용하여 묶어주기\n",
    "#가족의 수1 : 'Alone', 2~4 : 'Small', 5~ : 'Large'\n",
    "#train, test 둘 다 적용\n",
    "\n",
    "b = [0,1,4,11] \n",
    "#구간설정 : 앞숫자 더하기 1부터 뒤숫자까지 범위를 나눔(즉 앞숫자 불포함 뒤숫자 포함)\n",
    "l = ['Alone','Small','Large'] #각 구간별 이름 설정\n",
    "\n",
    "\n",
    "#각각에 대해 대입해 주기\n",
    "train['Family_Size'] = pd.cut(train['Family_Size'],bins=b, labels=l)\n",
    "test['Family_Size'] = pd.cut(test['Family_Size'],bins=b, labels=l)"
   ]
  },
  {
   "cell_type": "code",
   "execution_count": 46,
   "id": "1f3bac73",
   "metadata": {},
   "outputs": [
    {
     "data": {
      "text/plain": [
       "<Axes: xlabel='Family_Size', ylabel='count'>"
      ]
     },
     "execution_count": 46,
     "metadata": {},
     "output_type": "execute_result"
    },
    {
     "data": {
      "image/png": "[encoded data removed]",
      "text/plain": [
       "<Figure size 640x480 with 1 Axes>"
      ]
     },
     "metadata": {},
     "output_type": "display_data"
    }
   ],
   "source": [
    "sns.countplot(data=train, x='Family_Size', hue='Survived')"
   ]
  },
  {
   "cell_type": "code",
   "execution_count": 47,
   "id": "4081a37d",
   "metadata": {},
   "outputs": [
    {
     "data": {
      "text/plain": [
       "PassengerId\n",
       "1                                Braund, Mr. Owen Harris\n",
       "2      Cumings, Mrs. John Bradley (Florence Briggs Th...\n",
       "3                                 Heikkinen, Miss. Laina\n",
       "4           Futrelle, Mrs. Jacques Heath (Lily May Peel)\n",
       "5                               Allen, Mr. William Henry\n",
       "                             ...                        \n",
       "887                                Montvila, Rev. Juozas\n",
       "888                         Graham, Miss. Margaret Edith\n",
       "889             Johnston, Miss. Catherine Helen \"Carrie\"\n",
       "890                                Behr, Mr. Karl Howell\n",
       "891                                  Dooley, Mr. Patrick\n",
       "Name: Name, Length: 891, dtype: object"
      ]
     },
     "execution_count": 47,
     "metadata": {},
     "output_type": "execute_result"
    }
   ],
   "source": [
    "train['Name']\n",
    "#유의미한 데이터를 찾아낼 수 있을까?\n",
    "#호칭?"
   ]
  },
  {
   "cell_type": "code",
   "execution_count": 48,
   "id": "5ea5919d",
   "metadata": {},
   "outputs": [
    {
     "data": {
      "text/plain": [
       "['Braund', ' Mr. Owen Harris']"
      ]
     },
     "execution_count": 48,
     "metadata": {},
     "output_type": "execute_result"
    }
   ],
   "source": [
    "#일단 첫 번째 한 사람만 보고 확인해 보자\n",
    "train['Name'][1].split(',') #split : 표시한 문자열을 기준으로 대상 문자열 분리"
   ]
  },
  {
   "cell_type": "code",
   "execution_count": 49,
   "id": "07df9838",
   "metadata": {},
   "outputs": [
    {
     "data": {
      "text/plain": [
       "' Mr. Owen Harris'"
      ]
     },
     "execution_count": 49,
     "metadata": {},
     "output_type": "execute_result"
    }
   ],
   "source": [
    "train['Name'][1].split(',')[1]"
   ]
  },
  {
   "cell_type": "code",
   "execution_count": 50,
   "id": "a1dc093b",
   "metadata": {},
   "outputs": [
    {
     "data": {
      "text/plain": [
       "[' Mr', ' Owen Harris']"
      ]
     },
     "execution_count": 50,
     "metadata": {},
     "output_type": "execute_result"
    }
   ],
   "source": [
    "train['Name'][1].split(',')[1].split('.')"
   ]
  },
  {
   "cell_type": "code",
   "execution_count": 51,
   "id": "adf41856",
   "metadata": {
    "scrolled": true
   },
   "outputs": [
    {
     "data": {
      "text/plain": [
       "'Mr'"
      ]
     },
     "execution_count": 51,
     "metadata": {},
     "output_type": "execute_result"
    }
   ],
   "source": [
    "train['Name'][1].split(',')[1].split('.')[0].strip() #strip() : 불필요한 공백 삭제\n",
    "\n",
    "#호칭 추출 완료!"
   ]
  },
  {
   "cell_type": "code",
   "execution_count": 52,
   "id": "60dd37d1",
   "metadata": {},
   "outputs": [],
   "source": [
    "#모든 관측치에 적용하기 위해 함수화\n",
    "def split_name(data):\n",
    "    return data['Name'].split(',')[1].split('.')[0].strip()\n",
    "\n",
    "#df에 적용할 함수는 위와 같이 하나의 데이터에 대해서 적용되는 형태를 짜야 한다.\n",
    "#실제 모든 데이터에 적용하는 건 apply 함수가 하는 거다."
   ]
  },
  {
   "cell_type": "code",
   "execution_count": 53,
   "id": "8c6ad0de",
   "metadata": {},
   "outputs": [],
   "source": [
    "#apply 함수를 적용하여 train, test 데이터에 적용\n",
    "#'Title'(호칭) 컬럼 생성해서 대입\n",
    "\n",
    "#apply()함수 적용법 : 데이터.apply(함수명, 축(옵션))\n",
    "train['Title']= train.apply(split_name, axis = 1)\n",
    "test['Title']= test.apply(split_name, axis = 1)\n",
    "\n",
    "\n",
    "#만일 위 함수에서 return data.split(',')[1].split('.')[0].strip()와 같이 썼다면\n",
    "#train['Title'] = train['Name'].apply(split_name)의 형태로 써줘야 한다.\n",
    "#이렇게 했을 경우 DF에서 한 개의 컬럼만을 출력하므로 Series : 축 설정 해줄 필요 없다."
   ]
  },
  {
   "cell_type": "code",
   "execution_count": 54,
   "id": "6f4c644d",
   "metadata": {},
   "outputs": [
    {
     "data": {
      "text/plain": [
       "array(['Mr', 'Mrs', 'Miss', 'Master', 'Don', 'Rev', 'Dr', 'Mme', 'Ms',\n",
       "       'Major', 'Lady', 'Sir', 'Mlle', 'Col', 'Capt', 'the Countess',\n",
       "       'Jonkheer'], dtype=object)"
      ]
     },
     "execution_count": 54,
     "metadata": {},
     "output_type": "execute_result"
    }
   ],
   "source": [
    "train['Title'].unique()"
   ]
  },
  {
   "cell_type": "code",
   "execution_count": 55,
   "id": "04bc133c",
   "metadata": {},
   "outputs": [
    {
     "data": {
      "text/plain": [
       "(0.0, 10.0)"
      ]
     },
     "execution_count": 55,
     "metadata": {},
     "output_type": "execute_result"
    },
    {
     "data": {
      "image/png": "[encoded data removed]",
      "text/plain": [
       "<Figure size 1500x500 with 1 Axes>"
      ]
     },
     "metadata": {},
     "output_type": "display_data"
    }
   ],
   "source": [
    "plt.figure(figsize=(15,5))\n",
    "sns.countplot(data = train, x='Title', hue='Survived')\n",
    "#데이터가 작으면 잘 안 보임\n",
    "\n",
    "plt.ylim(0,10)\n"
   ]
  },
  {
   "cell_type": "markdown",
   "id": "68458ba3",
   "metadata": {},
   "source": [
    "- 개수가 많은 특징이 있는 데이터를 제외하고는 Others라고 하는 그룹으로 묶어주기"
   ]
  },
  {
   "cell_type": "code",
   "execution_count": 56,
   "id": "6dd196ac",
   "metadata": {},
   "outputs": [
    {
     "data": {
      "text/plain": [
       "array(['Mr', 'Mrs', 'Miss', 'Master', 'Don', 'Rev', 'Dr', 'Mme', 'Ms',\n",
       "       'Major', 'Lady', 'Sir', 'Mlle', 'Col', 'Capt', 'the Countess',\n",
       "       'Jonkheer'], dtype=object)"
      ]
     },
     "execution_count": 56,
     "metadata": {},
     "output_type": "execute_result"
    }
   ],
   "source": [
    "train['Title'].unique()"
   ]
  },
  {
   "cell_type": "code",
   "execution_count": 57,
   "id": "0f853026",
   "metadata": {},
   "outputs": [
    {
     "data": {
      "text/plain": [
       "17"
      ]
     },
     "execution_count": 57,
     "metadata": {},
     "output_type": "execute_result"
    }
   ],
   "source": [
    "title = ['Mr', 'Mrs', 'Miss', 'Master','Rev','Don','Dr', 'Mme', 'Ms',\n",
    "       'Major', 'Lady', 'Sir', 'Mlle', 'Col', 'Capt', 'the Countess',\n",
    "       'Jonkheer']\n",
    "len(title)"
   ]
  },
  {
   "cell_type": "code",
   "execution_count": 58,
   "id": "3f8aae3e",
   "metadata": {},
   "outputs": [
    {
     "data": {
      "text/plain": [
       "['Mr',\n",
       " 'Mrs',\n",
       " 'Miss',\n",
       " 'Master',\n",
       " 'Rev',\n",
       " 'Others',\n",
       " 'Others',\n",
       " 'Others',\n",
       " 'Others',\n",
       " 'Others',\n",
       " 'Others',\n",
       " 'Others',\n",
       " 'Others',\n",
       " 'Others',\n",
       " 'Others',\n",
       " 'Others',\n",
       " 'Others']"
      ]
     },
     "execution_count": 58,
     "metadata": {},
     "output_type": "execute_result"
    }
   ],
   "source": [
    "#중요한 앞의 5개 데이터를 제외하고 나머지는 Others로 변환\n",
    "convert_title = ['Mr', 'Mrs', 'Miss', 'Master','Rev'] + ['Others']*12\n",
    "convert_title"
   ]
  },
  {
   "cell_type": "code",
   "execution_count": 59,
   "id": "875c0e04",
   "metadata": {},
   "outputs": [
    {
     "data": {
      "text/plain": [
       "{'Mr': 'Mr',\n",
       " 'Mrs': 'Mrs',\n",
       " 'Miss': 'Miss',\n",
       " 'Master': 'Master',\n",
       " 'Rev': 'Rev',\n",
       " 'Don': 'Others',\n",
       " 'Dr': 'Others',\n",
       " 'Mme': 'Others',\n",
       " 'Ms': 'Others',\n",
       " 'Major': 'Others',\n",
       " 'Lady': 'Others',\n",
       " 'Sir': 'Others',\n",
       " 'Mlle': 'Others',\n",
       " 'Col': 'Others',\n",
       " 'Capt': 'Others',\n",
       " 'the Countess': 'Others',\n",
       " 'Jonkheer': 'Others'}"
      ]
     },
     "execution_count": 59,
     "metadata": {},
     "output_type": "execute_result"
    }
   ],
   "source": [
    "#zip() : 리스트형태 2개의 데이터를 맵핑\n",
    "#딕셔너리 형태로 연결(키, 밸류)\n",
    "title_dict = dict(zip(title,convert_title))\n",
    "title_dict"
   ]
  },
  {
   "cell_type": "code",
   "execution_count": 60,
   "id": "132ed715",
   "metadata": {},
   "outputs": [],
   "source": [
    "#map() : key 값에 맞는 value 값으로 짝지어 변경해 주는 함수\n",
    "train['Title'] = train['Title'].map(title_dict)\n",
    "#test['Title'] = test['Title'].map(title_dict)"
   ]
  },
  {
   "cell_type": "code",
   "execution_count": 61,
   "id": "75c07c76",
   "metadata": {},
   "outputs": [
    {
     "data": {
      "text/plain": [
       "array(['Mr', 'Mrs', 'Miss', 'Master', 'Others', 'Rev'], dtype=object)"
      ]
     },
     "execution_count": 61,
     "metadata": {},
     "output_type": "execute_result"
    }
   ],
   "source": [
    "train['Title'].unique()"
   ]
  },
  {
   "cell_type": "code",
   "execution_count": 62,
   "id": "40febdb0",
   "metadata": {},
   "outputs": [
    {
     "data": {
      "text/plain": [
       "array(['Mr', 'Mrs', 'Miss', 'Master', 'Ms', 'Col', 'Rev', 'Dr', 'Dona'],\n",
       "      dtype=object)"
      ]
     },
     "execution_count": 62,
     "metadata": {},
     "output_type": "execute_result"
    }
   ],
   "source": [
    "test['Title'].unique()\n",
    "#test 데이터에만 있는 호칭 'Dona'>nan 값으로 변환"
   ]
  },
  {
   "cell_type": "code",
   "execution_count": 63,
   "id": "d5e24b27",
   "metadata": {},
   "outputs": [],
   "source": [
    "#Dona 호칭에 Other를 맵핑해 주기 위해 추가 - 위는 주석으로 만들고 다시 전부 재실행\n",
    "#이렇게 번거로운 재실행 안 하려면 처음부터 train데이터와 test데이터의 차이 염두에 두어야\n",
    "title_dict['Dona'] = 'Others'\n",
    "test['Title'] = test['Title'].map(title_dict)"
   ]
  },
  {
   "cell_type": "code",
   "execution_count": 64,
   "id": "94805826",
   "metadata": {},
   "outputs": [],
   "source": [
    "#만일 위와 같이 다시 전부 재실행하기 싫으면 아래처럼 해도 된다.\n",
    "#test.loc[test['Title'].isnull(),'Title'] = 'Others'"
   ]
  },
  {
   "cell_type": "code",
   "execution_count": 65,
   "id": "7563c6ac",
   "metadata": {
    "scrolled": true
   },
   "outputs": [
    {
     "data": {
      "text/plain": [
       "array(['Mr', 'Mrs', 'Miss', 'Master', 'Others', 'Rev'], dtype=object)"
      ]
     },
     "execution_count": 65,
     "metadata": {},
     "output_type": "execute_result"
    }
   ],
   "source": [
    "test['Title'].unique()\n",
    "train['Title'].unique()"
   ]
  },
  {
   "cell_type": "code",
   "execution_count": 66,
   "id": "416657e6",
   "metadata": {},
   "outputs": [
    {
     "data": {
      "text/plain": [
       "array(['A/5 21171', 'PC 17599', 'STON/O2. 3101282', '113803', '373450',\n",
       "       '330877', '17463', '349909', '347742', '237736', 'PP 9549',\n",
       "       '113783', 'A/5. 2151', '347082', '350406', '248706', '382652',\n",
       "       '244373', '345763', '2649', '239865', '248698', '330923', '113788',\n",
       "       '347077', '2631', '19950', '330959', '349216', 'PC 17601',\n",
       "       'PC 17569', '335677', 'C.A. 24579', 'PC 17604', '113789', '2677',\n",
       "       'A./5. 2152', '345764', '2651', '7546', '11668', '349253',\n",
       "       'SC/Paris 2123', '330958', 'S.C./A.4. 23567', '370371', '14311',\n",
       "       '2662', '349237', '3101295', 'A/4. 39886', 'PC 17572', '2926',\n",
       "       '113509', '19947', 'C.A. 31026', '2697', 'C.A. 34651', 'CA 2144',\n",
       "       '2669', '113572', '36973', '347088', 'PC 17605', '2661',\n",
       "       'C.A. 29395', 'S.P. 3464', '3101281', '315151', 'C.A. 33111',\n",
       "       'S.O.C. 14879', '2680', '1601', '348123', '349208', '374746',\n",
       "       '248738', '364516', '345767', '345779', '330932', '113059',\n",
       "       'SO/C 14885', '3101278', 'W./C. 6608', 'SOTON/OQ 392086', '343275',\n",
       "       '343276', '347466', 'W.E.P. 5734', 'C.A. 2315', '364500', '374910',\n",
       "       'PC 17754', 'PC 17759', '231919', '244367', '349245', '349215',\n",
       "       '35281', '7540', '3101276', '349207', '343120', '312991', '349249',\n",
       "       '371110', '110465', '2665', '324669', '4136', '2627',\n",
       "       'STON/O 2. 3101294', '370369', 'PC 17558', 'A4. 54510', '27267',\n",
       "       '370372', 'C 17369', '2668', '347061', '349241',\n",
       "       'SOTON/O.Q. 3101307', 'A/5. 3337', '228414', 'C.A. 29178',\n",
       "       'SC/PARIS 2133', '11752', '7534', 'PC 17593', '2678', '347081',\n",
       "       'STON/O2. 3101279', '365222', '231945', 'C.A. 33112', '350043',\n",
       "       '230080', '244310', 'S.O.P. 1166', '113776', 'A.5. 11206',\n",
       "       'A/5. 851', 'Fa 265302', 'PC 17597', '35851', 'SOTON/OQ 392090',\n",
       "       '315037', 'CA. 2343', '371362', 'C.A. 33595', '347068', '315093',\n",
       "       '363291', '113505', 'PC 17318', '111240', 'STON/O 2. 3101280',\n",
       "       '17764', '350404', '4133', 'PC 17595', '250653', 'LINE',\n",
       "       'SC/PARIS 2131', '230136', '315153', '113767', '370365', '111428',\n",
       "       '364849', '349247', '234604', '28424', '350046', 'PC 17610',\n",
       "       '368703', '4579', '370370', '248747', '345770', '3101264', '2628',\n",
       "       'A/5 3540', '347054', '2699', '367231', '112277',\n",
       "       'SOTON/O.Q. 3101311', 'F.C.C. 13528', 'A/5 21174', '250646',\n",
       "       '367229', '35273', 'STON/O2. 3101283', '243847', '11813',\n",
       "       'W/C 14208', 'SOTON/OQ 392089', '220367', '21440', '349234',\n",
       "       '19943', 'PP 4348', 'SW/PP 751', 'A/5 21173', '236171', '347067',\n",
       "       '237442', 'C.A. 29566', 'W./C. 6609', '26707', 'C.A. 31921',\n",
       "       '28665', 'SCO/W 1585', '367230', 'W./C. 14263',\n",
       "       'STON/O 2. 3101275', '2694', '19928', '347071', '250649', '11751',\n",
       "       '244252', '362316', '113514', 'A/5. 3336', '370129', '2650',\n",
       "       'PC 17585', '110152', 'PC 17755', '230433', '384461', '110413',\n",
       "       '112059', '382649', 'C.A. 17248', '347083', 'PC 17582', 'PC 17760',\n",
       "       '113798', '250644', 'PC 17596', '370375', '13502', '347073',\n",
       "       '239853', 'C.A. 2673', '336439', '347464', '345778', 'A/5. 10482',\n",
       "       '113056', '349239', '345774', '349206', '237798', '370373',\n",
       "       '19877', '11967', 'SC/Paris 2163', '349236', '349233', 'PC 17612',\n",
       "       '2693', '113781', '19988', '9234', '367226', '226593', 'A/5 2466',\n",
       "       '17421', 'PC 17758', 'P/PP 3381', 'PC 17485', '11767', 'PC 17608',\n",
       "       '250651', '349243', 'F.C.C. 13529', '347470', '29011', '36928',\n",
       "       '16966', 'A/5 21172', '349219', '234818', '345364', '28551',\n",
       "       '111361', '113043', 'PC 17611', '349225', '7598', '113784',\n",
       "       '248740', '244361', '229236', '248733', '31418', '386525',\n",
       "       'C.A. 37671', '315088', '7267', '113510', '2695', '2647', '345783',\n",
       "       '237671', '330931', '330980', 'SC/PARIS 2167', '2691',\n",
       "       'SOTON/O.Q. 3101310', 'C 7076', '110813', '2626', '14313',\n",
       "       'PC 17477', '11765', '3101267', '323951', 'C 7077', '113503',\n",
       "       '2648', '347069', 'PC 17757', '2653', 'STON/O 2. 3101293',\n",
       "       '349227', '27849', '367655', 'SC 1748', '113760', '350034',\n",
       "       '3101277', '350052', '350407', '28403', '244278', '240929',\n",
       "       'STON/O 2. 3101289', '341826', '4137', '315096', '28664', '347064',\n",
       "       '29106', '312992', '349222', '394140', 'STON/O 2. 3101269',\n",
       "       '343095', '28220', '250652', '28228', '345773', '349254',\n",
       "       'A/5. 13032', '315082', '347080', 'A/4. 34244', '2003', '250655',\n",
       "       '364851', 'SOTON/O.Q. 392078', '110564', '376564', 'SC/AH 3085',\n",
       "       'STON/O 2. 3101274', '13507', 'C.A. 18723', '345769', '347076',\n",
       "       '230434', '65306', '33638', '113794', '2666', '113786', '65303',\n",
       "       '113051', '17453', 'A/5 2817', '349240', '13509', '17464',\n",
       "       'F.C.C. 13531', '371060', '19952', '364506', '111320', '234360',\n",
       "       'A/S 2816', 'SOTON/O.Q. 3101306', '113792', '36209', '323592',\n",
       "       '315089', 'SC/AH Basle 541', '7553', '31027', '3460', '350060',\n",
       "       '3101298', '239854', 'A/5 3594', '4134', '11771', 'A.5. 18509',\n",
       "       '65304', 'SOTON/OQ 3101317', '113787', 'PC 17609', 'A/4 45380',\n",
       "       '36947', 'C.A. 6212', '350035', '315086', '364846', '330909',\n",
       "       '4135', '26360', '111427', 'C 4001', '382651', 'SOTON/OQ 3101316',\n",
       "       'PC 17473', 'PC 17603', '349209', '36967', 'C.A. 34260', '226875',\n",
       "       '349242', '12749', '349252', '2624', '2700', '367232',\n",
       "       'W./C. 14258', 'PC 17483', '3101296', '29104', '2641', '2690',\n",
       "       '315084', '113050', 'PC 17761', '364498', '13568', 'WE/P 5735',\n",
       "       '2908', '693', 'SC/PARIS 2146', '244358', '330979', '2620',\n",
       "       '347085', '113807', '11755', '345572', '372622', '349251',\n",
       "       '218629', 'SOTON/OQ 392082', 'SOTON/O.Q. 392087', 'A/4 48871',\n",
       "       '349205', '2686', '350417', 'S.W./PP 752', '11769', 'PC 17474',\n",
       "       '14312', 'A/4. 20589', '358585', '243880', '2689',\n",
       "       'STON/O 2. 3101286', '237789', '13049', '3411', '237565', '13567',\n",
       "       '14973', 'A./5. 3235', 'STON/O 2. 3101273', 'A/5 3902', '364848',\n",
       "       'SC/AH 29037', '248727', '2664', '349214', '113796', '364511',\n",
       "       '111426', '349910', '349246', '113804', 'SOTON/O.Q. 3101305',\n",
       "       '370377', '364512', '220845', '31028', '2659', '11753', '350029',\n",
       "       '54636', '36963', '219533', '349224', '334912', '27042', '347743',\n",
       "       '13214', '112052', '237668', 'STON/O 2. 3101292', '350050',\n",
       "       '349231', '13213', 'S.O./P.P. 751', 'CA. 2314', '349221', '8475',\n",
       "       '330919', '365226', '349223', '29751', '2623', '5727', '349210',\n",
       "       'STON/O 2. 3101285', '234686', '312993', 'A/5 3536', '19996',\n",
       "       '29750', 'F.C. 12750', 'C.A. 24580', '244270', '239856', '349912',\n",
       "       '342826', '4138', '330935', '6563', '349228', '350036', '24160',\n",
       "       '17474', '349256', '2672', '113800', '248731', '363592', '35852',\n",
       "       '348121', 'PC 17475', '36864', '350025', '223596', 'PC 17476',\n",
       "       'PC 17482', '113028', '7545', '250647', '348124', '34218', '36568',\n",
       "       '347062', '350048', '12233', '250643', '113806', '315094', '36866',\n",
       "       '236853', 'STON/O2. 3101271', '239855', '28425', '233639',\n",
       "       '349201', '349218', '16988', '376566', 'STON/O 2. 3101288',\n",
       "       '250648', '113773', '335097', '29103', '392096', '345780',\n",
       "       '349204', '350042', '29108', '363294', 'SOTON/O2 3101272', '2663',\n",
       "       '347074', '112379', '364850', '8471', '345781', '350047',\n",
       "       'S.O./P.P. 3', '2674', '29105', '347078', '383121', '36865',\n",
       "       '2687', '113501', 'W./C. 6607', 'SOTON/O.Q. 3101312', '374887',\n",
       "       '3101265', '12460', 'PC 17600', '349203', '28213', '17465',\n",
       "       '349244', '2685', '2625', '347089', '347063', '112050', '347087',\n",
       "       '248723', '3474', '28206', '364499', '112058', 'STON/O2. 3101290',\n",
       "       'S.C./PARIS 2079', 'C 7075', '315098', '19972', '368323', '367228',\n",
       "       '2671', '347468', '2223', 'PC 17756', '315097', '392092', '11774',\n",
       "       'SOTON/O2 3101287', '2683', '315090', 'C.A. 5547', '349213',\n",
       "       '347060', 'PC 17592', '392091', '113055', '2629', '350026',\n",
       "       '28134', '17466', '233866', '236852', 'SC/PARIS 2149', 'PC 17590',\n",
       "       '345777', '349248', '695', '345765', '2667', '349212', '349217',\n",
       "       '349257', '7552', 'C.A./SOTON 34068', 'SOTON/OQ 392076', '211536',\n",
       "       '112053', '111369', '370376'], dtype=object)"
      ]
     },
     "execution_count": 66,
     "metadata": {},
     "output_type": "execute_result"
    }
   ],
   "source": [
    "train['Ticket'].unique()\n",
    "#의미 없다. Ticket데이터도 삭제"
   ]
  },
  {
   "cell_type": "markdown",
   "id": "74bdf0ce",
   "metadata": {},
   "source": [
    "###### 필요없는 컬럼 삭제\n",
    "\n",
    "- Name, SibSp, Parch, Ticket"
   ]
  },
  {
   "cell_type": "code",
   "execution_count": 67,
   "id": "ce350946",
   "metadata": {},
   "outputs": [],
   "source": [
    "train.drop(['Name','Ticket','SibSp','Parch'], axis = 1, inplace=True)\n",
    "test.drop(['Name','Ticket','SibSp','Parch'], axis = 1, inplace=True)"
   ]
  },
  {
   "cell_type": "code",
   "execution_count": 68,
   "id": "a4ed719f",
   "metadata": {},
   "outputs": [
    {
     "name": "stdout",
     "output_type": "stream",
     "text": [
      "<class 'pandas.core.frame.DataFrame'>\n",
      "Index: 891 entries, 1 to 891\n",
      "Data columns (total 9 columns):\n",
      " #   Column       Non-Null Count  Dtype   \n",
      "---  ------       --------------  -----   \n",
      " 0   Survived     891 non-null    int64   \n",
      " 1   Pclass       891 non-null    int64   \n",
      " 2   Sex          891 non-null    object  \n",
      " 3   Age          891 non-null    int64   \n",
      " 4   Fare         891 non-null    float64 \n",
      " 5   Embarked     891 non-null    object  \n",
      " 6   Deck         891 non-null    object  \n",
      " 7   Family_Size  891 non-null    category\n",
      " 8   Title        891 non-null    object  \n",
      "dtypes: category(1), float64(1), int64(3), object(4)\n",
      "memory usage: 95.9+ KB\n"
     ]
    }
   ],
   "source": [
    "train.info()"
   ]
  },
  {
   "cell_type": "code",
   "execution_count": 69,
   "id": "1c75c35e",
   "metadata": {
    "scrolled": true
   },
   "outputs": [
    {
     "name": "stdout",
     "output_type": "stream",
     "text": [
      "(891, 9)\n",
      "(418, 8)\n"
     ]
    }
   ],
   "source": [
    "print(train.shape)\n",
    "print(test.shape)"
   ]
  },
  {
   "cell_type": "markdown",
   "id": "e363fcb4",
   "metadata": {},
   "source": [
    "### 5. 모델 선택 및 하이퍼파라미터 설정\n",
    "\n",
    "- 데이터 분리(문제, 정답)"
   ]
  },
  {
   "cell_type": "code",
   "execution_count": 70,
   "id": "5be70e69",
   "metadata": {},
   "outputs": [],
   "source": [
    "#X_train (문제_Survived를 제외한 나머지)\n",
    "#y_train (정답 -> Survived)\n",
    "#X_test\n",
    "\n",
    "#머신러닝에서 문제데이터는 언제나 2차원 정답데이터는 언제나 1차원\n",
    "#만일 문제데이터에 컬럼이 하나더라도 DF로 만들어 주어야.\n",
    "\n",
    "from sklearn.model_selection import train_test_split\n",
    "\n",
    "X_train = train.drop('Survived', axis = 1)\n",
    "y_train = train['Survived']\n",
    "X_test = test"
   ]
  },
  {
   "cell_type": "code",
   "execution_count": 71,
   "id": "57d4a63c",
   "metadata": {},
   "outputs": [
    {
     "name": "stdout",
     "output_type": "stream",
     "text": [
      "(891, 8) (891,)\n",
      "(418, 8)\n"
     ]
    }
   ],
   "source": [
    "#크기 확인\n",
    "print(X_train.shape, y_train.shape)\n",
    "print(X_test.shape)"
   ]
  },
  {
   "cell_type": "code",
   "execution_count": 72,
   "id": "fc405cfc",
   "metadata": {},
   "outputs": [
    {
     "name": "stdout",
     "output_type": "stream",
     "text": [
      "<class 'pandas.core.frame.DataFrame'>\n",
      "Index: 891 entries, 1 to 891\n",
      "Data columns (total 8 columns):\n",
      " #   Column       Non-Null Count  Dtype   \n",
      "---  ------       --------------  -----   \n",
      " 0   Pclass       891 non-null    int64   \n",
      " 1   Sex          891 non-null    object  \n",
      " 2   Age          891 non-null    int64   \n",
      " 3   Fare         891 non-null    float64 \n",
      " 4   Embarked     891 non-null    object  \n",
      " 5   Deck         891 non-null    object  \n",
      " 6   Family_Size  891 non-null    category\n",
      " 7   Title        891 non-null    object  \n",
      "dtypes: category(1), float64(1), int64(2), object(4)\n",
      "memory usage: 89.0+ KB\n"
     ]
    }
   ],
   "source": [
    "X_train.info()\n",
    "#문자열 형태의 데이터를 수치형으로 변경"
   ]
  },
  {
   "cell_type": "code",
   "execution_count": 73,
   "id": "ee387c56",
   "metadata": {},
   "outputs": [],
   "source": [
    "# 원핫인코딩\n",
    "X_train = pd.get_dummies(X_train)\n",
    "X_test = pd.get_dummies(X_test)"
   ]
  },
  {
   "cell_type": "code",
   "execution_count": 74,
   "id": "860d7602",
   "metadata": {},
   "outputs": [
    {
     "name": "stdout",
     "output_type": "stream",
     "text": [
      "(891, 26)\n",
      "(418, 25)\n"
     ]
    }
   ],
   "source": [
    "#크기확인\n",
    "print(X_train.shape)\n",
    "print(X_test.shape)\n",
    "\n",
    "#컬럼 데이터가 같지 않다. 왜?\n"
   ]
  },
  {
   "cell_type": "code",
   "execution_count": 75,
   "id": "cad3670a",
   "metadata": {},
   "outputs": [
    {
     "data": {
      "text/plain": [
       "{'Deck_T'}"
      ]
     },
     "execution_count": 75,
     "metadata": {},
     "output_type": "execute_result"
    }
   ],
   "source": [
    "#인코딩 후 X_train, X_test 컬럼 수 차이\n",
    "#머신러닝 학습을 위해서는 컬럼의 순서와 개수를 맞춰 주어야 한다\n",
    "\n",
    "#set() : 중복이 없는 요소들만 값으로 구성\n",
    "#값으로 구성하므로 연산이 가능\n",
    "set(X_train.columns) - set(X_test.columns)"
   ]
  },
  {
   "cell_type": "code",
   "execution_count": 76,
   "id": "bb684e49",
   "metadata": {},
   "outputs": [],
   "source": [
    "#X_train에는 존재하지만 X_test에는 존재하지 않는 'Deck_T'컬럼\n",
    "#X_test에 'Deck_T' 컬럼 추가\n",
    "#컬럼은 새로 만들지만 해당자가 없으므로 전부 0 값을 준다.\n",
    "X_test['Deck_T'] = 0"
   ]
  },
  {
   "cell_type": "code",
   "execution_count": 77,
   "id": "0227d9a4",
   "metadata": {},
   "outputs": [
    {
     "name": "stdout",
     "output_type": "stream",
     "text": [
      "(891, 26)\n",
      "(418, 26)\n"
     ]
    }
   ],
   "source": [
    "#크기확인\n",
    "print(X_train.shape)\n",
    "print(X_test.shape)"
   ]
  },
  {
   "cell_type": "code",
   "execution_count": 78,
   "id": "b55ecfb6",
   "metadata": {},
   "outputs": [
    {
     "data": {
      "text/plain": [
       "Index(['Pclass', 'Age', 'Fare', 'Sex_female', 'Sex_male', 'Embarked_C',\n",
       "       'Embarked_Q', 'Embarked_S', 'Deck_A', 'Deck_B', 'Deck_C', 'Deck_D',\n",
       "       'Deck_E', 'Deck_F', 'Deck_G', 'Deck_M', 'Deck_T', 'Family_Size_Alone',\n",
       "       'Family_Size_Small', 'Family_Size_Large', 'Title_Master', 'Title_Miss',\n",
       "       'Title_Mr', 'Title_Mrs', 'Title_Others', 'Title_Rev'],\n",
       "      dtype='object')"
      ]
     },
     "execution_count": 78,
     "metadata": {},
     "output_type": "execute_result"
    }
   ],
   "source": [
    "X_train.columns"
   ]
  },
  {
   "cell_type": "code",
   "execution_count": 79,
   "id": "772cd376",
   "metadata": {},
   "outputs": [
    {
     "data": {
      "text/plain": [
       "Index(['Pclass', 'Age', 'Fare', 'Sex_female', 'Sex_male', 'Embarked_C',\n",
       "       'Embarked_Q', 'Embarked_S', 'Deck_A', 'Deck_B', 'Deck_C', 'Deck_D',\n",
       "       'Deck_E', 'Deck_F', 'Deck_G', 'Deck_M', 'Family_Size_Alone',\n",
       "       'Family_Size_Small', 'Family_Size_Large', 'Title_Master', 'Title_Miss',\n",
       "       'Title_Mr', 'Title_Mrs', 'Title_Others', 'Title_Rev', 'Deck_T'],\n",
       "      dtype='object')"
      ]
     },
     "execution_count": 79,
     "metadata": {},
     "output_type": "execute_result"
    }
   ],
   "source": [
    "X_test.columns"
   ]
  },
  {
   "cell_type": "code",
   "execution_count": 80,
   "id": "5249a153",
   "metadata": {},
   "outputs": [],
   "source": [
    "#기계학습을 위해 컬럼들 순서도 맞춰 주어야. Deck_T가 새로 생성되면서 컬럼들 순서가 안 맞게 되었다.\n",
    "#X_train에 있는 Deck_T 값을 마지막으로 옮겨주자!\n",
    "\n",
    "temp = X_train['Deck_T'] #임시 변수에 Deck_T를 담아줌"
   ]
  },
  {
   "cell_type": "code",
   "execution_count": 81,
   "id": "60df77b4",
   "metadata": {},
   "outputs": [],
   "source": [
    "#원래 있는 X_train의 'Deck_T'삭제\n",
    "X_train.drop('Deck_T', axis = 1, inplace=True) "
   ]
  },
  {
   "cell_type": "code",
   "execution_count": 82,
   "id": "79039552",
   "metadata": {},
   "outputs": [],
   "source": [
    "#다시 Deck_T에 넣어주기\n",
    "X_train['Deck_T'] = temp"
   ]
  },
  {
   "cell_type": "code",
   "execution_count": 83,
   "id": "e5036c4c",
   "metadata": {},
   "outputs": [
    {
     "name": "stdout",
     "output_type": "stream",
     "text": [
      "<class 'pandas.core.frame.DataFrame'>\n",
      "Index: 891 entries, 1 to 891\n",
      "Data columns (total 26 columns):\n",
      " #   Column             Non-Null Count  Dtype  \n",
      "---  ------             --------------  -----  \n",
      " 0   Pclass             891 non-null    int64  \n",
      " 1   Age                891 non-null    int64  \n",
      " 2   Fare               891 non-null    float64\n",
      " 3   Sex_female         891 non-null    bool   \n",
      " 4   Sex_male           891 non-null    bool   \n",
      " 5   Embarked_C         891 non-null    bool   \n",
      " 6   Embarked_Q         891 non-null    bool   \n",
      " 7   Embarked_S         891 non-null    bool   \n",
      " 8   Deck_A             891 non-null    bool   \n",
      " 9   Deck_B             891 non-null    bool   \n",
      " 10  Deck_C             891 non-null    bool   \n",
      " 11  Deck_D             891 non-null    bool   \n",
      " 12  Deck_E             891 non-null    bool   \n",
      " 13  Deck_F             891 non-null    bool   \n",
      " 14  Deck_G             891 non-null    bool   \n",
      " 15  Deck_M             891 non-null    bool   \n",
      " 16  Family_Size_Alone  891 non-null    bool   \n",
      " 17  Family_Size_Small  891 non-null    bool   \n",
      " 18  Family_Size_Large  891 non-null    bool   \n",
      " 19  Title_Master       891 non-null    bool   \n",
      " 20  Title_Miss         891 non-null    bool   \n",
      " 21  Title_Mr           891 non-null    bool   \n",
      " 22  Title_Mrs          891 non-null    bool   \n",
      " 23  Title_Others       891 non-null    bool   \n",
      " 24  Title_Rev          891 non-null    bool   \n",
      " 25  Deck_T             891 non-null    bool   \n",
      "dtypes: bool(23), float64(1), int64(2)\n",
      "memory usage: 80.1 KB\n",
      "<class 'pandas.core.frame.DataFrame'>\n",
      "Index: 418 entries, 892 to 1309\n",
      "Data columns (total 26 columns):\n",
      " #   Column             Non-Null Count  Dtype  \n",
      "---  ------             --------------  -----  \n",
      " 0   Pclass             418 non-null    int64  \n",
      " 1   Age                418 non-null    int64  \n",
      " 2   Fare               418 non-null    float64\n",
      " 3   Sex_female         418 non-null    bool   \n",
      " 4   Sex_male           418 non-null    bool   \n",
      " 5   Embarked_C         418 non-null    bool   \n",
      " 6   Embarked_Q         418 non-null    bool   \n",
      " 7   Embarked_S         418 non-null    bool   \n",
      " 8   Deck_A             418 non-null    bool   \n",
      " 9   Deck_B             418 non-null    bool   \n",
      " 10  Deck_C             418 non-null    bool   \n",
      " 11  Deck_D             418 non-null    bool   \n",
      " 12  Deck_E             418 non-null    bool   \n",
      " 13  Deck_F             418 non-null    bool   \n",
      " 14  Deck_G             418 non-null    bool   \n",
      " 15  Deck_M             418 non-null    bool   \n",
      " 16  Family_Size_Alone  418 non-null    bool   \n",
      " 17  Family_Size_Small  418 non-null    bool   \n",
      " 18  Family_Size_Large  418 non-null    bool   \n",
      " 19  Title_Master       418 non-null    bool   \n",
      " 20  Title_Miss         418 non-null    bool   \n",
      " 21  Title_Mr           418 non-null    bool   \n",
      " 22  Title_Mrs          418 non-null    bool   \n",
      " 23  Title_Others       418 non-null    bool   \n",
      " 24  Title_Rev          418 non-null    bool   \n",
      " 25  Deck_T             418 non-null    int64  \n",
      "dtypes: bool(22), float64(1), int64(3)\n",
      "memory usage: 25.3 KB\n"
     ]
    }
   ],
   "source": [
    "#최종확인\n",
    "X_train.info()\n",
    "X_test.info()"
   ]
  },
  {
   "cell_type": "markdown",
   "id": "69f1d593",
   "metadata": {},
   "source": [
    "### 6. 모델 학습"
   ]
  },
  {
   "cell_type": "markdown",
   "id": "7d01b8ba",
   "metadata": {},
   "source": [
    "- 모델학습\n",
    "    - KNN 모델\n",
    "    - 의사결정나무 모델\n",
    "    "
   ]
  },
  {
   "cell_type": "code",
   "execution_count": 84,
   "id": "5d52d432",
   "metadata": {},
   "outputs": [
    {
     "data": {
      "text/plain": [
       "0.7104764296026616"
      ]
     },
     "execution_count": 84,
     "metadata": {},
     "output_type": "execute_result"
    }
   ],
   "source": [
    "#KNN 모델 학습_하이퍼파라미터 조절 X\n",
    "#교차검증\n",
    "#결과(knn_pre)\n",
    "\n",
    "#문제발생시 X_train.values, X_test.values 등으로 입력하자.\n",
    "\n",
    "from sklearn.neighbors import KNeighborsClassifier #KNN 분류모델 불러오기\n",
    "from sklearn.metrics import accuracy_score \n",
    "from sklearn.model_selection import cross_val_score #교차검증 도구 -> 일반화 확인\n",
    "\n",
    "#KNN 모델 객체 생성\n",
    "knn_model = KNeighborsClassifier()\n",
    "\n",
    "#모델 학습\n",
    "knn_model.fit(X_train, y_train)\n",
    "#교차검증. 문제데이터 X_train 혹은 X_train.values\n",
    "cross_val_score(knn_model, X_train, y_train, cv=5)\n",
    "cross_val_score(knn_model, X_train, y_train, cv=5).mean()"
   ]
  },
  {
   "cell_type": "markdown",
   "id": "b2f5c337",
   "metadata": {},
   "source": [
    "```python\n",
    "비록 모델이 X_train, y_train을 가지고 학습했더라도 정확히 1:1 대응을 하는 게 아니라\n",
    "특성을 기준으로 학습시키는 것이기 때문에 이렇게 하더라도 꼭 1 값이 나오는 건 아니다.\n",
    "다만 교차검증하는 것보다는 아무래도 값이 높게 나온다.\n",
    "그러니까 굳이 이렇게 할 필요는 없음. 다만 원리 이해 도움 되라고 놔둠.\n",
    "knn_train_pred = knn_model.predict(X_train)\n",
    "\n",
    "accuracy_score(y_train,knn_train_pred)\n",
    "```"
   ]
  },
  {
   "cell_type": "code",
   "execution_count": 85,
   "id": "50d98791",
   "metadata": {},
   "outputs": [],
   "source": [
    "#최종 결과\n",
    "knn_pre = knn_model.predict(X_test)"
   ]
  },
  {
   "cell_type": "code",
   "execution_count": 86,
   "id": "57518a2b",
   "metadata": {},
   "outputs": [
    {
     "data": {
      "text/plain": [
       "0.8204067541271736"
      ]
     },
     "execution_count": 86,
     "metadata": {},
     "output_type": "execute_result"
    }
   ],
   "source": [
    "#decision tree 모델 학습_하이퍼파라미터 조절 X\n",
    "#결과(tree_pre)\n",
    "\n",
    "from sklearn.tree import DecisionTreeClassifier #의사결정나무 분류모델 불러오기\n",
    "\n",
    "tree_model = DecisionTreeClassifier(max_depth = 4)\n",
    "tree_model.fit(X_train,y_train)\n",
    "\n",
    "cross_val_score(tree_model, X_train, y_train, cv=5 )\n",
    "cross_val_score(tree_model, X_train, y_train, cv=5 ).mean()"
   ]
  },
  {
   "cell_type": "markdown",
   "id": "fb122fcd",
   "metadata": {},
   "source": [
    "```python\n",
    "\n",
    "이거도 위 백틱 먹인 마크다운 셀과 같다\n",
    "\n",
    "tree_train_pred = tree_model.predict(X_train)\n",
    "accuracy_score(y_train,tree_train_pred)\n",
    "```"
   ]
  },
  {
   "cell_type": "code",
   "execution_count": 87,
   "id": "5e40e1da",
   "metadata": {},
   "outputs": [],
   "source": [
    "#최종 결과\n",
    "tree_pre = tree_model.predict(X_test)"
   ]
  },
  {
   "cell_type": "markdown",
   "id": "fb0fbe71",
   "metadata": {},
   "source": [
    "### 7. 모델 평가"
   ]
  },
  {
   "cell_type": "code",
   "execution_count": 88,
   "id": "16c94390",
   "metadata": {},
   "outputs": [
    {
     "data": {
      "text/html": [
       "<div>\n",
       "<style scoped>\n",
       "    .dataframe tbody tr th:only-of-type {\n",
       "        vertical-align: middle;\n",
       "    }\n",
       "\n",
       "    .dataframe tbody tr th {\n",
       "        vertical-align: top;\n",
       "    }\n",
       "\n",
       "    .dataframe thead th {\n",
       "        text-align: right;\n",
       "    }\n",
       "</style>\n",
       "<table border=\"1\" class=\"dataframe\">\n",
       "  <thead>\n",
       "    <tr style=\"text-align: right;\">\n",
       "      <th></th>\n",
       "      <th>PassengerId</th>\n",
       "      <th>Survived</th>\n",
       "    </tr>\n",
       "  </thead>\n",
       "  <tbody>\n",
       "    <tr>\n",
       "      <th>0</th>\n",
       "      <td>892</td>\n",
       "      <td>0</td>\n",
       "    </tr>\n",
       "    <tr>\n",
       "      <th>1</th>\n",
       "      <td>893</td>\n",
       "      <td>1</td>\n",
       "    </tr>\n",
       "    <tr>\n",
       "      <th>2</th>\n",
       "      <td>894</td>\n",
       "      <td>0</td>\n",
       "    </tr>\n",
       "    <tr>\n",
       "      <th>3</th>\n",
       "      <td>895</td>\n",
       "      <td>0</td>\n",
       "    </tr>\n",
       "    <tr>\n",
       "      <th>4</th>\n",
       "      <td>896</td>\n",
       "      <td>1</td>\n",
       "    </tr>\n",
       "    <tr>\n",
       "      <th>...</th>\n",
       "      <td>...</td>\n",
       "      <td>...</td>\n",
       "    </tr>\n",
       "    <tr>\n",
       "      <th>413</th>\n",
       "      <td>1305</td>\n",
       "      <td>0</td>\n",
       "    </tr>\n",
       "    <tr>\n",
       "      <th>414</th>\n",
       "      <td>1306</td>\n",
       "      <td>1</td>\n",
       "    </tr>\n",
       "    <tr>\n",
       "      <th>415</th>\n",
       "      <td>1307</td>\n",
       "      <td>0</td>\n",
       "    </tr>\n",
       "    <tr>\n",
       "      <th>416</th>\n",
       "      <td>1308</td>\n",
       "      <td>0</td>\n",
       "    </tr>\n",
       "    <tr>\n",
       "      <th>417</th>\n",
       "      <td>1309</td>\n",
       "      <td>0</td>\n",
       "    </tr>\n",
       "  </tbody>\n",
       "</table>\n",
       "<p>418 rows × 2 columns</p>\n",
       "</div>"
      ],
      "text/plain": [
       "     PassengerId  Survived\n",
       "0            892         0\n",
       "1            893         1\n",
       "2            894         0\n",
       "3            895         0\n",
       "4            896         1\n",
       "..           ...       ...\n",
       "413         1305         0\n",
       "414         1306         1\n",
       "415         1307         0\n",
       "416         1308         0\n",
       "417         1309         0\n",
       "\n",
       "[418 rows x 2 columns]"
      ]
     },
     "execution_count": 88,
     "metadata": {},
     "output_type": "execute_result"
    }
   ],
   "source": [
    "#kaggle 제출방법 설명\n",
    "#gender_sumission.csv 파일 읽어온 뒤 변수에 담아주기\n",
    "result_sub = pd.read_csv('data/titanic_gender_submission.csv')\n",
    "\n",
    "#이게 바로 답안지 파일 => 여기에 우리가 예측한 값을 넣어주자!\n",
    "result_sub\n"
   ]
  },
  {
   "cell_type": "code",
   "execution_count": 89,
   "id": "cfb07b12",
   "metadata": {},
   "outputs": [],
   "source": [
    "#Survived 컬럼에 우리가 예측한 정답 덮어 씌워주기\n",
    "result_sub['Survived'] = knn_pre"
   ]
  },
  {
   "cell_type": "code",
   "execution_count": 90,
   "id": "ad0c1b50",
   "metadata": {},
   "outputs": [],
   "source": [
    "#csv 파일로 저장하기\n",
    "result_sub.to_csv('data/CKI_sub01.csv', index=False)"
   ]
  },
  {
   "cell_type": "code",
   "execution_count": 91,
   "id": "4601682f",
   "metadata": {},
   "outputs": [],
   "source": [
    "#Tree 모델도 위와 같디\n",
    "result_sub['Survived'] = tree_pre"
   ]
  },
  {
   "cell_type": "code",
   "execution_count": 92,
   "id": "00fa07ef",
   "metadata": {},
   "outputs": [],
   "source": [
    "result_sub.to_csv('data/MCDC_sub02.csv', index=False)"
   ]
  },
  {
   "cell_type": "code",
   "execution_count": 93,
   "id": "11d931e7",
   "metadata": {},
   "outputs": [],
   "source": [
    "#이제 만든 파일을 캐글의 해당 컴피티션(Titanic - Machine Learning from Disaster)에 올려주기"
   ]
  },
  {
   "cell_type": "markdown",
   "id": "0824b4d7",
   "metadata": {},
   "source": [
    "##### 성능 개선 사항\n",
    "- 데이터 양을 늘리기 위해서 수집\n",
    "- 전처리방식 수정\n",
    "- 더 좋은 모델 사용\n",
    "- 하이퍼파라미터 조절\n",
    "- 범위조정(scale 조정)\n",
    "    - 거리계산을 하는 knn 모델의 성능을 높이기 위해서 사용하는 방법\n",
    "    - sklearn에서 제공하는 Scaler를 제공해 줌. 사용법만 알아두기!\n",
    "        - 현역판정시 두 사람이 시력이 1.5 차이가 나는데 키가 5cm 차이가 난다면?\n",
    "        - 실제로는 징집 여부에 시력이 더 중요한 팩터임에도 숫자가 키가 더 크므로 더 영향이 크다!\n",
    "        - 이 경우 키의 단위를 cm가 아닌 m로 해 주면 가중치 조절 가능\n",
    "        - 이 때 사용하는 게 Scaler!"
   ]
  },
  {
   "cell_type": "code",
   "execution_count": 94,
   "id": "bb036069",
   "metadata": {},
   "outputs": [],
   "source": [
    "#도구 불러오기\n",
    "from sklearn.preprocessing import StandardScaler"
   ]
  },
  {
   "cell_type": "code",
   "execution_count": 95,
   "id": "3b5d5af8",
   "metadata": {},
   "outputs": [],
   "source": [
    "#객체 생성\n",
    "scaler = StandardScaler()"
   ]
  },
  {
   "cell_type": "code",
   "execution_count": 96,
   "id": "06aa78bd",
   "metadata": {},
   "outputs": [
    {
     "data": {
      "text/html": [
       "<style>#sk-container-id-1 {color: black;background-color: white;}#sk-container-id-1 pre{padding: 0;}#sk-container-id-1 div.sk-toggleable {background-color: white;}#sk-container-id-1 label.sk-toggleable__label {cursor: pointer;display: block;width: 100%;margin-bottom: 0;padding: 0.3em;box-sizing: border-box;text-align: center;}#sk-container-id-1 label.sk-toggleable__label-arrow:before {content: \"▸\";float: left;margin-right: 0.25em;color: #696969;}#sk-container-id-1 label.sk-toggleable__label-arrow:hover:before {color: black;}#sk-container-id-1 div.sk-estimator:hover label.sk-toggleable__label-arrow:before {color: black;}#sk-container-id-1 div.sk-toggleable__content {max-height: 0;max-width: 0;overflow: hidden;text-align: left;background-color: #f0f8ff;}#sk-container-id-1 div.sk-toggleable__content pre {margin: 0.2em;color: black;border-radius: 0.25em;background-color: #f0f8ff;}#sk-container-id-1 input.sk-toggleable__control:checked~div.sk-toggleable__content {max-height: 200px;max-width: 100%;overflow: auto;}#sk-container-id-1 input.sk-toggleable__control:checked~label.sk-toggleable__label-arrow:before {content: \"▾\";}#sk-container-id-1 div.sk-estimator input.sk-toggleable__control:checked~label.sk-toggleable__label {background-color: #d4ebff;}#sk-container-id-1 div.sk-label input.sk-toggleable__control:checked~label.sk-toggleable__label {background-color: #d4ebff;}#sk-container-id-1 input.sk-hidden--visually {border: 0;clip: rect(1px 1px 1px 1px);clip: rect(1px, 1px, 1px, 1px);height: 1px;margin: -1px;overflow: hidden;padding: 0;position: absolute;width: 1px;}#sk-container-id-1 div.sk-estimator {font-family: monospace;background-color: #f0f8ff;border: 1px dotted black;border-radius: 0.25em;box-sizing: border-box;margin-bottom: 0.5em;}#sk-container-id-1 div.sk-estimator:hover {background-color: #d4ebff;}#sk-container-id-1 div.sk-parallel-item::after {content: \"\";width: 100%;border-bottom: 1px solid gray;flex-grow: 1;}#sk-container-id-1 div.sk-label:hover label.sk-toggleable__label {background-color: #d4ebff;}#sk-container-id-1 div.sk-serial::before {content: \"\";position: absolute;border-left: 1px solid gray;box-sizing: border-box;top: 0;bottom: 0;left: 50%;z-index: 0;}#sk-container-id-1 div.sk-serial {display: flex;flex-direction: column;align-items: center;background-color: white;padding-right: 0.2em;padding-left: 0.2em;position: relative;}#sk-container-id-1 div.sk-item {position: relative;z-index: 1;}#sk-container-id-1 div.sk-parallel {display: flex;align-items: stretch;justify-content: center;background-color: white;position: relative;}#sk-container-id-1 div.sk-item::before, #sk-container-id-1 div.sk-parallel-item::before {content: \"\";position: absolute;border-left: 1px solid gray;box-sizing: border-box;top: 0;bottom: 0;left: 50%;z-index: -1;}#sk-container-id-1 div.sk-parallel-item {display: flex;flex-direction: column;z-index: 1;position: relative;background-color: white;}#sk-container-id-1 div.sk-parallel-item:first-child::after {align-self: flex-end;width: 50%;}#sk-container-id-1 div.sk-parallel-item:last-child::after {align-self: flex-start;width: 50%;}#sk-container-id-1 div.sk-parallel-item:only-child::after {width: 0;}#sk-container-id-1 div.sk-dashed-wrapped {border: 1px dashed gray;margin: 0 0.4em 0.5em 0.4em;box-sizing: border-box;padding-bottom: 0.4em;background-color: white;}#sk-container-id-1 div.sk-label label {font-family: monospace;font-weight: bold;display: inline-block;line-height: 1.2em;}#sk-container-id-1 div.sk-label-container {text-align: center;}#sk-container-id-1 div.sk-container {/* jupyter's `normalize.less` sets `[hidden] { display: none; }` but bootstrap.min.css set `[hidden] { display: none !important; }` so we also need the `!important` here to be able to override the default hidden behavior on the sphinx rendered scikit-learn.org. See: https://github.com/scikit-learn/scikit-learn/issues/21755 */display: inline-block !important;position: relative;}#sk-container-id-1 div.sk-text-repr-fallback {display: none;}</style><div id=\"sk-container-id-1\" class=\"sk-top-container\"><div class=\"sk-text-repr-fallback\"><pre>StandardScaler()</pre><b>In a Jupyter environment, please rerun this cell to show the HTML representation or trust the notebook. <br />On GitHub, the HTML representation is unable to render, please try loading this page with nbviewer.org.</b></div><div class=\"sk-container\" hidden><div class=\"sk-item\"><div class=\"sk-estimator sk-toggleable\"><input class=\"sk-toggleable__control sk-hidden--visually\" id=\"sk-estimator-id-1\" type=\"checkbox\" checked><label for=\"sk-estimator-id-1\" class=\"sk-toggleable__label sk-toggleable__label-arrow\">StandardScaler</label><div class=\"sk-toggleable__content\"><pre>StandardScaler()</pre></div></div></div></div></div>"
      ],
      "text/plain": [
       "StandardScaler()"
      ]
     },
     "execution_count": 96,
     "metadata": {},
     "output_type": "execute_result"
    }
   ],
   "source": [
    "#스케일러 학습\n",
    "scaler.fit(X_train)"
   ]
  },
  {
   "cell_type": "code",
   "execution_count": 97,
   "id": "fd57c1c8",
   "metadata": {},
   "outputs": [],
   "source": [
    "#학습된 스케일러를 통해 데이터값의 범위를 \"변환\"\n",
    "#X_train, X_test 모두\n",
    "t_X_train = scaler.transform(X_train)\n",
    "t_X_test = scaler.transform(X_test)"
   ]
  },
  {
   "cell_type": "code",
   "execution_count": 98,
   "id": "67e794fb",
   "metadata": {},
   "outputs": [
    {
     "data": {
      "text/html": [
       "<style>#sk-container-id-2 {color: black;background-color: white;}#sk-container-id-2 pre{padding: 0;}#sk-container-id-2 div.sk-toggleable {background-color: white;}#sk-container-id-2 label.sk-toggleable__label {cursor: pointer;display: block;width: 100%;margin-bottom: 0;padding: 0.3em;box-sizing: border-box;text-align: center;}#sk-container-id-2 label.sk-toggleable__label-arrow:before {content: \"▸\";float: left;margin-right: 0.25em;color: #696969;}#sk-container-id-2 label.sk-toggleable__label-arrow:hover:before {color: black;}#sk-container-id-2 div.sk-estimator:hover label.sk-toggleable__label-arrow:before {color: black;}#sk-container-id-2 div.sk-toggleable__content {max-height: 0;max-width: 0;overflow: hidden;text-align: left;background-color: #f0f8ff;}#sk-container-id-2 div.sk-toggleable__content pre {margin: 0.2em;color: black;border-radius: 0.25em;background-color: #f0f8ff;}#sk-container-id-2 input.sk-toggleable__control:checked~div.sk-toggleable__content {max-height: 200px;max-width: 100%;overflow: auto;}#sk-container-id-2 input.sk-toggleable__control:checked~label.sk-toggleable__label-arrow:before {content: \"▾\";}#sk-container-id-2 div.sk-estimator input.sk-toggleable__control:checked~label.sk-toggleable__label {background-color: #d4ebff;}#sk-container-id-2 div.sk-label input.sk-toggleable__control:checked~label.sk-toggleable__label {background-color: #d4ebff;}#sk-container-id-2 input.sk-hidden--visually {border: 0;clip: rect(1px 1px 1px 1px);clip: rect(1px, 1px, 1px, 1px);height: 1px;margin: -1px;overflow: hidden;padding: 0;position: absolute;width: 1px;}#sk-container-id-2 div.sk-estimator {font-family: monospace;background-color: #f0f8ff;border: 1px dotted black;border-radius: 0.25em;box-sizing: border-box;margin-bottom: 0.5em;}#sk-container-id-2 div.sk-estimator:hover {background-color: #d4ebff;}#sk-container-id-2 div.sk-parallel-item::after {content: \"\";width: 100%;border-bottom: 1px solid gray;flex-grow: 1;}#sk-container-id-2 div.sk-label:hover label.sk-toggleable__label {background-color: #d4ebff;}#sk-container-id-2 div.sk-serial::before {content: \"\";position: absolute;border-left: 1px solid gray;box-sizing: border-box;top: 0;bottom: 0;left: 50%;z-index: 0;}#sk-container-id-2 div.sk-serial {display: flex;flex-direction: column;align-items: center;background-color: white;padding-right: 0.2em;padding-left: 0.2em;position: relative;}#sk-container-id-2 div.sk-item {position: relative;z-index: 1;}#sk-container-id-2 div.sk-parallel {display: flex;align-items: stretch;justify-content: center;background-color: white;position: relative;}#sk-container-id-2 div.sk-item::before, #sk-container-id-2 div.sk-parallel-item::before {content: \"\";position: absolute;border-left: 1px solid gray;box-sizing: border-box;top: 0;bottom: 0;left: 50%;z-index: -1;}#sk-container-id-2 div.sk-parallel-item {display: flex;flex-direction: column;z-index: 1;position: relative;background-color: white;}#sk-container-id-2 div.sk-parallel-item:first-child::after {align-self: flex-end;width: 50%;}#sk-container-id-2 div.sk-parallel-item:last-child::after {align-self: flex-start;width: 50%;}#sk-container-id-2 div.sk-parallel-item:only-child::after {width: 0;}#sk-container-id-2 div.sk-dashed-wrapped {border: 1px dashed gray;margin: 0 0.4em 0.5em 0.4em;box-sizing: border-box;padding-bottom: 0.4em;background-color: white;}#sk-container-id-2 div.sk-label label {font-family: monospace;font-weight: bold;display: inline-block;line-height: 1.2em;}#sk-container-id-2 div.sk-label-container {text-align: center;}#sk-container-id-2 div.sk-container {/* jupyter's `normalize.less` sets `[hidden] { display: none; }` but bootstrap.min.css set `[hidden] { display: none !important; }` so we also need the `!important` here to be able to override the default hidden behavior on the sphinx rendered scikit-learn.org. See: https://github.com/scikit-learn/scikit-learn/issues/21755 */display: inline-block !important;position: relative;}#sk-container-id-2 div.sk-text-repr-fallback {display: none;}</style><div id=\"sk-container-id-2\" class=\"sk-top-container\"><div class=\"sk-text-repr-fallback\"><pre>KNeighborsClassifier()</pre><b>In a Jupyter environment, please rerun this cell to show the HTML representation or trust the notebook. <br />On GitHub, the HTML representation is unable to render, please try loading this page with nbviewer.org.</b></div><div class=\"sk-container\" hidden><div class=\"sk-item\"><div class=\"sk-estimator sk-toggleable\"><input class=\"sk-toggleable__control sk-hidden--visually\" id=\"sk-estimator-id-2\" type=\"checkbox\" checked><label for=\"sk-estimator-id-2\" class=\"sk-toggleable__label sk-toggleable__label-arrow\">KNeighborsClassifier</label><div class=\"sk-toggleable__content\"><pre>KNeighborsClassifier()</pre></div></div></div></div></div>"
      ],
      "text/plain": [
       "KNeighborsClassifier()"
      ]
     },
     "execution_count": 98,
     "metadata": {},
     "output_type": "execute_result"
    }
   ],
   "source": [
    "#transform된 데이터로 다시 학습\n",
    "knn_model2 = KNeighborsClassifier()\n",
    "knn_model2.fit(t_X_train,y_train)"
   ]
  },
  {
   "cell_type": "code",
   "execution_count": 99,
   "id": "6f6feb58",
   "metadata": {},
   "outputs": [
    {
     "data": {
      "text/plain": [
       "0.809189630280585"
      ]
     },
     "execution_count": 99,
     "metadata": {},
     "output_type": "execute_result"
    }
   ],
   "source": [
    "#교차검증\n",
    "cross_val_score(knn_model2,t_X_train,y_train,cv=5)\n",
    "cross_val_score(knn_model2,t_X_train,y_train,cv=5).mean()\n",
    "\n",
    "#위의 X_train, y_train으로 학습시킨 거에 비해 정확도가 무려 9% 가량 증가"
   ]
  },
  {
   "cell_type": "code",
   "execution_count": 100,
   "id": "6888cdc4",
   "metadata": {},
   "outputs": [],
   "source": [
    "knn_pre2 = knn_model2.predict(t_X_test)"
   ]
  },
  {
   "cell_type": "code",
   "execution_count": 101,
   "id": "4d596668",
   "metadata": {},
   "outputs": [],
   "source": [
    "result_sub['Survived'] = knn_pre2\n",
    "result_sub.to_csv('data/MCDC_sub03_knn.csv',index=False)"
   ]
  },
  {
   "cell_type": "markdown",
   "id": "d6a10991",
   "metadata": {},
   "source": [
    "### 앙상블 모델(Ensemble)\n",
    "- Voting : 서로 다른 모델이 예측한 결과 투표를 통해 결정\n",
    "    - 하드보팅 : 각 결과를 클래스값으로 출력해 다수결로 투표\n",
    "    - 소프트보팅 : 각 결과를 확률로 출력해서 확률값의 평균을 다수결로 투표\n",
    "- Bagging : 서로 같은 모델이 독립적으로 예측한 결과 투표를 통해 결정\n",
    "    - ex) random forest 모델(랜덤으로 구성한 데이터셋으로 의사결정나무 예측)\n",
    "- Boosting : 서로 같은 모델이 순차적으로 학습하여 오류를 개선하는 방식으로 결정"
   ]
  },
  {
   "cell_type": "code",
   "execution_count": 112,
   "id": "78b1dce8",
   "metadata": {},
   "outputs": [],
   "source": [
    "#모델 불러오기\n",
    "from sklearn.ensemble import VotingClassifier\n"
   ]
  },
  {
   "cell_type": "code",
   "execution_count": 103,
   "id": "d0f922ad",
   "metadata": {},
   "outputs": [],
   "source": [
    "#Voting 모델 사용\n",
    "#estimators=[]안에 사용하려는 모델들 집어넣기\n",
    "\n",
    "\n",
    "voting_model = VotingClassifier(estimators=[('knn1',knn_model), #()안의 knn1은 그냥 라벨 달아준 것\n",
    "                              ('tree1',tree_model),\n",
    "                              ('knn2',knn_model2)]) "
   ]
  },
  {
   "cell_type": "code",
   "execution_count": 104,
   "id": "a746367b",
   "metadata": {},
   "outputs": [
    {
     "data": {
      "text/html": [
       "<style>#sk-container-id-3 {color: black;background-color: white;}#sk-container-id-3 pre{padding: 0;}#sk-container-id-3 div.sk-toggleable {background-color: white;}#sk-container-id-3 label.sk-toggleable__label {cursor: pointer;display: block;width: 100%;margin-bottom: 0;padding: 0.3em;box-sizing: border-box;text-align: center;}#sk-container-id-3 label.sk-toggleable__label-arrow:before {content: \"▸\";float: left;margin-right: 0.25em;color: #696969;}#sk-container-id-3 label.sk-toggleable__label-arrow:hover:before {color: black;}#sk-container-id-3 div.sk-estimator:hover label.sk-toggleable__label-arrow:before {color: black;}#sk-container-id-3 div.sk-toggleable__content {max-height: 0;max-width: 0;overflow: hidden;text-align: left;background-color: #f0f8ff;}#sk-container-id-3 div.sk-toggleable__content pre {margin: 0.2em;color: black;border-radius: 0.25em;background-color: #f0f8ff;}#sk-container-id-3 input.sk-toggleable__control:checked~div.sk-toggleable__content {max-height: 200px;max-width: 100%;overflow: auto;}#sk-container-id-3 input.sk-toggleable__control:checked~label.sk-toggleable__label-arrow:before {content: \"▾\";}#sk-container-id-3 div.sk-estimator input.sk-toggleable__control:checked~label.sk-toggleable__label {background-color: #d4ebff;}#sk-container-id-3 div.sk-label input.sk-toggleable__control:checked~label.sk-toggleable__label {background-color: #d4ebff;}#sk-container-id-3 input.sk-hidden--visually {border: 0;clip: rect(1px 1px 1px 1px);clip: rect(1px, 1px, 1px, 1px);height: 1px;margin: -1px;overflow: hidden;padding: 0;position: absolute;width: 1px;}#sk-container-id-3 div.sk-estimator {font-family: monospace;background-color: #f0f8ff;border: 1px dotted black;border-radius: 0.25em;box-sizing: border-box;margin-bottom: 0.5em;}#sk-container-id-3 div.sk-estimator:hover {background-color: #d4ebff;}#sk-container-id-3 div.sk-parallel-item::after {content: \"\";width: 100%;border-bottom: 1px solid gray;flex-grow: 1;}#sk-container-id-3 div.sk-label:hover label.sk-toggleable__label {background-color: #d4ebff;}#sk-container-id-3 div.sk-serial::before {content: \"\";position: absolute;border-left: 1px solid gray;box-sizing: border-box;top: 0;bottom: 0;left: 50%;z-index: 0;}#sk-container-id-3 div.sk-serial {display: flex;flex-direction: column;align-items: center;background-color: white;padding-right: 0.2em;padding-left: 0.2em;position: relative;}#sk-container-id-3 div.sk-item {position: relative;z-index: 1;}#sk-container-id-3 div.sk-parallel {display: flex;align-items: stretch;justify-content: center;background-color: white;position: relative;}#sk-container-id-3 div.sk-item::before, #sk-container-id-3 div.sk-parallel-item::before {content: \"\";position: absolute;border-left: 1px solid gray;box-sizing: border-box;top: 0;bottom: 0;left: 50%;z-index: -1;}#sk-container-id-3 div.sk-parallel-item {display: flex;flex-direction: column;z-index: 1;position: relative;background-color: white;}#sk-container-id-3 div.sk-parallel-item:first-child::after {align-self: flex-end;width: 50%;}#sk-container-id-3 div.sk-parallel-item:last-child::after {align-self: flex-start;width: 50%;}#sk-container-id-3 div.sk-parallel-item:only-child::after {width: 0;}#sk-container-id-3 div.sk-dashed-wrapped {border: 1px dashed gray;margin: 0 0.4em 0.5em 0.4em;box-sizing: border-box;padding-bottom: 0.4em;background-color: white;}#sk-container-id-3 div.sk-label label {font-family: monospace;font-weight: bold;display: inline-block;line-height: 1.2em;}#sk-container-id-3 div.sk-label-container {text-align: center;}#sk-container-id-3 div.sk-container {/* jupyter's `normalize.less` sets `[hidden] { display: none; }` but bootstrap.min.css set `[hidden] { display: none !important; }` so we also need the `!important` here to be able to override the default hidden behavior on the sphinx rendered scikit-learn.org. See: https://github.com/scikit-learn/scikit-learn/issues/21755 */display: inline-block !important;position: relative;}#sk-container-id-3 div.sk-text-repr-fallback {display: none;}</style><div id=\"sk-container-id-3\" class=\"sk-top-container\"><div class=\"sk-text-repr-fallback\"><pre>VotingClassifier(estimators=[(&#x27;knn1&#x27;, KNeighborsClassifier()),\n",
       "                             (&#x27;tree1&#x27;, DecisionTreeClassifier(max_depth=4)),\n",
       "                             (&#x27;knn2&#x27;, KNeighborsClassifier())])</pre><b>In a Jupyter environment, please rerun this cell to show the HTML representation or trust the notebook. <br />On GitHub, the HTML representation is unable to render, please try loading this page with nbviewer.org.</b></div><div class=\"sk-container\" hidden><div class=\"sk-item sk-dashed-wrapped\"><div class=\"sk-label-container\"><div class=\"sk-label sk-toggleable\"><input class=\"sk-toggleable__control sk-hidden--visually\" id=\"sk-estimator-id-3\" type=\"checkbox\" ><label for=\"sk-estimator-id-3\" class=\"sk-toggleable__label sk-toggleable__label-arrow\">VotingClassifier</label><div class=\"sk-toggleable__content\"><pre>VotingClassifier(estimators=[(&#x27;knn1&#x27;, KNeighborsClassifier()),\n",
       "                             (&#x27;tree1&#x27;, DecisionTreeClassifier(max_depth=4)),\n",
       "                             (&#x27;knn2&#x27;, KNeighborsClassifier())])</pre></div></div></div><div class=\"sk-parallel\"><div class=\"sk-parallel-item\"><div class=\"sk-item\"><div class=\"sk-label-container\"><div class=\"sk-label sk-toggleable\"><label>knn1</label></div></div><div class=\"sk-serial\"><div class=\"sk-item\"><div class=\"sk-estimator sk-toggleable\"><input class=\"sk-toggleable__control sk-hidden--visually\" id=\"sk-estimator-id-4\" type=\"checkbox\" ><label for=\"sk-estimator-id-4\" class=\"sk-toggleable__label sk-toggleable__label-arrow\">KNeighborsClassifier</label><div class=\"sk-toggleable__content\"><pre>KNeighborsClassifier()</pre></div></div></div></div></div></div><div class=\"sk-parallel-item\"><div class=\"sk-item\"><div class=\"sk-label-container\"><div class=\"sk-label sk-toggleable\"><label>tree1</label></div></div><div class=\"sk-serial\"><div class=\"sk-item\"><div class=\"sk-estimator sk-toggleable\"><input class=\"sk-toggleable__control sk-hidden--visually\" id=\"sk-estimator-id-5\" type=\"checkbox\" ><label for=\"sk-estimator-id-5\" class=\"sk-toggleable__label sk-toggleable__label-arrow\">DecisionTreeClassifier</label><div class=\"sk-toggleable__content\"><pre>DecisionTreeClassifier(max_depth=4)</pre></div></div></div></div></div></div><div class=\"sk-parallel-item\"><div class=\"sk-item\"><div class=\"sk-label-container\"><div class=\"sk-label sk-toggleable\"><label>knn2</label></div></div><div class=\"sk-serial\"><div class=\"sk-item\"><div class=\"sk-estimator sk-toggleable\"><input class=\"sk-toggleable__control sk-hidden--visually\" id=\"sk-estimator-id-6\" type=\"checkbox\" ><label for=\"sk-estimator-id-6\" class=\"sk-toggleable__label sk-toggleable__label-arrow\">KNeighborsClassifier</label><div class=\"sk-toggleable__content\"><pre>KNeighborsClassifier()</pre></div></div></div></div></div></div></div></div></div></div>"
      ],
      "text/plain": [
       "VotingClassifier(estimators=[('knn1', KNeighborsClassifier()),\n",
       "                             ('tree1', DecisionTreeClassifier(max_depth=4)),\n",
       "                             ('knn2', KNeighborsClassifier())])"
      ]
     },
     "execution_count": 104,
     "metadata": {},
     "output_type": "execute_result"
    }
   ],
   "source": [
    "#교차검증\n",
    "voting_model.fit(t_X_train,y_train)\n"
   ]
  },
  {
   "cell_type": "code",
   "execution_count": 106,
   "id": "8405d6c8",
   "metadata": {},
   "outputs": [
    {
     "data": {
      "text/plain": [
       "0.809189630280585"
      ]
     },
     "execution_count": 106,
     "metadata": {},
     "output_type": "execute_result"
    }
   ],
   "source": [
    "cross_val_score(voting_model,t_X_train,y_train).mean()"
   ]
  },
  {
   "cell_type": "markdown",
   "id": "63ab0fb8",
   "metadata": {},
   "source": [
    "#### Bagging\n",
    "- 랜덤포레스트(Random Forest)"
   ]
  },
  {
   "cell_type": "code",
   "execution_count": 107,
   "id": "b7c3cbc0",
   "metadata": {},
   "outputs": [],
   "source": [
    "from sklearn.ensemble import RandomForestClassifier"
   ]
  },
  {
   "cell_type": "code",
   "execution_count": 108,
   "id": "c5622eae",
   "metadata": {},
   "outputs": [],
   "source": [
    "forest_model = RandomForestClassifier(n_estimators=100, random_state =15) \n",
    "#n_estimators : 사용할 나무의 개수"
   ]
  },
  {
   "cell_type": "code",
   "execution_count": 110,
   "id": "db3a5705",
   "metadata": {},
   "outputs": [
    {
     "data": {
      "text/plain": [
       "0.8058313979034587"
      ]
     },
     "execution_count": 110,
     "metadata": {},
     "output_type": "execute_result"
    }
   ],
   "source": [
    "#성능확인(교차검증)\n",
    "from sklearn.model_selection import cross_val_score\n",
    "\n",
    "cross_val_score(forest_model, X_train,y_train,cv=5).mean()"
   ]
  },
  {
   "cell_type": "markdown",
   "id": "a5ae72f8",
   "metadata": {},
   "source": [
    "#### Boosting\n",
    "- AdaBoost"
   ]
  },
  {
   "cell_type": "code",
   "execution_count": 113,
   "id": "034b1761",
   "metadata": {},
   "outputs": [],
   "source": [
    "from sklearn.ensemble import AdaBoostClassifier"
   ]
  },
  {
   "cell_type": "code",
   "execution_count": 116,
   "id": "67d3fd41",
   "metadata": {},
   "outputs": [],
   "source": [
    "#객체 생성\n",
    "ada_model = AdaBoostClassifier(n_estimators= 100, random_state=15)"
   ]
  },
  {
   "cell_type": "code",
   "execution_count": 117,
   "id": "7af39c78",
   "metadata": {},
   "outputs": [
    {
     "data": {
      "text/plain": [
       "0.8182160567447117"
      ]
     },
     "execution_count": 117,
     "metadata": {},
     "output_type": "execute_result"
    }
   ],
   "source": [
    "cross_val_score(ada_model,X_train,y_train, cv=5).mean()"
   ]
  },
  {
   "cell_type": "markdown",
   "id": "8c9c58b0",
   "metadata": {},
   "source": [
    "### GridSearchCV\n",
    "- sklearn에서 제공해 주는 모델 성능 개선 함수\n",
    "- 사용자가 모델선택, 하이퍼파라미터 선택\n",
    "- 함수가 순차적으로 모든 경우의 수를 계산하여 최적의 하이퍼파라미터를 제시해 주는 방법\n",
    "     #### 최적의 하이퍼파라미터 찾아주는 도구!"
   ]
  },
  {
   "cell_type": "code",
   "execution_count": 118,
   "id": "640da972",
   "metadata": {},
   "outputs": [],
   "source": [
    "from sklearn.model_selection import GridSearchCV"
   ]
  },
  {
   "cell_type": "code",
   "execution_count": 119,
   "id": "f43812d4",
   "metadata": {},
   "outputs": [
    {
     "data": {
      "text/html": [
       "<style>#sk-container-id-5 {color: black;background-color: white;}#sk-container-id-5 pre{padding: 0;}#sk-container-id-5 div.sk-toggleable {background-color: white;}#sk-container-id-5 label.sk-toggleable__label {cursor: pointer;display: block;width: 100%;margin-bottom: 0;padding: 0.3em;box-sizing: border-box;text-align: center;}#sk-container-id-5 label.sk-toggleable__label-arrow:before {content: \"▸\";float: left;margin-right: 0.25em;color: #696969;}#sk-container-id-5 label.sk-toggleable__label-arrow:hover:before {color: black;}#sk-container-id-5 div.sk-estimator:hover label.sk-toggleable__label-arrow:before {color: black;}#sk-container-id-5 div.sk-toggleable__content {max-height: 0;max-width: 0;overflow: hidden;text-align: left;background-color: #f0f8ff;}#sk-container-id-5 div.sk-toggleable__content pre {margin: 0.2em;color: black;border-radius: 0.25em;background-color: #f0f8ff;}#sk-container-id-5 input.sk-toggleable__control:checked~div.sk-toggleable__content {max-height: 200px;max-width: 100%;overflow: auto;}#sk-container-id-5 input.sk-toggleable__control:checked~label.sk-toggleable__label-arrow:before {content: \"▾\";}#sk-container-id-5 div.sk-estimator input.sk-toggleable__control:checked~label.sk-toggleable__label {background-color: #d4ebff;}#sk-container-id-5 div.sk-label input.sk-toggleable__control:checked~label.sk-toggleable__label {background-color: #d4ebff;}#sk-container-id-5 input.sk-hidden--visually {border: 0;clip: rect(1px 1px 1px 1px);clip: rect(1px, 1px, 1px, 1px);height: 1px;margin: -1px;overflow: hidden;padding: 0;position: absolute;width: 1px;}#sk-container-id-5 div.sk-estimator {font-family: monospace;background-color: #f0f8ff;border: 1px dotted black;border-radius: 0.25em;box-sizing: border-box;margin-bottom: 0.5em;}#sk-container-id-5 div.sk-estimator:hover {background-color: #d4ebff;}#sk-container-id-5 div.sk-parallel-item::after {content: \"\";width: 100%;border-bottom: 1px solid gray;flex-grow: 1;}#sk-container-id-5 div.sk-label:hover label.sk-toggleable__label {background-color: #d4ebff;}#sk-container-id-5 div.sk-serial::before {content: \"\";position: absolute;border-left: 1px solid gray;box-sizing: border-box;top: 0;bottom: 0;left: 50%;z-index: 0;}#sk-container-id-5 div.sk-serial {display: flex;flex-direction: column;align-items: center;background-color: white;padding-right: 0.2em;padding-left: 0.2em;position: relative;}#sk-container-id-5 div.sk-item {position: relative;z-index: 1;}#sk-container-id-5 div.sk-parallel {display: flex;align-items: stretch;justify-content: center;background-color: white;position: relative;}#sk-container-id-5 div.sk-item::before, #sk-container-id-5 div.sk-parallel-item::before {content: \"\";position: absolute;border-left: 1px solid gray;box-sizing: border-box;top: 0;bottom: 0;left: 50%;z-index: -1;}#sk-container-id-5 div.sk-parallel-item {display: flex;flex-direction: column;z-index: 1;position: relative;background-color: white;}#sk-container-id-5 div.sk-parallel-item:first-child::after {align-self: flex-end;width: 50%;}#sk-container-id-5 div.sk-parallel-item:last-child::after {align-self: flex-start;width: 50%;}#sk-container-id-5 div.sk-parallel-item:only-child::after {width: 0;}#sk-container-id-5 div.sk-dashed-wrapped {border: 1px dashed gray;margin: 0 0.4em 0.5em 0.4em;box-sizing: border-box;padding-bottom: 0.4em;background-color: white;}#sk-container-id-5 div.sk-label label {font-family: monospace;font-weight: bold;display: inline-block;line-height: 1.2em;}#sk-container-id-5 div.sk-label-container {text-align: center;}#sk-container-id-5 div.sk-container {/* jupyter's `normalize.less` sets `[hidden] { display: none; }` but bootstrap.min.css set `[hidden] { display: none !important; }` so we also need the `!important` here to be able to override the default hidden behavior on the sphinx rendered scikit-learn.org. See: https://github.com/scikit-learn/scikit-learn/issues/21755 */display: inline-block !important;position: relative;}#sk-container-id-5 div.sk-text-repr-fallback {display: none;}</style><div id=\"sk-container-id-5\" class=\"sk-top-container\"><div class=\"sk-text-repr-fallback\"><pre>GridSearchCV(cv=5, estimator=RandomForestClassifier(random_state=15),\n",
       "             param_grid={&#x27;max_depth&#x27;: [3, 4, 5, 7, 9],\n",
       "                         &#x27;max_leaf_nodes&#x27;: [2, 5, 10],\n",
       "                         &#x27;min_samples_leaf&#x27;: [1, 2, 4, 6],\n",
       "                         &#x27;min_samples_split&#x27;: [3, 4, 5, 7],\n",
       "                         &#x27;n_estimators&#x27;: [50, 100, 150, 200]},\n",
       "             scoring=&#x27;accuracy&#x27;)</pre><b>In a Jupyter environment, please rerun this cell to show the HTML representation or trust the notebook. <br />On GitHub, the HTML representation is unable to render, please try loading this page with nbviewer.org.</b></div><div class=\"sk-container\" hidden><div class=\"sk-item sk-dashed-wrapped\"><div class=\"sk-label-container\"><div class=\"sk-label sk-toggleable\"><input class=\"sk-toggleable__control sk-hidden--visually\" id=\"sk-estimator-id-8\" type=\"checkbox\" ><label for=\"sk-estimator-id-8\" class=\"sk-toggleable__label sk-toggleable__label-arrow\">GridSearchCV</label><div class=\"sk-toggleable__content\"><pre>GridSearchCV(cv=5, estimator=RandomForestClassifier(random_state=15),\n",
       "             param_grid={&#x27;max_depth&#x27;: [3, 4, 5, 7, 9],\n",
       "                         &#x27;max_leaf_nodes&#x27;: [2, 5, 10],\n",
       "                         &#x27;min_samples_leaf&#x27;: [1, 2, 4, 6],\n",
       "                         &#x27;min_samples_split&#x27;: [3, 4, 5, 7],\n",
       "                         &#x27;n_estimators&#x27;: [50, 100, 150, 200]},\n",
       "             scoring=&#x27;accuracy&#x27;)</pre></div></div></div><div class=\"sk-parallel\"><div class=\"sk-parallel-item\"><div class=\"sk-item\"><div class=\"sk-label-container\"><div class=\"sk-label sk-toggleable\"><input class=\"sk-toggleable__control sk-hidden--visually\" id=\"sk-estimator-id-9\" type=\"checkbox\" ><label for=\"sk-estimator-id-9\" class=\"sk-toggleable__label sk-toggleable__label-arrow\">estimator: RandomForestClassifier</label><div class=\"sk-toggleable__content\"><pre>RandomForestClassifier(random_state=15)</pre></div></div></div><div class=\"sk-serial\"><div class=\"sk-item\"><div class=\"sk-estimator sk-toggleable\"><input class=\"sk-toggleable__control sk-hidden--visually\" id=\"sk-estimator-id-10\" type=\"checkbox\" ><label for=\"sk-estimator-id-10\" class=\"sk-toggleable__label sk-toggleable__label-arrow\">RandomForestClassifier</label><div class=\"sk-toggleable__content\"><pre>RandomForestClassifier(random_state=15)</pre></div></div></div></div></div></div></div></div></div></div>"
      ],
      "text/plain": [
       "GridSearchCV(cv=5, estimator=RandomForestClassifier(random_state=15),\n",
       "             param_grid={'max_depth': [3, 4, 5, 7, 9],\n",
       "                         'max_leaf_nodes': [2, 5, 10],\n",
       "                         'min_samples_leaf': [1, 2, 4, 6],\n",
       "                         'min_samples_split': [3, 4, 5, 7],\n",
       "                         'n_estimators': [50, 100, 150, 200]},\n",
       "             scoring='accuracy')"
      ]
     },
     "execution_count": 119,
     "metadata": {},
     "output_type": "execute_result"
    }
   ],
   "source": [
    "# 1. 하이퍼 파라미터의 경우의 수 설정\n",
    "# 딕셔너리 형태로 지정\n",
    "\n",
    "params = {'n_estimators':[50,100,150,200],\n",
    "         'max_depth':[3,4,5,7,9],\n",
    "         'max_leaf_nodes':[2,5,10],\n",
    "         'min_samples_split':[3,4,5,7],\n",
    "         'min_samples_leaf':[1,2,4,6]}\n",
    "\n",
    "#2. 대상모델 설정\n",
    "\n",
    "test_model = RandomForestClassifier(random_state=15) \n",
    "#경우의 수에 따라 하이퍼파라미터가 계속 변경되므로 데이터를 \n",
    "#고정해 주기 위해 random_state로 랜덤수를 고정해주는 것\n",
    "\n",
    "#3. 대상모델에게 GridSearch 진행\n",
    "grid = GridSearchCV(test_model, params, cv=5, scoring='accuracy') \n",
    "#scoring='accuracy' : 모델의 평가지표로서 정확도(accuracy)를 쓰겠다는 뜻\n",
    "\n",
    "#4. 실행\n",
    "\n",
    "grid.fit(X_train,y_train)"
   ]
  },
  {
   "cell_type": "code",
   "execution_count": 120,
   "id": "ed4e020b",
   "metadata": {},
   "outputs": [
    {
     "name": "stdout",
     "output_type": "stream",
     "text": [
      "최적의 하이퍼파라미터 조합 :  {'max_depth': 5, 'max_leaf_nodes': 10, 'min_samples_leaf': 1, 'min_samples_split': 5, 'n_estimators': 200}\n",
      "최고의 정확도 :  0.8316301550436258\n"
     ]
    }
   ],
   "source": [
    "#최적의 하이퍼파라미터 조합 및 정확도 확인\n",
    "print('최적의 하이퍼파라미터 조합 : ', grid.best_params_)\n",
    "print('최고의 정확도 : ', grid.best_score_)"
   ]
  },
  {
   "cell_type": "code",
   "execution_count": 126,
   "id": "ac1f1566",
   "metadata": {},
   "outputs": [],
   "source": [
    "#주의!\n",
    "#최적의 하이퍼파라미터를 찾은 것이지 모델에 학습시킨 것은 아니므로 반드시 학습 진행 해주어야\n",
    "\n",
    "best_model = RandomForestClassifier(n_estimators = 200,\n",
    "                       max_depth = 5,\n",
    "                       max_leaf_nodes = 10,\n",
    "                       min_samples_split = 5,\n",
    "                       min_samples_leaf = 1)"
   ]
  },
  {
   "cell_type": "code",
   "execution_count": 128,
   "id": "63ed0ff5",
   "metadata": {},
   "outputs": [
    {
     "data": {
      "text/plain": [
       "0.8316238779737619"
      ]
     },
     "execution_count": 128,
     "metadata": {},
     "output_type": "execute_result"
    }
   ],
   "source": [
    "cross_val_score(best_model,X_train,y_train).mean()"
   ]
  }
 ],
 "metadata": {
  "kernelspec": {
   "display_name": "Python 3 (ipykernel)",
   "language": "python",
   "name": "python3"
  },
  "language_info": {
   "codemirror_mode": {
    "name": "ipython",
    "version": 3
   },
   "file_extension": ".py",
   "mimetype": "text/x-python",
   "name": "python",
   "nbconvert_exporter": "python",
   "pygments_lexer": "ipython3",
   "version": "3.11.5"
  }
 },
 "nbformat": 4,
 "nbformat_minor": 5
}
